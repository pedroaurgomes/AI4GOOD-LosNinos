{
 "cells": [
  {
   "cell_type": "code",
   "execution_count": 1,
   "metadata": {},
   "outputs": [],
   "source": [
    "import pandas as pd"
   ]
  },
  {
   "cell_type": "code",
   "execution_count": 18,
   "metadata": {},
   "outputs": [],
   "source": [
    "df1 = pd.read_csv('./Acidentes_DadosAbertos_impala_20220215.csv', nrows=100, sep=';')\n",
    "df2 = pd.read_csv('./Localidade_DadosAbertos_impala_20220215.csv', nrows=100, sep=';')\n",
    "df3 = pd.read_csv('./TipoVeiculo_DadosAbertos_impala_20220215.csv', nrows=100, sep=';')\n",
    "df4 = pd.read_csv('./Vitimas_DadosAbertos_impala_20220215.csv', nrows=100, sep=';')"
   ]
  },
  {
   "cell_type": "code",
   "execution_count": 19,
   "metadata": {},
   "outputs": [
    {
     "data": {
      "text/plain": [
       "Index(['numacidente', 'chvlocalidade', 'datacidente', 'ufacidente',\n",
       "       'anoacidente', 'codigoibge', 'diasemana', 'fasedia', 'tpacidente',\n",
       "       'condmeteorologica', 'tprodovia', 'condpista', 'tpcruzamento',\n",
       "       'tppavimento', 'tpcurva', 'limvelocidade', 'tppista', 'indguardrail',\n",
       "       'indcantcentral', 'indacostamento', 'qtdeacidente', 'qtdeferidosilesos',\n",
       "       'qtdeobitos', 'qtdeenvolvidos'],\n",
       "      dtype='object')"
      ]
     },
     "execution_count": 19,
     "metadata": {},
     "output_type": "execute_result"
    }
   ],
   "source": [
    "df1.columns"
   ]
  },
  {
   "cell_type": "code",
   "execution_count": 20,
   "metadata": {},
   "outputs": [
    {
     "data": {
      "text/plain": [
       "Index(['chvlocalidade', 'anoreferencia', 'regiao', 'uf', 'codigoibge',\n",
       "       'municipio', 'regiaometropolitana', 'qtdehabitantes', 'frotatotal',\n",
       "       'frotacirculante'],\n",
       "      dtype='object')"
      ]
     },
     "execution_count": 20,
     "metadata": {},
     "output_type": "execute_result"
    }
   ],
   "source": [
    "df2.columns"
   ]
  },
  {
   "cell_type": "code",
   "execution_count": 21,
   "metadata": {},
   "outputs": [
    {
     "data": {
      "text/plain": [
       "Index(['numacidente', 'tipoveiculo', 'indveicestrangeiro', 'qtdeveiculos'], dtype='object')"
      ]
     },
     "execution_count": 21,
     "metadata": {},
     "output_type": "execute_result"
    }
   ],
   "source": [
    "df3.columns"
   ]
  },
  {
   "cell_type": "code",
   "execution_count": 22,
   "metadata": {},
   "outputs": [
    {
     "data": {
      "text/plain": [
       "Index(['numacidente', 'chvlocalidade', 'datacidente', 'ufacidente',\n",
       "       'anoacidente', 'faixaidade', 'genero', 'tpoenvolvido', 'gravidadelesao',\n",
       "       'equipseguranca', 'indmotorista', 'suspalcool', 'qtdeacidente',\n",
       "       'qtdeenvolvidos', 'qtdeobitos', 'qtdeferidosilesos'],\n",
       "      dtype='object')"
      ]
     },
     "execution_count": 22,
     "metadata": {},
     "output_type": "execute_result"
    }
   ],
   "source": [
    "df4.columns"
   ]
  }
 ],
 "metadata": {
  "kernelspec": {
   "display_name": "imaflora",
   "language": "python",
   "name": "python3"
  },
  "language_info": {
   "codemirror_mode": {
    "name": "ipython",
    "version": 3
   },
   "file_extension": ".py",
   "mimetype": "text/x-python",
   "name": "python",
   "nbconvert_exporter": "python",
   "pygments_lexer": "ipython3",
   "version": "3.10.8"
  }
 },
 "nbformat": 4,
 "nbformat_minor": 2
}
