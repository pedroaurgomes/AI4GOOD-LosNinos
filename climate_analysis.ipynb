{
 "cells": [
  {
   "cell_type": "code",
   "execution_count": 68,
   "metadata": {},
   "outputs": [],
   "source": [
    "import os\n",
    "import numpy as np\n",
    "import pandas as pd \n",
    "import networkx as nx"
   ]
  },
  {
   "cell_type": "code",
   "execution_count": 69,
   "metadata": {},
   "outputs": [],
   "source": [
    "class CityData:\n",
    "    def __init__(self, text: list[str]):\n",
    "        self.region = None\n",
    "        self.uf = None\n",
    "        self.station = None\n",
    "        self.code = None\n",
    "        self.latitude = None\n",
    "        self.longitude = None\n",
    "        self.altitude = None\n",
    "        self.data_fundacao = None\n",
    "\n",
    "        self.parse_text(text)\n",
    "        self.time_series = self.parse_time_series(text)\n",
    "\n",
    "    def sanitize_value(self, value: str):\n",
    "        return value.split(';')[1].strip()\n",
    "\n",
    "    def parse_text(self, text: list[str]):\n",
    "        self.region = self.sanitize_value(text[0])\n",
    "        self.uf = self.sanitize_value(text[1])\n",
    "        self.station = self.sanitize_value(text[2])\n",
    "        self.code = self.sanitize_value(text[3])\n",
    "        self.latitude = self.sanitize_value(text[4])\n",
    "        self.longitude = self.sanitize_value(text[5])\n",
    "        self.altitude = self.sanitize_value(text[6])\n",
    "        self.data_fundacao = self.sanitize_value(text[7])\n",
    "\n",
    "    def parse_time_series(self, text: list[str]):\n",
    "        header = [col for col in text[8].split(';') if col != '\\n']\n",
    "        mapping = {col.strip(): [] for col in header}\n",
    "        for line in text[9:]:\n",
    "            for idx, item in enumerate(line.split(';')):\n",
    "                if item != '\\n':\n",
    "                    item = item.strip()\n",
    "                    if idx >= 2 and ',':\n",
    "                        item = float(item)\n",
    "                    mapping[header[idx]].append(item)\n",
    "\n",
    "        \n",
    "        return pd.DataFrame(mapping)"
   ]
  },
  {
   "cell_type": "code",
   "execution_count": 70,
   "metadata": {},
   "outputs": [
    {
     "name": "stdout",
     "output_type": "stream",
     "text": [
      "INMET_SE_SP_A701_SAO PAULO - MIRANTE_01-01-2023_A_31-10-2023.CSV\n"
     ]
    },
    {
     "ename": "ValueError",
     "evalue": "could not convert string to float: '927,2'",
     "output_type": "error",
     "traceback": [
      "\u001b[1;31m---------------------------------------------------------------------------\u001b[0m",
      "\u001b[1;31mValueError\u001b[0m                                Traceback (most recent call last)",
      "\u001b[1;32mc:\\Users\\bmarquescost\\Desktop\\usp\\ia4good-hackathon\\clima\\analysis.ipynb Cell 3\u001b[0m line \u001b[0;36m<cell line: 3>\u001b[1;34m()\u001b[0m\n\u001b[0;32m      <a href='vscode-notebook-cell:/c%3A/Users/bmarquescost/Desktop/usp/ia4good-hackathon/clima/analysis.ipynb#W3sZmlsZQ%3D%3D?line=3'>4</a>\u001b[0m \u001b[39mprint\u001b[39m(file)\n\u001b[0;32m      <a href='vscode-notebook-cell:/c%3A/Users/bmarquescost/Desktop/usp/ia4good-hackathon/clima/analysis.ipynb#W3sZmlsZQ%3D%3D?line=4'>5</a>\u001b[0m \u001b[39mwith\u001b[39;00m \u001b[39mopen\u001b[39m(os\u001b[39m.\u001b[39mpath\u001b[39m.\u001b[39mjoin(\u001b[39m'\u001b[39m\u001b[39m./data\u001b[39m\u001b[39m'\u001b[39m, file), \u001b[39m'\u001b[39m\u001b[39mr\u001b[39m\u001b[39m'\u001b[39m, encoding\u001b[39m=\u001b[39m\u001b[39m'\u001b[39m\u001b[39mlatin1\u001b[39m\u001b[39m'\u001b[39m) \u001b[39mas\u001b[39;00m f:\n\u001b[1;32m----> <a href='vscode-notebook-cell:/c%3A/Users/bmarquescost/Desktop/usp/ia4good-hackathon/clima/analysis.ipynb#W3sZmlsZQ%3D%3D?line=5'>6</a>\u001b[0m     data\u001b[39m.\u001b[39mappend(CityData(f\u001b[39m.\u001b[39;49mreadlines()))\n",
      "\u001b[1;32mc:\\Users\\bmarquescost\\Desktop\\usp\\ia4good-hackathon\\clima\\analysis.ipynb Cell 3\u001b[0m line \u001b[0;36mCityData.__init__\u001b[1;34m(self, text)\u001b[0m\n\u001b[0;32m     <a href='vscode-notebook-cell:/c%3A/Users/bmarquescost/Desktop/usp/ia4good-hackathon/clima/analysis.ipynb#W3sZmlsZQ%3D%3D?line=9'>10</a>\u001b[0m \u001b[39mself\u001b[39m\u001b[39m.\u001b[39mdata_fundacao \u001b[39m=\u001b[39m \u001b[39mNone\u001b[39;00m\n\u001b[0;32m     <a href='vscode-notebook-cell:/c%3A/Users/bmarquescost/Desktop/usp/ia4good-hackathon/clima/analysis.ipynb#W3sZmlsZQ%3D%3D?line=11'>12</a>\u001b[0m \u001b[39mself\u001b[39m\u001b[39m.\u001b[39mparse_text(text)\n\u001b[1;32m---> <a href='vscode-notebook-cell:/c%3A/Users/bmarquescost/Desktop/usp/ia4good-hackathon/clima/analysis.ipynb#W3sZmlsZQ%3D%3D?line=12'>13</a>\u001b[0m \u001b[39mself\u001b[39m\u001b[39m.\u001b[39mtime_series \u001b[39m=\u001b[39m \u001b[39mself\u001b[39;49m\u001b[39m.\u001b[39;49mparse_time_series(text)\n",
      "\u001b[1;32mc:\\Users\\bmarquescost\\Desktop\\usp\\ia4good-hackathon\\clima\\analysis.ipynb Cell 3\u001b[0m line \u001b[0;36mCityData.parse_time_series\u001b[1;34m(self, text)\u001b[0m\n\u001b[0;32m     <a href='vscode-notebook-cell:/c%3A/Users/bmarquescost/Desktop/usp/ia4good-hackathon/clima/analysis.ipynb#W3sZmlsZQ%3D%3D?line=33'>34</a>\u001b[0m             item \u001b[39m=\u001b[39m item\u001b[39m.\u001b[39mstrip()\n\u001b[0;32m     <a href='vscode-notebook-cell:/c%3A/Users/bmarquescost/Desktop/usp/ia4good-hackathon/clima/analysis.ipynb#W3sZmlsZQ%3D%3D?line=34'>35</a>\u001b[0m             \u001b[39mif\u001b[39;00m idx \u001b[39m>\u001b[39m\u001b[39m=\u001b[39m \u001b[39m2\u001b[39m \u001b[39mand\u001b[39;00m \u001b[39m'\u001b[39m\u001b[39m,\u001b[39m\u001b[39m'\u001b[39m:\n\u001b[1;32m---> <a href='vscode-notebook-cell:/c%3A/Users/bmarquescost/Desktop/usp/ia4good-hackathon/clima/analysis.ipynb#W3sZmlsZQ%3D%3D?line=35'>36</a>\u001b[0m                 item \u001b[39m=\u001b[39m \u001b[39mfloat\u001b[39;49m(item)\n\u001b[0;32m     <a href='vscode-notebook-cell:/c%3A/Users/bmarquescost/Desktop/usp/ia4good-hackathon/clima/analysis.ipynb#W3sZmlsZQ%3D%3D?line=36'>37</a>\u001b[0m             mapping[header[idx]]\u001b[39m.\u001b[39mappend(item)\n\u001b[0;32m     <a href='vscode-notebook-cell:/c%3A/Users/bmarquescost/Desktop/usp/ia4good-hackathon/clima/analysis.ipynb#W3sZmlsZQ%3D%3D?line=39'>40</a>\u001b[0m \u001b[39mreturn\u001b[39;00m pd\u001b[39m.\u001b[39mDataFrame(mapping)\n",
      "\u001b[1;31mValueError\u001b[0m: could not convert string to float: '927,2'"
     ]
    }
   ],
   "source": [
    "data: list[CityData] = []\n",
    "files = os.listdir('./data')\n",
    "for file in files:\n",
    "    print(file)\n",
    "    with open(os.path.join('./data', file), 'r', encoding='latin1') as f:\n",
    "        data.append(CityData(f.readlines()))"
   ]
  },
  {
   "cell_type": "code",
   "execution_count": 71,
   "metadata": {},
   "outputs": [],
   "source": [
    "for i, city in enumerate(data):\n",
    "    for other_city in data[i + 1:]:\n",
    "        print(np.corrcoef(city.time_series, other_city.time_series))"
   ]
  }
 ],
 "metadata": {
  "kernelspec": {
   "display_name": "imaflora",
   "language": "python",
   "name": "python3"
  },
  "language_info": {
   "codemirror_mode": {
    "name": "ipython",
    "version": 3
   },
   "file_extension": ".py",
   "mimetype": "text/x-python",
   "name": "python",
   "nbconvert_exporter": "python",
   "pygments_lexer": "ipython3",
   "version": "3.10.8"
  }
 },
 "nbformat": 4,
 "nbformat_minor": 2
}
