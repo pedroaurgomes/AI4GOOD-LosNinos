{
 "cells": [
  {
   "cell_type": "code",
   "execution_count": 99,
   "metadata": {},
   "outputs": [],
   "source": [
    "import os\n",
    "import tqdm\n",
    "import numpy as np\n",
    "import pandas as pd \n",
    "import networkx as nx\n",
    "import matplotlib.pyplot as plt"
   ]
  },
  {
   "cell_type": "code",
   "execution_count": 86,
   "metadata": {},
   "outputs": [],
   "source": [
    "class CityData:\n",
    "    def __init__(self, text: list[str]):\n",
    "        self.region = None\n",
    "        self.uf = None\n",
    "        self.station = None\n",
    "        self.code = None\n",
    "        self.latitude = None\n",
    "        self.longitude = None\n",
    "        self.altitude = None\n",
    "        self.fundation_date = None\n",
    "\n",
    "        self.parse_text(text)\n",
    "        self.time_series = self.parse_time_series(text)\n",
    "\n",
    "    def sanitize_value(self, value: str):\n",
    "        return value.split(';')[1].strip()\n",
    "\n",
    "    def parse_text(self, text: list[str]):\n",
    "        self.region = self.sanitize_value(text[0])\n",
    "        self.uf = self.sanitize_value(text[1])\n",
    "        self.station = self.sanitize_value(text[2])\n",
    "        self.code = self.sanitize_value(text[3])\n",
    "        self.latitude = self.sanitize_value(text[4])\n",
    "        self.longitude = self.sanitize_value(text[5])\n",
    "        self.altitude = self.sanitize_value(text[6])\n",
    "        self.fundation_date = self.sanitize_value(text[7])\n",
    "\n",
    "    def parse_time_series(self, text: list[str]):\n",
    "        header = [col for col in text[8].split(';') if col != '\\n']\n",
    "        mapping = {col.strip(): [] for col in header}\n",
    "        for line in text[9:]:\n",
    "            for idx, item in enumerate(line.split(';')):\n",
    "                if item != '\\n':\n",
    "                    item = item.strip()\n",
    "                    item = item.replace(',','.')\n",
    "                    if idx >= 2 and ',' :\n",
    "                        if item != \"\":\n",
    "                            item = float(item)\n",
    "                        else:\n",
    "                            item = None\n",
    "                    mapping[header[idx]].append(item)\n",
    "\n",
    "        \n",
    "        return pd.DataFrame(mapping)\n",
    "\n",
    "\n",
    "    def get_temperature_series(self):\n",
    "        self.temperature_series = self.time_series['TEMPERATURA MÁXIMA NA HORA ANT. (AUT) (°C)'].copy()\n",
    "        self.temperature_series.fillna(self.temperature_series.mean(), inplace=True)"
   ]
  },
  {
   "cell_type": "code",
   "execution_count": 137,
   "metadata": {},
   "outputs": [
    {
     "name": "stdout",
     "output_type": "stream",
     "text": [
      "INMET_SE_SP_A701_SAO PAULO - MIRANTE_01-01-2023_A_31-10-2023.CSV\n",
      "INMET_SE_SP_A705_BAURU_01-01-2023_A_31-10-2023.CSV\n",
      "INMET_SE_SP_A706_CAMPOS DO JORDAO_01-01-2023_A_31-10-2023.CSV\n",
      "INMET_SE_SP_A707_PRESIDENTE PRUDENTE_01-01-2023_A_31-10-2023.CSV\n",
      "INMET_SE_SP_A708_FRANCA_01-01-2023_A_31-10-2023.CSV\n",
      "INMET_SE_SP_A711_SAO CARLOS_01-01-2023_A_31-10-2023.CSV\n",
      "INMET_SE_SP_A712_IGUAPE_01-01-2023_A_31-10-2023.CSV\n",
      "INMET_SE_SP_A713_SOROCABA_01-01-2023_A_31-10-2023.CSV\n",
      "INMET_SE_SP_A714_ITAPEVA_01-01-2023_A_31-10-2023.CSV\n",
      "INMET_SE_SP_A715_SAO MIGUEL ARCANJO_01-01-2023_A_31-10-2023.CSV\n",
      "INMET_SE_SP_A716_OURINHOS_01-01-2023_A_31-10-2023.CSV\n",
      "INMET_SE_SP_A718_RANCHARIA_01-01-2023_A_31-10-2023.CSV\n",
      "INMET_SE_SP_A725_AVARE_01-01-2023_A_31-10-2023.CSV\n",
      "INMET_SE_SP_A726_PIRACICABA_01-01-2023_A_31-10-2023.CSV\n",
      "INMET_SE_SP_A727_LINS_01-01-2023_A_31-10-2023.CSV\n",
      "INMET_SE_SP_A728_TAUBATE_01-01-2023_A_31-10-2023.CSV\n",
      "INMET_SE_SP_A733_JALES_01-01-2023_A_31-10-2023.CSV\n",
      "INMET_SE_SP_A734_VALPARAISO_01-01-2023_A_31-10-2023.CSV\n",
      "INMET_SE_SP_A735_JOSE BONIFACIO_01-01-2023_A_31-10-2023.CSV\n",
      "INMET_SE_SP_A736_ARIRANHA_01-01-2023_A_31-10-2023.CSV\n",
      "INMET_SE_SP_A737_IBITINGA_01-01-2023_A_31-10-2023.CSV\n",
      "INMET_SE_SP_A738_CASA BRANCA_01-01-2023_A_31-10-2023.CSV\n",
      "INMET_SE_SP_A739_ITAPIRA_01-01-2023_A_31-10-2023.CSV\n",
      "INMET_SE_SP_A740_SAO LUIZ DO PARAITINGA_01-01-2023_A_31-10-2023.CSV\n",
      "INMET_SE_SP_A741_BARRA BONITA_01-01-2023_A_31-10-2023.CSV\n",
      "INMET_SE_SP_A744_BRAGANCA PAULISTA_01-01-2023_A_31-10-2023.CSV\n",
      "INMET_SE_SP_A746_BARRA DO TURVO_01-01-2023_A_31-10-2023.CSV\n",
      "INMET_SE_SP_A747_PRADOPOLIS_01-01-2023_A_31-10-2023.CSV\n",
      "INMET_SE_SP_A748_BARRETOS_01-01-2023_A_31-10-2023.CSV\n",
      "INMET_SE_SP_A753_ITUVERAVA_01-01-2023_A_31-10-2023.CSV\n",
      "INMET_SE_SP_A755_BARUERI_01-01-2023_A_31-10-2023.CSV\n",
      "INMET_SE_SP_A762_DRACENA_01-01-2023_A_31-10-2023.CSV\n",
      "INMET_SE_SP_A763_MARILIA_01-01-2023_A_31-10-2023.CSV\n",
      "INMET_SE_SP_A764_BEBEDOURO_01-01-2023_A_31-10-2023.CSV\n",
      "INMET_SE_SP_A765_BERTIOGA_01-01-2023_A_31-10-2023.CSV\n",
      "INMET_SE_SP_A766_REGISTRO_01-01-2023_A_31-10-2023.CSV\n",
      "INMET_SE_SP_A768_TUPA_01-01-2023_A_31-10-2023.CSV\n",
      "INMET_SE_SP_A769_CACHOEIRA PAULISTA_01-01-2023_A_31-10-2023.CSV\n",
      "INMET_SE_SP_A770_SAO SIMAO_01-01-2023_A_31-10-2023.CSV\n",
      "INMET_SE_SP_A771_SAO PAULO - INTERLAGOS_01-01-2023_A_31-10-2023.CSV\n"
     ]
    }
   ],
   "source": [
    "PATH = './../clima/data'\n",
    "\n",
    "data: list[CityData] = []\n",
    "files = [file for file in os.listdir(os.path.normpath(PATH)) if '_SP_A' in file]\n",
    "for file in files:\n",
    "    print(file)\n",
    "    with open(os.path.normpath(os.path.join(PATH, file)), 'r', encoding='latin1') as f:\n",
    "        data.append(CityData(f.readlines()))"
   ]
  },
  {
   "cell_type": "markdown",
   "metadata": {},
   "source": [
    "Para simplificar, vamos trabalhar apenas com uma série temporal de cada cidade. Tomaremos a temperatura máxima na hora anterior.\n"
   ]
  },
  {
   "cell_type": "code",
   "execution_count": 88,
   "metadata": {},
   "outputs": [],
   "source": [
    "def get_all_temperature_series(data):\n",
    "    for city in data:\n",
    "        city.get_temperature_series()\n",
    "\n",
    "get_all_temperature_series(data)"
   ]
  },
  {
   "cell_type": "code",
   "execution_count": 116,
   "metadata": {},
   "outputs": [],
   "source": [
    "graph = nx.Graph()\n",
    "\n",
    "graph.add_nodes_from((city.station, city.uf) for city in data)"
   ]
  },
  {
   "cell_type": "code",
   "execution_count": 117,
   "metadata": {},
   "outputs": [
    {
     "name": "stderr",
     "output_type": "stream",
     "text": [
      "100%|██████████| 566/566 [00:56<00:00,  9.97it/s]\n"
     ]
    }
   ],
   "source": [
    "for city1 in tqdm.tqdm(data):\n",
    "    for city2 in data:\n",
    "        if city1.station == city2.station and city1.uf == city2.uf:\n",
    "            continue\n",
    "\n",
    "        correlation = np.corrcoef(city1.temperature_series, city2.temperature_series)\n",
    "        graph.add_edge((city1.station, city1.uf), (city2.station, city2.uf), weight=correlation[0][1])"
   ]
  },
  {
   "cell_type": "code",
   "execution_count": 118,
   "metadata": {},
   "outputs": [
    {
     "name": "stdout",
     "output_type": "stream",
     "text": [
      "159895 159895.0\n"
     ]
    }
   ],
   "source": [
    "n_nodes = len(graph.nodes())\n",
    "n_edges = (n_nodes * (n_nodes - 1) )/ 2\n",
    "\n",
    "print(len(graph.edges()), n_edges)"
   ]
  },
  {
   "cell_type": "code",
   "execution_count": 119,
   "metadata": {},
   "outputs": [
    {
     "name": "stderr",
     "output_type": "stream",
     "text": [
      "posx and posy should be finite values\n",
      "posx and posy should be finite values\n",
      "posx and posy should be finite values\n",
      "posx and posy should be finite values\n",
      "posx and posy should be finite values\n",
      "posx and posy should be finite values\n",
      "posx and posy should be finite values\n",
      "posx and posy should be finite values\n",
      "posx and posy should be finite values\n",
      "posx and posy should be finite values\n",
      "posx and posy should be finite values\n",
      "posx and posy should be finite values\n",
      "posx and posy should be finite values\n",
      "posx and posy should be finite values\n",
      "posx and posy should be finite values\n",
      "posx and posy should be finite values\n",
      "posx and posy should be finite values\n",
      "posx and posy should be finite values\n",
      "posx and posy should be finite values\n",
      "posx and posy should be finite values\n",
      "posx and posy should be finite values\n",
      "posx and posy should be finite values\n",
      "posx and posy should be finite values\n",
      "posx and posy should be finite values\n",
      "posx and posy should be finite values\n",
      "posx and posy should be finite values\n",
      "posx and posy should be finite values\n",
      "posx and posy should be finite values\n",
      "posx and posy should be finite values\n",
      "posx and posy should be finite values\n",
      "posx and posy should be finite values\n",
      "posx and posy should be finite values\n",
      "posx and posy should be finite values\n",
      "posx and posy should be finite values\n",
      "posx and posy should be finite values\n",
      "posx and posy should be finite values\n",
      "posx and posy should be finite values\n",
      "posx and posy should be finite values\n",
      "posx and posy should be finite values\n",
      "posx and posy should be finite values\n",
      "posx and posy should be finite values\n",
      "posx and posy should be finite values\n",
      "posx and posy should be finite values\n",
      "posx and posy should be finite values\n",
      "posx and posy should be finite values\n",
      "posx and posy should be finite values\n",
      "posx and posy should be finite values\n",
      "posx and posy should be finite values\n",
      "posx and posy should be finite values\n",
      "posx and posy should be finite values\n",
      "posx and posy should be finite values\n",
      "posx and posy should be finite values\n",
      "posx and posy should be finite values\n",
      "posx and posy should be finite values\n",
      "posx and posy should be finite values\n",
      "posx and posy should be finite values\n",
      "posx and posy should be finite values\n",
      "posx and posy should be finite values\n",
      "posx and posy should be finite values\n",
      "posx and posy should be finite values\n",
      "posx and posy should be finite values\n",
      "posx and posy should be finite values\n",
      "posx and posy should be finite values\n",
      "posx and posy should be finite values\n",
      "posx and posy should be finite values\n",
      "posx and posy should be finite values\n",
      "posx and posy should be finite values\n",
      "posx and posy should be finite values\n",
      "posx and posy should be finite values\n",
      "posx and posy should be finite values\n",
      "posx and posy should be finite values\n",
      "posx and posy should be finite values\n",
      "posx and posy should be finite values\n",
      "posx and posy should be finite values\n",
      "posx and posy should be finite values\n",
      "posx and posy should be finite values\n",
      "posx and posy should be finite values\n",
      "posx and posy should be finite values\n",
      "posx and posy should be finite values\n",
      "posx and posy should be finite values\n",
      "posx and posy should be finite values\n",
      "posx and posy should be finite values\n",
      "posx and posy should be finite values\n",
      "posx and posy should be finite values\n",
      "posx and posy should be finite values\n",
      "posx and posy should be finite values\n",
      "posx and posy should be finite values\n",
      "posx and posy should be finite values\n",
      "posx and posy should be finite values\n",
      "posx and posy should be finite values\n",
      "posx and posy should be finite values\n",
      "posx and posy should be finite values\n",
      "posx and posy should be finite values\n",
      "posx and posy should be finite values\n",
      "posx and posy should be finite values\n",
      "posx and posy should be finite values\n",
      "posx and posy should be finite values\n",
      "posx and posy should be finite values\n",
      "posx and posy should be finite values\n",
      "posx and posy should be finite values\n",
      "posx and posy should be finite values\n",
      "posx and posy should be finite values\n",
      "posx and posy should be finite values\n",
      "posx and posy should be finite values\n",
      "posx and posy should be finite values\n",
      "posx and posy should be finite values\n",
      "posx and posy should be finite values\n",
      "posx and posy should be finite values\n",
      "posx and posy should be finite values\n",
      "posx and posy should be finite values\n",
      "posx and posy should be finite values\n",
      "posx and posy should be finite values\n",
      "posx and posy should be finite values\n",
      "posx and posy should be finite values\n",
      "posx and posy should be finite values\n",
      "posx and posy should be finite values\n",
      "posx and posy should be finite values\n",
      "posx and posy should be finite values\n",
      "posx and posy should be finite values\n",
      "posx and posy should be finite values\n",
      "posx and posy should be finite values\n",
      "posx and posy should be finite values\n",
      "posx and posy should be finite values\n",
      "posx and posy should be finite values\n",
      "posx and posy should be finite values\n",
      "posx and posy should be finite values\n",
      "posx and posy should be finite values\n",
      "posx and posy should be finite values\n",
      "posx and posy should be finite values\n",
      "posx and posy should be finite values\n",
      "posx and posy should be finite values\n",
      "posx and posy should be finite values\n",
      "posx and posy should be finite values\n",
      "posx and posy should be finite values\n",
      "posx and posy should be finite values\n",
      "posx and posy should be finite values\n",
      "posx and posy should be finite values\n",
      "posx and posy should be finite values\n",
      "posx and posy should be finite values\n",
      "posx and posy should be finite values\n",
      "posx and posy should be finite values\n",
      "posx and posy should be finite values\n",
      "posx and posy should be finite values\n",
      "posx and posy should be finite values\n",
      "posx and posy should be finite values\n",
      "posx and posy should be finite values\n",
      "posx and posy should be finite values\n",
      "posx and posy should be finite values\n",
      "posx and posy should be finite values\n",
      "posx and posy should be finite values\n",
      "posx and posy should be finite values\n",
      "posx and posy should be finite values\n",
      "posx and posy should be finite values\n",
      "posx and posy should be finite values\n",
      "posx and posy should be finite values\n",
      "posx and posy should be finite values\n",
      "posx and posy should be finite values\n",
      "posx and posy should be finite values\n",
      "posx and posy should be finite values\n",
      "posx and posy should be finite values\n",
      "posx and posy should be finite values\n",
      "posx and posy should be finite values\n",
      "posx and posy should be finite values\n",
      "posx and posy should be finite values\n",
      "posx and posy should be finite values\n",
      "posx and posy should be finite values\n",
      "posx and posy should be finite values\n",
      "posx and posy should be finite values\n",
      "posx and posy should be finite values\n",
      "posx and posy should be finite values\n",
      "posx and posy should be finite values\n",
      "posx and posy should be finite values\n",
      "posx and posy should be finite values\n",
      "posx and posy should be finite values\n",
      "posx and posy should be finite values\n",
      "posx and posy should be finite values\n",
      "posx and posy should be finite values\n",
      "posx and posy should be finite values\n",
      "posx and posy should be finite values\n",
      "posx and posy should be finite values\n",
      "posx and posy should be finite values\n",
      "posx and posy should be finite values\n",
      "posx and posy should be finite values\n",
      "posx and posy should be finite values\n",
      "posx and posy should be finite values\n",
      "posx and posy should be finite values\n",
      "posx and posy should be finite values\n",
      "posx and posy should be finite values\n",
      "posx and posy should be finite values\n",
      "posx and posy should be finite values\n",
      "posx and posy should be finite values\n",
      "posx and posy should be finite values\n",
      "posx and posy should be finite values\n",
      "posx and posy should be finite values\n",
      "posx and posy should be finite values\n",
      "posx and posy should be finite values\n",
      "posx and posy should be finite values\n",
      "posx and posy should be finite values\n",
      "posx and posy should be finite values\n",
      "posx and posy should be finite values\n",
      "posx and posy should be finite values\n",
      "posx and posy should be finite values\n",
      "posx and posy should be finite values\n",
      "posx and posy should be finite values\n",
      "posx and posy should be finite values\n",
      "posx and posy should be finite values\n",
      "posx and posy should be finite values\n",
      "posx and posy should be finite values\n",
      "posx and posy should be finite values\n",
      "posx and posy should be finite values\n",
      "posx and posy should be finite values\n",
      "posx and posy should be finite values\n",
      "posx and posy should be finite values\n",
      "posx and posy should be finite values\n",
      "posx and posy should be finite values\n",
      "posx and posy should be finite values\n",
      "posx and posy should be finite values\n",
      "posx and posy should be finite values\n",
      "posx and posy should be finite values\n",
      "posx and posy should be finite values\n",
      "posx and posy should be finite values\n",
      "posx and posy should be finite values\n",
      "posx and posy should be finite values\n",
      "posx and posy should be finite values\n",
      "posx and posy should be finite values\n",
      "posx and posy should be finite values\n",
      "posx and posy should be finite values\n",
      "posx and posy should be finite values\n",
      "posx and posy should be finite values\n",
      "posx and posy should be finite values\n",
      "posx and posy should be finite values\n",
      "posx and posy should be finite values\n",
      "posx and posy should be finite values\n",
      "posx and posy should be finite values\n",
      "posx and posy should be finite values\n",
      "posx and posy should be finite values\n",
      "posx and posy should be finite values\n",
      "posx and posy should be finite values\n",
      "posx and posy should be finite values\n",
      "posx and posy should be finite values\n",
      "posx and posy should be finite values\n",
      "posx and posy should be finite values\n",
      "posx and posy should be finite values\n",
      "posx and posy should be finite values\n",
      "posx and posy should be finite values\n",
      "posx and posy should be finite values\n",
      "posx and posy should be finite values\n",
      "posx and posy should be finite values\n",
      "posx and posy should be finite values\n",
      "posx and posy should be finite values\n",
      "posx and posy should be finite values\n",
      "posx and posy should be finite values\n",
      "posx and posy should be finite values\n",
      "posx and posy should be finite values\n",
      "posx and posy should be finite values\n",
      "posx and posy should be finite values\n",
      "posx and posy should be finite values\n",
      "posx and posy should be finite values\n",
      "posx and posy should be finite values\n",
      "posx and posy should be finite values\n",
      "posx and posy should be finite values\n",
      "posx and posy should be finite values\n",
      "posx and posy should be finite values\n",
      "posx and posy should be finite values\n",
      "posx and posy should be finite values\n",
      "posx and posy should be finite values\n",
      "posx and posy should be finite values\n",
      "posx and posy should be finite values\n",
      "posx and posy should be finite values\n",
      "posx and posy should be finite values\n",
      "posx and posy should be finite values\n",
      "posx and posy should be finite values\n",
      "posx and posy should be finite values\n",
      "posx and posy should be finite values\n",
      "posx and posy should be finite values\n",
      "posx and posy should be finite values\n",
      "posx and posy should be finite values\n",
      "posx and posy should be finite values\n",
      "posx and posy should be finite values\n",
      "posx and posy should be finite values\n",
      "posx and posy should be finite values\n",
      "posx and posy should be finite values\n",
      "posx and posy should be finite values\n",
      "posx and posy should be finite values\n",
      "posx and posy should be finite values\n",
      "posx and posy should be finite values\n",
      "posx and posy should be finite values\n",
      "posx and posy should be finite values\n",
      "posx and posy should be finite values\n",
      "posx and posy should be finite values\n",
      "posx and posy should be finite values\n",
      "posx and posy should be finite values\n",
      "posx and posy should be finite values\n",
      "posx and posy should be finite values\n",
      "posx and posy should be finite values\n",
      "posx and posy should be finite values\n",
      "posx and posy should be finite values\n",
      "posx and posy should be finite values\n",
      "posx and posy should be finite values\n",
      "posx and posy should be finite values\n",
      "posx and posy should be finite values\n",
      "posx and posy should be finite values\n",
      "posx and posy should be finite values\n",
      "posx and posy should be finite values\n",
      "posx and posy should be finite values\n",
      "posx and posy should be finite values\n",
      "posx and posy should be finite values\n",
      "posx and posy should be finite values\n",
      "posx and posy should be finite values\n",
      "posx and posy should be finite values\n",
      "posx and posy should be finite values\n",
      "posx and posy should be finite values\n",
      "posx and posy should be finite values\n",
      "posx and posy should be finite values\n",
      "posx and posy should be finite values\n",
      "posx and posy should be finite values\n",
      "posx and posy should be finite values\n",
      "posx and posy should be finite values\n",
      "posx and posy should be finite values\n",
      "posx and posy should be finite values\n",
      "posx and posy should be finite values\n",
      "posx and posy should be finite values\n",
      "posx and posy should be finite values\n",
      "posx and posy should be finite values\n",
      "posx and posy should be finite values\n",
      "posx and posy should be finite values\n",
      "posx and posy should be finite values\n",
      "posx and posy should be finite values\n",
      "posx and posy should be finite values\n",
      "posx and posy should be finite values\n",
      "posx and posy should be finite values\n",
      "posx and posy should be finite values\n",
      "posx and posy should be finite values\n",
      "posx and posy should be finite values\n",
      "posx and posy should be finite values\n",
      "posx and posy should be finite values\n",
      "posx and posy should be finite values\n",
      "posx and posy should be finite values\n",
      "posx and posy should be finite values\n",
      "posx and posy should be finite values\n",
      "posx and posy should be finite values\n",
      "posx and posy should be finite values\n",
      "posx and posy should be finite values\n",
      "posx and posy should be finite values\n",
      "posx and posy should be finite values\n",
      "posx and posy should be finite values\n",
      "posx and posy should be finite values\n",
      "posx and posy should be finite values\n",
      "posx and posy should be finite values\n",
      "posx and posy should be finite values\n",
      "posx and posy should be finite values\n",
      "posx and posy should be finite values\n",
      "posx and posy should be finite values\n",
      "posx and posy should be finite values\n",
      "posx and posy should be finite values\n",
      "posx and posy should be finite values\n",
      "posx and posy should be finite values\n",
      "posx and posy should be finite values\n",
      "posx and posy should be finite values\n",
      "posx and posy should be finite values\n",
      "posx and posy should be finite values\n",
      "posx and posy should be finite values\n",
      "posx and posy should be finite values\n",
      "posx and posy should be finite values\n",
      "posx and posy should be finite values\n",
      "posx and posy should be finite values\n",
      "posx and posy should be finite values\n",
      "posx and posy should be finite values\n",
      "posx and posy should be finite values\n",
      "posx and posy should be finite values\n",
      "posx and posy should be finite values\n",
      "posx and posy should be finite values\n",
      "posx and posy should be finite values\n",
      "posx and posy should be finite values\n",
      "posx and posy should be finite values\n",
      "posx and posy should be finite values\n",
      "posx and posy should be finite values\n",
      "posx and posy should be finite values\n",
      "posx and posy should be finite values\n",
      "posx and posy should be finite values\n",
      "posx and posy should be finite values\n",
      "posx and posy should be finite values\n",
      "posx and posy should be finite values\n",
      "posx and posy should be finite values\n",
      "posx and posy should be finite values\n",
      "posx and posy should be finite values\n",
      "posx and posy should be finite values\n",
      "posx and posy should be finite values\n",
      "posx and posy should be finite values\n",
      "posx and posy should be finite values\n",
      "posx and posy should be finite values\n",
      "posx and posy should be finite values\n",
      "posx and posy should be finite values\n",
      "posx and posy should be finite values\n",
      "posx and posy should be finite values\n",
      "posx and posy should be finite values\n",
      "posx and posy should be finite values\n",
      "posx and posy should be finite values\n",
      "posx and posy should be finite values\n",
      "posx and posy should be finite values\n",
      "posx and posy should be finite values\n",
      "posx and posy should be finite values\n",
      "posx and posy should be finite values\n",
      "posx and posy should be finite values\n",
      "posx and posy should be finite values\n",
      "posx and posy should be finite values\n",
      "posx and posy should be finite values\n",
      "posx and posy should be finite values\n",
      "posx and posy should be finite values\n",
      "posx and posy should be finite values\n",
      "posx and posy should be finite values\n",
      "posx and posy should be finite values\n",
      "posx and posy should be finite values\n",
      "posx and posy should be finite values\n",
      "posx and posy should be finite values\n",
      "posx and posy should be finite values\n",
      "posx and posy should be finite values\n",
      "posx and posy should be finite values\n",
      "posx and posy should be finite values\n",
      "posx and posy should be finite values\n",
      "posx and posy should be finite values\n",
      "posx and posy should be finite values\n",
      "posx and posy should be finite values\n",
      "posx and posy should be finite values\n",
      "posx and posy should be finite values\n",
      "posx and posy should be finite values\n",
      "posx and posy should be finite values\n",
      "posx and posy should be finite values\n",
      "posx and posy should be finite values\n",
      "posx and posy should be finite values\n",
      "posx and posy should be finite values\n",
      "posx and posy should be finite values\n",
      "posx and posy should be finite values\n",
      "posx and posy should be finite values\n",
      "posx and posy should be finite values\n",
      "posx and posy should be finite values\n",
      "posx and posy should be finite values\n",
      "posx and posy should be finite values\n",
      "posx and posy should be finite values\n",
      "posx and posy should be finite values\n",
      "posx and posy should be finite values\n",
      "posx and posy should be finite values\n",
      "posx and posy should be finite values\n",
      "posx and posy should be finite values\n",
      "posx and posy should be finite values\n",
      "posx and posy should be finite values\n",
      "posx and posy should be finite values\n",
      "posx and posy should be finite values\n",
      "posx and posy should be finite values\n",
      "posx and posy should be finite values\n",
      "posx and posy should be finite values\n",
      "posx and posy should be finite values\n",
      "posx and posy should be finite values\n",
      "posx and posy should be finite values\n",
      "posx and posy should be finite values\n",
      "posx and posy should be finite values\n",
      "posx and posy should be finite values\n",
      "posx and posy should be finite values\n",
      "posx and posy should be finite values\n",
      "posx and posy should be finite values\n",
      "posx and posy should be finite values\n",
      "posx and posy should be finite values\n",
      "posx and posy should be finite values\n",
      "posx and posy should be finite values\n",
      "posx and posy should be finite values\n",
      "posx and posy should be finite values\n",
      "posx and posy should be finite values\n",
      "posx and posy should be finite values\n",
      "posx and posy should be finite values\n",
      "posx and posy should be finite values\n",
      "posx and posy should be finite values\n",
      "posx and posy should be finite values\n",
      "posx and posy should be finite values\n",
      "posx and posy should be finite values\n",
      "posx and posy should be finite values\n",
      "posx and posy should be finite values\n",
      "posx and posy should be finite values\n",
      "posx and posy should be finite values\n",
      "posx and posy should be finite values\n",
      "posx and posy should be finite values\n",
      "posx and posy should be finite values\n",
      "posx and posy should be finite values\n",
      "posx and posy should be finite values\n",
      "posx and posy should be finite values\n",
      "posx and posy should be finite values\n",
      "posx and posy should be finite values\n",
      "posx and posy should be finite values\n",
      "posx and posy should be finite values\n",
      "posx and posy should be finite values\n",
      "posx and posy should be finite values\n",
      "posx and posy should be finite values\n",
      "posx and posy should be finite values\n",
      "posx and posy should be finite values\n",
      "posx and posy should be finite values\n",
      "posx and posy should be finite values\n",
      "posx and posy should be finite values\n",
      "posx and posy should be finite values\n",
      "posx and posy should be finite values\n",
      "posx and posy should be finite values\n",
      "posx and posy should be finite values\n",
      "posx and posy should be finite values\n",
      "posx and posy should be finite values\n",
      "posx and posy should be finite values\n",
      "posx and posy should be finite values\n",
      "posx and posy should be finite values\n",
      "posx and posy should be finite values\n",
      "posx and posy should be finite values\n",
      "posx and posy should be finite values\n",
      "posx and posy should be finite values\n",
      "posx and posy should be finite values\n",
      "posx and posy should be finite values\n",
      "posx and posy should be finite values\n",
      "posx and posy should be finite values\n",
      "posx and posy should be finite values\n",
      "posx and posy should be finite values\n",
      "posx and posy should be finite values\n",
      "posx and posy should be finite values\n",
      "posx and posy should be finite values\n",
      "posx and posy should be finite values\n",
      "posx and posy should be finite values\n",
      "posx and posy should be finite values\n",
      "posx and posy should be finite values\n",
      "posx and posy should be finite values\n",
      "posx and posy should be finite values\n",
      "posx and posy should be finite values\n",
      "posx and posy should be finite values\n",
      "posx and posy should be finite values\n",
      "posx and posy should be finite values\n",
      "posx and posy should be finite values\n",
      "posx and posy should be finite values\n",
      "posx and posy should be finite values\n",
      "posx and posy should be finite values\n",
      "posx and posy should be finite values\n",
      "posx and posy should be finite values\n",
      "posx and posy should be finite values\n",
      "posx and posy should be finite values\n",
      "posx and posy should be finite values\n",
      "posx and posy should be finite values\n",
      "posx and posy should be finite values\n",
      "posx and posy should be finite values\n",
      "posx and posy should be finite values\n",
      "posx and posy should be finite values\n",
      "posx and posy should be finite values\n",
      "posx and posy should be finite values\n",
      "posx and posy should be finite values\n",
      "posx and posy should be finite values\n",
      "posx and posy should be finite values\n",
      "posx and posy should be finite values\n",
      "posx and posy should be finite values\n",
      "posx and posy should be finite values\n",
      "posx and posy should be finite values\n",
      "posx and posy should be finite values\n",
      "posx and posy should be finite values\n",
      "posx and posy should be finite values\n",
      "posx and posy should be finite values\n",
      "posx and posy should be finite values\n",
      "posx and posy should be finite values\n",
      "posx and posy should be finite values\n",
      "posx and posy should be finite values\n",
      "posx and posy should be finite values\n",
      "posx and posy should be finite values\n",
      "posx and posy should be finite values\n",
      "posx and posy should be finite values\n",
      "posx and posy should be finite values\n",
      "posx and posy should be finite values\n",
      "posx and posy should be finite values\n",
      "posx and posy should be finite values\n",
      "posx and posy should be finite values\n",
      "posx and posy should be finite values\n",
      "posx and posy should be finite values\n",
      "posx and posy should be finite values\n",
      "posx and posy should be finite values\n",
      "posx and posy should be finite values\n",
      "posx and posy should be finite values\n",
      "posx and posy should be finite values\n",
      "posx and posy should be finite values\n",
      "posx and posy should be finite values\n",
      "posx and posy should be finite values\n",
      "posx and posy should be finite values\n",
      "posx and posy should be finite values\n",
      "posx and posy should be finite values\n",
      "posx and posy should be finite values\n",
      "posx and posy should be finite values\n",
      "posx and posy should be finite values\n",
      "posx and posy should be finite values\n",
      "posx and posy should be finite values\n",
      "posx and posy should be finite values\n",
      "posx and posy should be finite values\n",
      "posx and posy should be finite values\n",
      "posx and posy should be finite values\n",
      "posx and posy should be finite values\n",
      "posx and posy should be finite values\n",
      "posx and posy should be finite values\n",
      "posx and posy should be finite values\n",
      "posx and posy should be finite values\n",
      "posx and posy should be finite values\n",
      "posx and posy should be finite values\n",
      "posx and posy should be finite values\n",
      "posx and posy should be finite values\n",
      "posx and posy should be finite values\n",
      "posx and posy should be finite values\n",
      "posx and posy should be finite values\n",
      "posx and posy should be finite values\n",
      "posx and posy should be finite values\n",
      "posx and posy should be finite values\n",
      "posx and posy should be finite values\n",
      "posx and posy should be finite values\n",
      "posx and posy should be finite values\n",
      "posx and posy should be finite values\n",
      "posx and posy should be finite values\n",
      "posx and posy should be finite values\n",
      "posx and posy should be finite values\n",
      "posx and posy should be finite values\n",
      "posx and posy should be finite values\n",
      "posx and posy should be finite values\n",
      "posx and posy should be finite values\n",
      "posx and posy should be finite values\n",
      "posx and posy should be finite values\n",
      "posx and posy should be finite values\n",
      "posx and posy should be finite values\n",
      "posx and posy should be finite values\n",
      "posx and posy should be finite values\n",
      "posx and posy should be finite values\n",
      "posx and posy should be finite values\n",
      "posx and posy should be finite values\n",
      "posx and posy should be finite values\n",
      "posx and posy should be finite values\n",
      "posx and posy should be finite values\n",
      "posx and posy should be finite values\n",
      "posx and posy should be finite values\n",
      "posx and posy should be finite values\n",
      "posx and posy should be finite values\n",
      "posx and posy should be finite values\n",
      "posx and posy should be finite values\n",
      "posx and posy should be finite values\n",
      "posx and posy should be finite values\n",
      "posx and posy should be finite values\n",
      "posx and posy should be finite values\n",
      "posx and posy should be finite values\n",
      "posx and posy should be finite values\n",
      "posx and posy should be finite values\n",
      "posx and posy should be finite values\n",
      "posx and posy should be finite values\n",
      "posx and posy should be finite values\n",
      "posx and posy should be finite values\n",
      "posx and posy should be finite values\n",
      "posx and posy should be finite values\n",
      "posx and posy should be finite values\n",
      "posx and posy should be finite values\n",
      "posx and posy should be finite values\n",
      "posx and posy should be finite values\n",
      "posx and posy should be finite values\n",
      "posx and posy should be finite values\n",
      "posx and posy should be finite values\n",
      "posx and posy should be finite values\n",
      "posx and posy should be finite values\n",
      "posx and posy should be finite values\n",
      "posx and posy should be finite values\n",
      "posx and posy should be finite values\n",
      "posx and posy should be finite values\n",
      "posx and posy should be finite values\n",
      "posx and posy should be finite values\n",
      "posx and posy should be finite values\n",
      "posx and posy should be finite values\n",
      "posx and posy should be finite values\n",
      "posx and posy should be finite values\n",
      "posx and posy should be finite values\n",
      "posx and posy should be finite values\n",
      "posx and posy should be finite values\n",
      "posx and posy should be finite values\n",
      "posx and posy should be finite values\n",
      "posx and posy should be finite values\n",
      "posx and posy should be finite values\n",
      "posx and posy should be finite values\n",
      "posx and posy should be finite values\n",
      "posx and posy should be finite values\n",
      "posx and posy should be finite values\n",
      "posx and posy should be finite values\n",
      "posx and posy should be finite values\n",
      "posx and posy should be finite values\n",
      "posx and posy should be finite values\n",
      "posx and posy should be finite values\n",
      "posx and posy should be finite values\n",
      "posx and posy should be finite values\n",
      "posx and posy should be finite values\n",
      "posx and posy should be finite values\n",
      "posx and posy should be finite values\n",
      "posx and posy should be finite values\n",
      "posx and posy should be finite values\n",
      "posx and posy should be finite values\n",
      "posx and posy should be finite values\n",
      "posx and posy should be finite values\n",
      "posx and posy should be finite values\n",
      "posx and posy should be finite values\n",
      "posx and posy should be finite values\n",
      "posx and posy should be finite values\n",
      "posx and posy should be finite values\n",
      "posx and posy should be finite values\n",
      "posx and posy should be finite values\n",
      "posx and posy should be finite values\n",
      "posx and posy should be finite values\n",
      "posx and posy should be finite values\n",
      "posx and posy should be finite values\n",
      "posx and posy should be finite values\n",
      "posx and posy should be finite values\n",
      "posx and posy should be finite values\n",
      "posx and posy should be finite values\n",
      "posx and posy should be finite values\n",
      "posx and posy should be finite values\n",
      "posx and posy should be finite values\n",
      "posx and posy should be finite values\n",
      "posx and posy should be finite values\n",
      "posx and posy should be finite values\n",
      "posx and posy should be finite values\n",
      "posx and posy should be finite values\n",
      "posx and posy should be finite values\n",
      "posx and posy should be finite values\n",
      "posx and posy should be finite values\n",
      "posx and posy should be finite values\n",
      "posx and posy should be finite values\n",
      "posx and posy should be finite values\n",
      "posx and posy should be finite values\n",
      "posx and posy should be finite values\n",
      "posx and posy should be finite values\n",
      "posx and posy should be finite values\n",
      "posx and posy should be finite values\n",
      "posx and posy should be finite values\n",
      "posx and posy should be finite values\n",
      "posx and posy should be finite values\n",
      "posx and posy should be finite values\n",
      "posx and posy should be finite values\n",
      "posx and posy should be finite values\n",
      "posx and posy should be finite values\n",
      "posx and posy should be finite values\n",
      "posx and posy should be finite values\n",
      "posx and posy should be finite values\n",
      "posx and posy should be finite values\n",
      "posx and posy should be finite values\n",
      "posx and posy should be finite values\n",
      "posx and posy should be finite values\n",
      "posx and posy should be finite values\n",
      "posx and posy should be finite values\n",
      "posx and posy should be finite values\n",
      "posx and posy should be finite values\n",
      "posx and posy should be finite values\n",
      "posx and posy should be finite values\n",
      "posx and posy should be finite values\n",
      "posx and posy should be finite values\n",
      "posx and posy should be finite values\n",
      "posx and posy should be finite values\n",
      "posx and posy should be finite values\n",
      "posx and posy should be finite values\n",
      "posx and posy should be finite values\n",
      "posx and posy should be finite values\n",
      "posx and posy should be finite values\n",
      "posx and posy should be finite values\n",
      "posx and posy should be finite values\n",
      "posx and posy should be finite values\n",
      "posx and posy should be finite values\n",
      "posx and posy should be finite values\n",
      "posx and posy should be finite values\n",
      "posx and posy should be finite values\n",
      "posx and posy should be finite values\n",
      "posx and posy should be finite values\n",
      "posx and posy should be finite values\n",
      "posx and posy should be finite values\n",
      "posx and posy should be finite values\n",
      "posx and posy should be finite values\n",
      "posx and posy should be finite values\n",
      "posx and posy should be finite values\n",
      "posx and posy should be finite values\n",
      "posx and posy should be finite values\n",
      "posx and posy should be finite values\n",
      "posx and posy should be finite values\n",
      "posx and posy should be finite values\n",
      "posx and posy should be finite values\n",
      "posx and posy should be finite values\n",
      "posx and posy should be finite values\n",
      "posx and posy should be finite values\n",
      "posx and posy should be finite values\n",
      "posx and posy should be finite values\n",
      "posx and posy should be finite values\n",
      "posx and posy should be finite values\n",
      "posx and posy should be finite values\n",
      "posx and posy should be finite values\n",
      "posx and posy should be finite values\n",
      "posx and posy should be finite values\n",
      "posx and posy should be finite values\n",
      "posx and posy should be finite values\n",
      "posx and posy should be finite values\n",
      "posx and posy should be finite values\n",
      "posx and posy should be finite values\n",
      "posx and posy should be finite values\n",
      "posx and posy should be finite values\n",
      "posx and posy should be finite values\n",
      "posx and posy should be finite values\n",
      "posx and posy should be finite values\n",
      "posx and posy should be finite values\n",
      "posx and posy should be finite values\n",
      "posx and posy should be finite values\n",
      "posx and posy should be finite values\n",
      "posx and posy should be finite values\n",
      "posx and posy should be finite values\n",
      "posx and posy should be finite values\n",
      "posx and posy should be finite values\n",
      "posx and posy should be finite values\n",
      "posx and posy should be finite values\n",
      "posx and posy should be finite values\n",
      "posx and posy should be finite values\n",
      "posx and posy should be finite values\n",
      "posx and posy should be finite values\n",
      "posx and posy should be finite values\n",
      "posx and posy should be finite values\n",
      "posx and posy should be finite values\n",
      "posx and posy should be finite values\n",
      "posx and posy should be finite values\n",
      "posx and posy should be finite values\n",
      "posx and posy should be finite values\n",
      "posx and posy should be finite values\n",
      "posx and posy should be finite values\n",
      "posx and posy should be finite values\n",
      "posx and posy should be finite values\n",
      "posx and posy should be finite values\n",
      "posx and posy should be finite values\n",
      "posx and posy should be finite values\n",
      "posx and posy should be finite values\n",
      "posx and posy should be finite values\n",
      "posx and posy should be finite values\n",
      "posx and posy should be finite values\n",
      "posx and posy should be finite values\n",
      "posx and posy should be finite values\n",
      "posx and posy should be finite values\n",
      "posx and posy should be finite values\n",
      "posx and posy should be finite values\n",
      "posx and posy should be finite values\n",
      "posx and posy should be finite values\n",
      "posx and posy should be finite values\n",
      "posx and posy should be finite values\n",
      "posx and posy should be finite values\n",
      "posx and posy should be finite values\n",
      "posx and posy should be finite values\n",
      "posx and posy should be finite values\n",
      "posx and posy should be finite values\n",
      "posx and posy should be finite values\n",
      "posx and posy should be finite values\n",
      "posx and posy should be finite values\n",
      "posx and posy should be finite values\n",
      "posx and posy should be finite values\n",
      "posx and posy should be finite values\n",
      "posx and posy should be finite values\n",
      "posx and posy should be finite values\n",
      "posx and posy should be finite values\n",
      "posx and posy should be finite values\n",
      "posx and posy should be finite values\n",
      "posx and posy should be finite values\n",
      "posx and posy should be finite values\n",
      "posx and posy should be finite values\n",
      "posx and posy should be finite values\n",
      "posx and posy should be finite values\n",
      "posx and posy should be finite values\n",
      "posx and posy should be finite values\n",
      "posx and posy should be finite values\n",
      "posx and posy should be finite values\n",
      "posx and posy should be finite values\n",
      "posx and posy should be finite values\n",
      "posx and posy should be finite values\n",
      "posx and posy should be finite values\n",
      "posx and posy should be finite values\n",
      "posx and posy should be finite values\n",
      "posx and posy should be finite values\n",
      "posx and posy should be finite values\n",
      "posx and posy should be finite values\n",
      "posx and posy should be finite values\n",
      "posx and posy should be finite values\n",
      "posx and posy should be finite values\n",
      "posx and posy should be finite values\n",
      "posx and posy should be finite values\n",
      "posx and posy should be finite values\n",
      "posx and posy should be finite values\n",
      "posx and posy should be finite values\n",
      "posx and posy should be finite values\n",
      "posx and posy should be finite values\n",
      "posx and posy should be finite values\n",
      "posx and posy should be finite values\n",
      "posx and posy should be finite values\n",
      "posx and posy should be finite values\n",
      "posx and posy should be finite values\n",
      "posx and posy should be finite values\n",
      "posx and posy should be finite values\n",
      "posx and posy should be finite values\n",
      "posx and posy should be finite values\n",
      "posx and posy should be finite values\n",
      "posx and posy should be finite values\n",
      "posx and posy should be finite values\n",
      "posx and posy should be finite values\n",
      "posx and posy should be finite values\n",
      "posx and posy should be finite values\n",
      "posx and posy should be finite values\n",
      "posx and posy should be finite values\n",
      "posx and posy should be finite values\n",
      "posx and posy should be finite values\n",
      "posx and posy should be finite values\n",
      "posx and posy should be finite values\n",
      "posx and posy should be finite values\n",
      "posx and posy should be finite values\n",
      "posx and posy should be finite values\n",
      "posx and posy should be finite values\n",
      "posx and posy should be finite values\n",
      "posx and posy should be finite values\n",
      "posx and posy should be finite values\n",
      "posx and posy should be finite values\n",
      "posx and posy should be finite values\n",
      "posx and posy should be finite values\n",
      "posx and posy should be finite values\n",
      "posx and posy should be finite values\n",
      "posx and posy should be finite values\n",
      "posx and posy should be finite values\n",
      "posx and posy should be finite values\n",
      "posx and posy should be finite values\n",
      "posx and posy should be finite values\n",
      "posx and posy should be finite values\n",
      "posx and posy should be finite values\n",
      "posx and posy should be finite values\n",
      "posx and posy should be finite values\n",
      "posx and posy should be finite values\n",
      "posx and posy should be finite values\n",
      "posx and posy should be finite values\n",
      "posx and posy should be finite values\n",
      "posx and posy should be finite values\n",
      "posx and posy should be finite values\n",
      "posx and posy should be finite values\n",
      "posx and posy should be finite values\n",
      "posx and posy should be finite values\n",
      "posx and posy should be finite values\n",
      "posx and posy should be finite values\n",
      "posx and posy should be finite values\n",
      "posx and posy should be finite values\n",
      "posx and posy should be finite values\n",
      "posx and posy should be finite values\n",
      "posx and posy should be finite values\n",
      "posx and posy should be finite values\n",
      "posx and posy should be finite values\n",
      "posx and posy should be finite values\n",
      "posx and posy should be finite values\n",
      "posx and posy should be finite values\n",
      "posx and posy should be finite values\n",
      "posx and posy should be finite values\n",
      "posx and posy should be finite values\n",
      "posx and posy should be finite values\n",
      "posx and posy should be finite values\n",
      "posx and posy should be finite values\n",
      "posx and posy should be finite values\n",
      "posx and posy should be finite values\n",
      "posx and posy should be finite values\n",
      "posx and posy should be finite values\n",
      "posx and posy should be finite values\n",
      "posx and posy should be finite values\n",
      "posx and posy should be finite values\n",
      "posx and posy should be finite values\n",
      "posx and posy should be finite values\n",
      "posx and posy should be finite values\n",
      "posx and posy should be finite values\n",
      "posx and posy should be finite values\n",
      "posx and posy should be finite values\n",
      "posx and posy should be finite values\n",
      "posx and posy should be finite values\n",
      "posx and posy should be finite values\n",
      "posx and posy should be finite values\n",
      "posx and posy should be finite values\n",
      "posx and posy should be finite values\n",
      "posx and posy should be finite values\n",
      "posx and posy should be finite values\n",
      "posx and posy should be finite values\n",
      "posx and posy should be finite values\n",
      "posx and posy should be finite values\n",
      "posx and posy should be finite values\n",
      "posx and posy should be finite values\n",
      "posx and posy should be finite values\n",
      "posx and posy should be finite values\n",
      "posx and posy should be finite values\n",
      "posx and posy should be finite values\n",
      "posx and posy should be finite values\n",
      "posx and posy should be finite values\n",
      "posx and posy should be finite values\n",
      "posx and posy should be finite values\n",
      "posx and posy should be finite values\n",
      "posx and posy should be finite values\n",
      "posx and posy should be finite values\n",
      "posx and posy should be finite values\n",
      "posx and posy should be finite values\n",
      "posx and posy should be finite values\n",
      "posx and posy should be finite values\n",
      "posx and posy should be finite values\n",
      "posx and posy should be finite values\n",
      "posx and posy should be finite values\n",
      "posx and posy should be finite values\n",
      "posx and posy should be finite values\n",
      "posx and posy should be finite values\n",
      "posx and posy should be finite values\n",
      "posx and posy should be finite values\n",
      "posx and posy should be finite values\n",
      "posx and posy should be finite values\n",
      "posx and posy should be finite values\n",
      "posx and posy should be finite values\n",
      "posx and posy should be finite values\n",
      "posx and posy should be finite values\n",
      "posx and posy should be finite values\n",
      "posx and posy should be finite values\n",
      "posx and posy should be finite values\n",
      "posx and posy should be finite values\n",
      "posx and posy should be finite values\n",
      "posx and posy should be finite values\n",
      "posx and posy should be finite values\n",
      "posx and posy should be finite values\n",
      "posx and posy should be finite values\n",
      "posx and posy should be finite values\n",
      "posx and posy should be finite values\n",
      "posx and posy should be finite values\n",
      "posx and posy should be finite values\n",
      "posx and posy should be finite values\n",
      "posx and posy should be finite values\n",
      "posx and posy should be finite values\n",
      "posx and posy should be finite values\n",
      "posx and posy should be finite values\n",
      "posx and posy should be finite values\n",
      "posx and posy should be finite values\n",
      "posx and posy should be finite values\n",
      "posx and posy should be finite values\n",
      "posx and posy should be finite values\n",
      "posx and posy should be finite values\n",
      "posx and posy should be finite values\n",
      "posx and posy should be finite values\n",
      "posx and posy should be finite values\n",
      "posx and posy should be finite values\n",
      "posx and posy should be finite values\n",
      "posx and posy should be finite values\n",
      "posx and posy should be finite values\n",
      "posx and posy should be finite values\n",
      "posx and posy should be finite values\n",
      "posx and posy should be finite values\n",
      "posx and posy should be finite values\n",
      "posx and posy should be finite values\n",
      "posx and posy should be finite values\n",
      "posx and posy should be finite values\n",
      "posx and posy should be finite values\n",
      "posx and posy should be finite values\n",
      "posx and posy should be finite values\n",
      "posx and posy should be finite values\n",
      "posx and posy should be finite values\n",
      "posx and posy should be finite values\n",
      "posx and posy should be finite values\n",
      "posx and posy should be finite values\n",
      "posx and posy should be finite values\n",
      "posx and posy should be finite values\n",
      "posx and posy should be finite values\n",
      "posx and posy should be finite values\n",
      "posx and posy should be finite values\n",
      "posx and posy should be finite values\n",
      "posx and posy should be finite values\n",
      "posx and posy should be finite values\n",
      "posx and posy should be finite values\n",
      "posx and posy should be finite values\n",
      "posx and posy should be finite values\n",
      "posx and posy should be finite values\n",
      "posx and posy should be finite values\n",
      "posx and posy should be finite values\n",
      "posx and posy should be finite values\n",
      "posx and posy should be finite values\n",
      "posx and posy should be finite values\n",
      "posx and posy should be finite values\n",
      "posx and posy should be finite values\n",
      "posx and posy should be finite values\n",
      "posx and posy should be finite values\n",
      "posx and posy should be finite values\n",
      "posx and posy should be finite values\n",
      "posx and posy should be finite values\n",
      "posx and posy should be finite values\n",
      "posx and posy should be finite values\n",
      "posx and posy should be finite values\n",
      "posx and posy should be finite values\n",
      "posx and posy should be finite values\n",
      "posx and posy should be finite values\n",
      "posx and posy should be finite values\n",
      "posx and posy should be finite values\n",
      "posx and posy should be finite values\n",
      "posx and posy should be finite values\n",
      "posx and posy should be finite values\n",
      "posx and posy should be finite values\n",
      "posx and posy should be finite values\n",
      "posx and posy should be finite values\n",
      "posx and posy should be finite values\n",
      "posx and posy should be finite values\n",
      "posx and posy should be finite values\n",
      "posx and posy should be finite values\n",
      "posx and posy should be finite values\n",
      "posx and posy should be finite values\n",
      "posx and posy should be finite values\n",
      "posx and posy should be finite values\n",
      "posx and posy should be finite values\n",
      "posx and posy should be finite values\n",
      "posx and posy should be finite values\n",
      "posx and posy should be finite values\n",
      "posx and posy should be finite values\n",
      "posx and posy should be finite values\n",
      "posx and posy should be finite values\n",
      "posx and posy should be finite values\n",
      "posx and posy should be finite values\n",
      "posx and posy should be finite values\n",
      "posx and posy should be finite values\n",
      "posx and posy should be finite values\n",
      "posx and posy should be finite values\n",
      "posx and posy should be finite values\n",
      "posx and posy should be finite values\n",
      "posx and posy should be finite values\n",
      "posx and posy should be finite values\n",
      "posx and posy should be finite values\n",
      "posx and posy should be finite values\n",
      "posx and posy should be finite values\n",
      "posx and posy should be finite values\n",
      "posx and posy should be finite values\n",
      "posx and posy should be finite values\n",
      "posx and posy should be finite values\n",
      "posx and posy should be finite values\n",
      "posx and posy should be finite values\n",
      "posx and posy should be finite values\n",
      "posx and posy should be finite values\n",
      "posx and posy should be finite values\n",
      "posx and posy should be finite values\n",
      "posx and posy should be finite values\n",
      "posx and posy should be finite values\n",
      "posx and posy should be finite values\n",
      "posx and posy should be finite values\n"
     ]
    },
    {
     "data": {
      "image/png": "[encoded data removed]",
      "text/plain": [
       "<Figure size 1200x800 with 1 Axes>"
      ]
     },
     "metadata": {},
     "output_type": "display_data"
    }
   ],
   "source": [
    "plt.figure(figsize=(12, 8))\n",
    "pos = nx.spring_layout(graph)\n",
    "weights = [graph.get_edge_data(u,v)['weight'] for u,v in graph.edges()]\n",
    "weights = [weight**4 for weight in weights]\n",
    "edge_labels = {(u, v): f'{w:.2f}' for u, v, w in graph.edges(data='weight')}\n",
    "nx.draw(graph, pos, with_labels=True, node_color='lightblue', width=weights, edge_color='gray')\n",
    "# nx.draw_networkx_edge_labels(graph,pos,edge_labels=edge_labels)\n",
    "plt.title(\"Grafo de Correlações Meteorológicas entre Cidades\")\n",
    "plt.show()"
   ]
  },
  {
   "cell_type": "code",
   "execution_count": 124,
   "metadata": {},
   "outputs": [],
   "source": [
    "df_list = [(city.station, city.uf, float(city.latitude.replace(',', '.')), float(city.longitude.replace(',', '.'))) for city in data]\n",
    "df = pd.DataFrame(df_list, columns=['city', 'uf', 'latitude', 'longitude'])"
   ]
  },
  {
   "cell_type": "code",
   "execution_count": 121,
   "metadata": {},
   "outputs": [],
   "source": [
    "import plotly.express as px\n",
    "import plotly.graph_objects as go"
   ]
  },
  {
   "cell_type": "code",
   "execution_count": 128,
   "metadata": {},
   "outputs": [
    {
     "data": {
      "text/html": [
       "<div>\n",
       "<style scoped>\n",
       "    .dataframe tbody tr th:only-of-type {\n",
       "        vertical-align: middle;\n",
       "    }\n",
       "\n",
       "    .dataframe tbody tr th {\n",
       "        vertical-align: top;\n",
       "    }\n",
       "\n",
       "    .dataframe thead th {\n",
       "        text-align: right;\n",
       "    }\n",
       "</style>\n",
       "<table border=\"1\" class=\"dataframe\">\n",
       "  <thead>\n",
       "    <tr style=\"text-align: right;\">\n",
       "      <th></th>\n",
       "      <th>city</th>\n",
       "      <th>uf</th>\n",
       "      <th>latitude</th>\n",
       "      <th>longitude</th>\n",
       "    </tr>\n",
       "  </thead>\n",
       "  <tbody>\n",
       "    <tr>\n",
       "      <th>0</th>\n",
       "      <td>BRASILIA</td>\n",
       "      <td>DF</td>\n",
       "      <td>-15.789444</td>\n",
       "      <td>-47.925833</td>\n",
       "    </tr>\n",
       "    <tr>\n",
       "      <th>1</th>\n",
       "      <td>BRAZLANDIA</td>\n",
       "      <td>DF</td>\n",
       "      <td>-15.599722</td>\n",
       "      <td>-48.131111</td>\n",
       "    </tr>\n",
       "    <tr>\n",
       "      <th>2</th>\n",
       "      <td>AGUAS EMENDADAS</td>\n",
       "      <td>DF</td>\n",
       "      <td>-15.596491</td>\n",
       "      <td>-47.625801</td>\n",
       "    </tr>\n",
       "    <tr>\n",
       "      <th>3</th>\n",
       "      <td>GAMA (PONTE ALTA)</td>\n",
       "      <td>DF</td>\n",
       "      <td>-15.935278</td>\n",
       "      <td>-48.137500</td>\n",
       "    </tr>\n",
       "    <tr>\n",
       "      <th>4</th>\n",
       "      <td>PARANOA (COOPA-DF)</td>\n",
       "      <td>DF</td>\n",
       "      <td>-16.012222</td>\n",
       "      <td>-47.557417</td>\n",
       "    </tr>\n",
       "    <tr>\n",
       "      <th>...</th>\n",
       "      <td>...</td>\n",
       "      <td>...</td>\n",
       "      <td>...</td>\n",
       "      <td>...</td>\n",
       "    </tr>\n",
       "    <tr>\n",
       "      <th>561</th>\n",
       "      <td>ARARANGUA</td>\n",
       "      <td>SC</td>\n",
       "      <td>-28.931353</td>\n",
       "      <td>-49.497920</td>\n",
       "    </tr>\n",
       "    <tr>\n",
       "      <th>562</th>\n",
       "      <td>ITAJAI</td>\n",
       "      <td>SC</td>\n",
       "      <td>-26.950833</td>\n",
       "      <td>-48.761944</td>\n",
       "    </tr>\n",
       "    <tr>\n",
       "      <th>563</th>\n",
       "      <td>RANCHO QUEIMADO</td>\n",
       "      <td>SC</td>\n",
       "      <td>-27.678611</td>\n",
       "      <td>-49.041944</td>\n",
       "    </tr>\n",
       "    <tr>\n",
       "      <th>564</th>\n",
       "      <td>CHAPECO</td>\n",
       "      <td>SC</td>\n",
       "      <td>-27.085311</td>\n",
       "      <td>-52.635711</td>\n",
       "    </tr>\n",
       "    <tr>\n",
       "      <th>565</th>\n",
       "      <td>CAMPOS NOVOS</td>\n",
       "      <td>SC</td>\n",
       "      <td>-27.388611</td>\n",
       "      <td>-51.215833</td>\n",
       "    </tr>\n",
       "  </tbody>\n",
       "</table>\n",
       "<p>566 rows × 4 columns</p>\n",
       "</div>"
      ],
      "text/plain": [
       "                   city  uf   latitude  longitude\n",
       "0              BRASILIA  DF -15.789444 -47.925833\n",
       "1            BRAZLANDIA  DF -15.599722 -48.131111\n",
       "2       AGUAS EMENDADAS  DF -15.596491 -47.625801\n",
       "3     GAMA (PONTE ALTA)  DF -15.935278 -48.137500\n",
       "4    PARANOA (COOPA-DF)  DF -16.012222 -47.557417\n",
       "..                  ...  ..        ...        ...\n",
       "561           ARARANGUA  SC -28.931353 -49.497920\n",
       "562              ITAJAI  SC -26.950833 -48.761944\n",
       "563     RANCHO QUEIMADO  SC -27.678611 -49.041944\n",
       "564             CHAPECO  SC -27.085311 -52.635711\n",
       "565        CAMPOS NOVOS  SC -27.388611 -51.215833\n",
       "\n",
       "[566 rows x 4 columns]"
      ]
     },
     "execution_count": 128,
     "metadata": {},
     "output_type": "execute_result"
    }
   ],
   "source": [
    "df"
   ]
  },
  {
   "cell_type": "code",
   "execution_count": 129,
   "metadata": {},
   "outputs": [
    {
     "data": {
      "text/plain": [
       "array([-15.78944444, -47.92583332])"
      ]
     },
     "execution_count": 129,
     "metadata": {},
     "output_type": "execute_result"
    }
   ],
   "source": [
    "df.loc[(df['city'] == 'BRASILIA') & (df['uf'] == 'DF'), ['latitude', 'longitude']].values[0]"
   ]
  },
  {
   "cell_type": "code",
   "execution_count": 134,
   "metadata": {},
   "outputs": [
    {
     "data": {
      "text/html": [
       "<div>\n",
       "<style scoped>\n",
       "    .dataframe tbody tr th:only-of-type {\n",
       "        vertical-align: middle;\n",
       "    }\n",
       "\n",
       "    .dataframe tbody tr th {\n",
       "        vertical-align: top;\n",
       "    }\n",
       "\n",
       "    .dataframe thead th {\n",
       "        text-align: right;\n",
       "    }\n",
       "</style>\n",
       "<table border=\"1\" class=\"dataframe\">\n",
       "  <thead>\n",
       "    <tr style=\"text-align: right;\">\n",
       "      <th></th>\n",
       "      <th>city</th>\n",
       "      <th>uf</th>\n",
       "      <th>latitude</th>\n",
       "      <th>longitude</th>\n",
       "    </tr>\n",
       "  </thead>\n",
       "  <tbody>\n",
       "    <tr>\n",
       "      <th>0</th>\n",
       "      <td>BRASILIA</td>\n",
       "      <td>DF</td>\n",
       "      <td>-15.789444</td>\n",
       "      <td>-47.925833</td>\n",
       "    </tr>\n",
       "    <tr>\n",
       "      <th>1</th>\n",
       "      <td>BRAZLANDIA</td>\n",
       "      <td>DF</td>\n",
       "      <td>-15.599722</td>\n",
       "      <td>-48.131111</td>\n",
       "    </tr>\n",
       "    <tr>\n",
       "      <th>2</th>\n",
       "      <td>AGUAS EMENDADAS</td>\n",
       "      <td>DF</td>\n",
       "      <td>-15.596491</td>\n",
       "      <td>-47.625801</td>\n",
       "    </tr>\n",
       "    <tr>\n",
       "      <th>3</th>\n",
       "      <td>GAMA (PONTE ALTA)</td>\n",
       "      <td>DF</td>\n",
       "      <td>-15.935278</td>\n",
       "      <td>-48.137500</td>\n",
       "    </tr>\n",
       "    <tr>\n",
       "      <th>4</th>\n",
       "      <td>PARANOA (COOPA-DF)</td>\n",
       "      <td>DF</td>\n",
       "      <td>-16.012222</td>\n",
       "      <td>-47.557417</td>\n",
       "    </tr>\n",
       "    <tr>\n",
       "      <th>...</th>\n",
       "      <td>...</td>\n",
       "      <td>...</td>\n",
       "      <td>...</td>\n",
       "      <td>...</td>\n",
       "    </tr>\n",
       "    <tr>\n",
       "      <th>561</th>\n",
       "      <td>ARARANGUA</td>\n",
       "      <td>SC</td>\n",
       "      <td>-28.931353</td>\n",
       "      <td>-49.497920</td>\n",
       "    </tr>\n",
       "    <tr>\n",
       "      <th>562</th>\n",
       "      <td>ITAJAI</td>\n",
       "      <td>SC</td>\n",
       "      <td>-26.950833</td>\n",
       "      <td>-48.761944</td>\n",
       "    </tr>\n",
       "    <tr>\n",
       "      <th>563</th>\n",
       "      <td>RANCHO QUEIMADO</td>\n",
       "      <td>SC</td>\n",
       "      <td>-27.678611</td>\n",
       "      <td>-49.041944</td>\n",
       "    </tr>\n",
       "    <tr>\n",
       "      <th>564</th>\n",
       "      <td>CHAPECO</td>\n",
       "      <td>SC</td>\n",
       "      <td>-27.085311</td>\n",
       "      <td>-52.635711</td>\n",
       "    </tr>\n",
       "    <tr>\n",
       "      <th>565</th>\n",
       "      <td>CAMPOS NOVOS</td>\n",
       "      <td>SC</td>\n",
       "      <td>-27.388611</td>\n",
       "      <td>-51.215833</td>\n",
       "    </tr>\n",
       "  </tbody>\n",
       "</table>\n",
       "<p>566 rows × 4 columns</p>\n",
       "</div>"
      ],
      "text/plain": [
       "                   city  uf   latitude  longitude\n",
       "0              BRASILIA  DF -15.789444 -47.925833\n",
       "1            BRAZLANDIA  DF -15.599722 -48.131111\n",
       "2       AGUAS EMENDADAS  DF -15.596491 -47.625801\n",
       "3     GAMA (PONTE ALTA)  DF -15.935278 -48.137500\n",
       "4    PARANOA (COOPA-DF)  DF -16.012222 -47.557417\n",
       "..                  ...  ..        ...        ...\n",
       "561           ARARANGUA  SC -28.931353 -49.497920\n",
       "562              ITAJAI  SC -26.950833 -48.761944\n",
       "563     RANCHO QUEIMADO  SC -27.678611 -49.041944\n",
       "564             CHAPECO  SC -27.085311 -52.635711\n",
       "565        CAMPOS NOVOS  SC -27.388611 -51.215833\n",
       "\n",
       "[566 rows x 4 columns]"
      ]
     },
     "execution_count": 134,
     "metadata": {},
     "output_type": "execute_result"
    }
   ],
   "source": [
    "df"
   ]
  },
  {
   "cell_type": "code",
   "execution_count": 136,
   "metadata": {},
   "outputs": [
    {
     "data": {
      "application/vnd.plotly.v1+json": {
       "config": {
        "plotlyServerURL": "https://plot.ly"
       },
       "data": [
        {
         "hovertemplate": "latitude=%{lat}<br>longitude=%{lon}<extra></extra>",
         "lat": [
          -15.78944444,
          -15.59972221,
          -15.596491,
          -15.93527777,
          -16.012222,
          -16.64277777,
          -17.745066,
          -13.30944444,
          -18.969142,
          -16.26055555,
          -15.90277777,
          -15.93972221,
          -14.97972221,
          -17.9236111,
          -14.08916666,
          -15.22027777,
          -16.96694443,
          -14.13305554,
          -17.78527777,
          -17.45472222,
          -16.9625,
          -16.42305554,
          -17.33694444,
          -12.82055554,
          -13.25361111,
          -17.30416666,
          -18.154779,
          -18.40972222,
          -16.78499999,
          -16.67972221,
          -16.39944444,
          -20.447195,
          -22.5525,
          -20.79499999,
          -22.30055555,
          -19.69555555,
          -18.9886111,
          -20.47555554,
          -18.51222222,
          -22.19388888,
          -20.39555555,
          -21.70583333,
          -18.99666666,
          -18.80222222,
          -21.60916666,
          -19.42027777,
          -19.12249999,
          -21.77499999,
          -22.85722222,
          -23.0025,
          -23.96694443,
          -23.44944444,
          -20.98166666,
          -20.44444444,
          -21.4786111,
          -21.75,
          -18.49277777,
          -17.63527777,
          -15.559295,
          -14.65,
          -13.45388888,
          -12.555,
          -13.78583333,
          -9.9525,
          -16.4625,
          -14.01638888,
          -17.33944444,
          -9.56333333,
          -13.30388888,
          -15.53138888,
          -13.70805555,
          -11.28027777,
          -14.42138888,
          -12.60305555,
          -11.98222221,
          -9.90638888,
          -11.37499999,
          -11.61888888,
          -15.06277777,
          -15.57999999,
          -10.07722221,
          -9.97055554,
          -12.52194443,
          -13.0386111,
          -13.41111111,
          -13.18472221,
          -14.92777777,
          -16.34166666,
          -17.17499999,
          -17.8411111,
          -15.32472221,
          -15.12472221,
          -15.23444444,
          -10.48416666,
          -11.98777777,
          -14.82888888,
          -9.55111111,
          -9.74916666,
          -9.42027777,
          -9.80444444,
          -10.1286111,
          -9.28749999,
          -9.62222221,
          -13.005515,
          -12.12472221,
          -12.1525,
          -17.73944444,
          -12.67555554,
          -13.52777777,
          -12.52416666,
          -14.65888888,
          -12.13166666,
          -12.1961111,
          -14.88638888,
          -11.00333333,
          -13.33249999,
          -13.25111111,
          -17.96305555,
          -9.62555554,
          -11.328998,
          -12.55777777,
          -14.20805555,
          -16.38888888,
          -10.44305555,
          -11.08472221,
          -13.155681,
          -12.03583333,
          -10.72305554,
          -14.18194443,
          -13.00944444,
          -10.98472221,
          -15.28027777,
          -13.90694444,
          -12.19305555,
          -11.205,
          -11.66472222,
          -10.455,
          -13.3436111,
          -14.17138888,
          -15.24472221,
          -16.08805555,
          -9.00138888,
          -10.08083332,
          -11.05222222,
          -17.00694444,
          -12.80833333,
          -11.05861111,
          -3.81583333,
          -3.74805555,
          -4.22916666,
          -7.30083333,
          -6.39638888,
          -6.01749999,
          -5.17444443,
          -5.0911111,
          -4.83777777,
          -5.18666666,
          -7.07777777,
          -5.90555555,
          -3.48416666,
          -3.1211111,
          -3.73222221,
          -4.97888888,
          -2.52666666,
          -7.45555555,
          -7.33722221,
          -3.74277777,
          -5.81611111,
          -2.27083332,
          -2.59222221,
          -1.66111111,
          -4.24305555,
          -5.50666666,
          -6.03305554,
          -9.10833333,
          -6.65333333,
          -5.55583333,
          -4.82138888,
          -4.32055554,
          -3.26916666,
          -6.975451,
          -7.225574,
          -7.16527777,
          -7.07972221,
          -6.835777,
          -7.89444444,
          -7.48333333,
          -6.56194444,
          -7.31833332,
          -8.05916666,
          -9.38833333,
          -8.4336111,
          -8.91083333,
          -7.83972221,
          -8.50388888,
          -8.36527777,
          -8.50944444,
          -7.95416666,
          -8.59888888,
          -8.66666666,
          -7.88583333,
          -8.05805555,
          -3.08666666,
          -6.76138888,
          -5.03472221,
          -9.07999999,
          -8.132288,
          -8.36444444,
          -4.2761111,
          -8.37638888,
          -9.28583333,
          -7.0711111,
          -9.03305554,
          -7.44138888,
          -6.97416666,
          -5.34916666,
          -6.4236111,
          -9.87527777,
          -8.11805554,
          -10.42916666,
          -8.333531,
          -4.86416666,
          -6.08944444,
          -5.83722221,
          -6.46749999,
          -5.15111111,
          -4.90416666,
          -5.62666666,
          -5.16,
          -6.22805554,
          -5.53499999,
          -10.9525,
          -11.27249999,
          -10.73805555,
          -10.47388888,
          -10.67166666,
          -10.20777777,
          -9.35833333,
          -9.67972221,
          -7.61083333,
          -8.26722221,
          -8.95,
          -8.14277777,
          -11.02388888,
          -3.10333333,
          -6.65027777,
          -8.77666666,
          -7.26055555,
          -7.5525,
          -7.20555555,
          -4.09749999,
          -3.29472221,
          -3.58333333,
          -3.13333333,
          -3.39888888,
          -2.63916666,
          -2.53472221,
          -2.6336111,
          -2.05666666,
          -0.98722221,
          -5.7886111,
          -0.125207,
          -8.0911111,
          3.81361111,
          0.69416666,
          0.03499999,
          0.56777777,
          -1.411228,
          -1.30083333,
          -3.51083333,
          -3.8436111,
          -3.86416666,
          -2.90055555,
          -2.59249999,
          -4.82749999,
          -0.61888888,
          -6.63972221,
          -1.05583333,
          -0.72777777,
          -1.68027777,
          -3.82277777,
          -6.07749999,
          -4.27694443,
          -1.88083332,
          -9.34055555,
          -6.74333333,
          -4.24388888,
          -2.23972221,
          -2,
          -5.36638888,
          -8.30361111,
          -1.82194443,
          -6.31999999,
          -7.11055555,
          -1.73472221,
          -2.5025,
          -4.28055554,
          -3.27027777,
          -8.04333333,
          -8.72972221,
          -8.7936111,
          -12.73499999,
          -11.44583333,
          -9.94888888,
          2.81694443,
          -10.14777777,
          -12.615,
          -12.01527777,
          -11.74499999,
          -8.9686111,
          -7.10388888,
          -11.59444444,
          -11.88749999,
          -10.43444444,
          -9.57638888,
          -8.15472222,
          -5.6436111,
          -7.124191,
          -8.092708,
          -9.793363,
          -10.47694443,
          -11.42888888,
          -11.28416666,
          -12.59222221,
          -10.828286,
          -20.27083332,
          -19.98833333,
          -19.35694444,
          -20.63638888,
          -18.6761111,
          -20.75055555,
          -21.10083333,
          -18.29138888,
          -19.40722222,
          -20.38555555,
          -20.46694443,
          -20.10416666,
          -21.22833332,
          -19.60583333,
          -16.68638888,
          -18.91694443,
          -16.16666666,
          -22.86166666,
          -20.762607,
          -19.57388888,
          -18.95277777,
          -20.55666666,
          -21.106502,
          -21.56638888,
          -20.745237,
          -21.105,
          -21.769965,
          -19.53921,
          -19.98586,
          -19.88388888,
          -17.79888888,
          -18.996684,
          -20.455,
          -19.87527777,
          -14.40833333,
          -17.89284,
          -18.200855,
          -22.39583333,
          -21.918066,
          -22.31444444,
          -18.830354,
          -18.78694444,
          -19.53277777,
          -19.88527777,
          -19.48194443,
          -18.231052,
          -18.747711,
          -15.08583333,
          -18.78062,
          -17.70555555,
          -16.55416666,
          -14.91222222,
          -15.52416666,
          -17.258064,
          -17.56138888,
          -16.36277777,
          -15.30027777,
          -15.751536,
          -16.57555554,
          -15.72305554,
          -16.16027777,
          -17.78444444,
          -19.73583333,
          -20.03138888,
          -20.26333333,
          -21.54666666,
          -15.44805555,
          -19.23249999,
          -20.91,
          -18.52055554,
          -15.80277777,
          -20.17333332,
          -20.0311111,
          -16.84888888,
          -21.680722,
          -19.71,
          -19.45527777,
          -20.715,
          -17.24444444,
          -19.97999999,
          -22.75777777,
          -23.05027777,
          -22.58972221,
          -21.58749999,
          -22.97527777,
          -21.71472222,
          -22.3761111,
          -22.45138888,
          -22.46472222,
          -22.35805555,
          -22.4486111,
          -23.2236111,
          -22.04166666,
          -22.86138888,
          -22.33472221,
          -22.09833333,
          -22.653579,
          -22.86749999,
          -22.97555554,
          -21.9386111,
          -21.95055555,
          -22.93999999,
          -22.34722221,
          -22.98833333,
          -22.64583333,
          -22.8711111,
          -23.49638888,
          -22.358052,
          -22.75027777,
          -22.11999999,
          -20.58444444,
          -21.980353,
          -24.67166666,
          -23.4261111,
          -23.98194443,
          -23.89083333,
          -23.00055555,
          -22.37277777,
          -23.10166666,
          -22.70305555,
          -21.66611111,
          -23.04166666,
          -20.165,
          -21.31916666,
          -21.08555555,
          -21.13305554,
          -21.85555555,
          -21.78055554,
          -22.415,
          -23.22833332,
          -22.4711111,
          -22.95194444,
          -24.96277777,
          -21.33833333,
          -20.55916666,
          -20.35972222,
          -23.52388888,
          -21.45777777,
          -22.235222,
          -20.94805555,
          -23.84472221,
          -24.53305554,
          -21.927251,
          -22.68888888,
          -21.46111111,
          -23.724501,
          -25.4486111,
          -25.01083333,
          -24.77999999,
          -24.53333333,
          -23.50527777,
          -24.43388888,
          -25.567879,
          -23.39027777,
          -24.18388888,
          -23.40527777,
          -23.41527777,
          -25.69916666,
          -25.60194444,
          -22.63944444,
          -22.65833333,
          -25.72194443,
          -23.35916666,
          -23.77333332,
          -24.28027777,
          -25.50888888,
          -25.83555555,
          -26.3986111,
          -26.41722221,
          -24.57083332,
          -25.37138888,
          -25.322464,
          -30.05361111,
          -32.07888888,
          -29.72499999,
          -30.75055555,
          -27.85444444,
          -29.35027777,
          -29.83999999,
          -27.89055555,
          -31.40333333,
          -30.54527777,
          -29.87222221,
          -29.70916666,
          -31.34777777,
          -27.65777777,
          -28.7486111,
          -28.65,
          -30.368578,
          -30.34138888,
          -29.191599,
          -30.01027777,
          -32.53472221,
          -28.859211,
          -30.807953,
          -28.226805,
          -29.164581,
          -28.222381,
          -28.41722221,
          -28.60344,
          -27.39555555,
          -27.92027777,
          -31.24833333,
          -29.36888888,
          -28.513602,
          -31.0025,
          -29.44916666,
          -28.65333333,
          -29.674293,
          -29.08944444,
          -31.8025,
          -29.70222222,
          -30.54305555,
          -28.70472222,
          -29.04916666,
          -33.74222221,
          -30.1861111,
          -27.6025,
          -28.53249999,
          -28.27564,
          -26.40638888,
          -26.91361111,
          -27.16916666,
          -28.12694443,
          -26.286562,
          -26.08138888,
          -26.78638888,
          -26.938666,
          -26.819156,
          -27.2886111,
          -26.93749999,
          -26.2486111,
          -27.41833332,
          -26.3936111,
          -27.80222222,
          -28.60444444,
          -28.931353,
          -26.95083333,
          -27.6786111,
          -27.0853111,
          -27.3886111
         ],
         "legendgroup": "",
         "lon": [
          -47.92583332,
          -48.1311111,
          -47.625801,
          -48.13749999,
          -47.557417,
          -49.22027777,
          -49.101698,
          -49.11749999,
          -50.633449,
          -47.96694443,
          -52.24527777,
          -50.14138888,
          -49.53944444,
          -51.71749999,
          -46.36638888,
          -48.98999999,
          -51.81749999,
          -47.52333332,
          -50.965,
          -52.60111111,
          -50.42555554,
          -51.14888888,
          -49.91472222,
          -50.33583333,
          -46.89027777,
          -48.28416666,
          -47.927614,
          -49.19194444,
          -47.61305555,
          -48.61805554,
          -47.62583332,
          -54.722615,
          -55.71638888,
          -51.71333333,
          -53.82277777,
          -51.18166666,
          -56.62277777,
          -55.78388888,
          -54.7361111,
          -54.91138888,
          -56.43166666,
          -57.88666666,
          -57.63749999,
          -52.6025,
          -55.17749999,
          -54.55305555,
          -51.72083332,
          -54.52805554,
          -54.60555555,
          -55.32944443,
          -55.02416666,
          -54.18194443,
          -54.97194443,
          -52.87583332,
          -56.13777777,
          -52.47138888,
          -53.17138888,
          -54.76055555,
          -56.062951,
          -57.43166666,
          -56.67722221,
          -55.72277777,
          -57.8386111,
          -54.89777777,
          -54.58027777,
          -52.21166666,
          -53.22444443,
          -57.3936111,
          -58.76333333,
          -55.13555555,
          -59.7625,
          -57.52666666,
          -54.0361111,
          -52.1625,
          -55.56611111,
          -58.57222221,
          -58.77472221,
          -50.72777777,
          -59.87305554,
          -54.3811111,
          -56.17916666,
          -55.82749999,
          -58.23138888,
          -57.09222221,
          -54.75222222,
          -53.2575,
          -53.8836111,
          -53.76611111,
          -54.50166666,
          -53.28944444,
          -57.22583332,
          -58.12722221,
          -59.3461111,
          -52.37249999,
          -51.4261111,
          -56.44194444,
          -35.77027777,
          -37.43083332,
          -36.62027777,
          -36.61916666,
          -36.28638888,
          -35.56583333,
          -37.76722221,
          -38.50576,
          -45.02694443,
          -45.82972221,
          -39.25861111,
          -39.08944444,
          -40.11972221,
          -40.29972221,
          -39.18138888,
          -40.35416666,
          -38.96749999,
          -40.80138888,
          -44.53638888,
          -44.61749999,
          -43.40527777,
          -38.70333333,
          -42.07722221,
          -41.864504,
          -41.38888888,
          -42.74972221,
          -39.18249999,
          -40.14833333,
          -43.13888888,
          -41.774125,
          -37.68388888,
          -43.65111111,
          -41.67222221,
          -39.61694443,
          -39.61694443,
          -39.09138888,
          -38.97222221,
          -43.21333333,
          -40.465,
          -39.02305554,
          -41.20694444,
          -39.12666666,
          -39.69249999,
          -40.22944443,
          -39.21527777,
          -39.9125,
          -38.34583333,
          -45.20083333,
          -39.55805555,
          -38.49583333,
          -38.44416666,
          -38.53777777,
          -40.34583333,
          -38.95888888,
          -39.2711111,
          -39.26888888,
          -40.28138888,
          -39.28944444,
          -38.36472222,
          -37.69972221,
          -40.67222221,
          -40.36277777,
          -38.62777777,
          -39.5886111,
          -40.08722221,
          -41.01194444,
          -39.05722222,
          -44.21361111,
          -46.02749999,
          -47.45972222,
          -43.35222222,
          -46.16222222,
          -43.62416666,
          -42.7075,
          -45.37249999,
          -44.79499999,
          -45.23694444,
          -44.23333333,
          -45.93194443,
          -47.41833332,
          -47.45972222,
          -43.3436111,
          -46.44944444,
          -45.65111111,
          -35.718128,
          -35.904831,
          -34.81555555,
          -37.27277777,
          -38.311583,
          -37.12472221,
          -36.28638888,
          -35.13527777,
          -38.14083333,
          -34.95916666,
          -40.52333332,
          -37.05555555,
          -36.49333333,
          -35.80111111,
          -39.31527777,
          -36.02833332,
          -37.71166666,
          -38.29499999,
          -38.58416666,
          -35.56805554,
          -40.10277777,
          -39.0961111,
          -41.78305554,
          -43.00333333,
          -42.80138888,
          -44.32777777,
          -41.142945,
          -42.2525,
          -41.79444444,
          -43.85944444,
          -43.32444443,
          -41.40416666,
          -42.70111111,
          -44.34499999,
          -42.14694444,
          -41.51222222,
          -41.74888888,
          -45.34583333,
          -42.97583332,
          -45.17305554,
          -45.094625,
          -42.14555555,
          -42.72749999,
          -35.20805555,
          -37.08499999,
          -36.57305554,
          -37.36694443,
          -37.815,
          -35.48749999,
          -36.02666666,
          -36.87222221,
          -37.05444444,
          -37.79499999,
          -38.10833333,
          -36.48194443,
          -37.47138888,
          -37.43194443,
          -69.92638888,
          -68.16527777,
          -72.68138888,
          -72.74777777,
          -72.78666666,
          -70.3436111,
          -68.73527777,
          -60.01638888,
          -69.8686111,
          -67.33249999,
          -64.7886111,
          -63.07138888,
          -59.8886111,
          -63.14527777,
          -60.62833332,
          -59.12944443,
          -58.48277777,
          -57.67388888,
          -56.75611111,
          -57.75805555,
          -59.60055555,
          -60.02583332,
          -62.92416666,
          -61.28833333,
          -67.061246,
          -60.38055554,
          -51.8625,
          -51.40388888,
          -51.08888888,
          -50.8236111,
          -48.439512,
          -47.94805555,
          -52.96333333,
          -50.63805555,
          -54.21638888,
          -47.49499999,
          -48.36055555,
          -48.1736111,
          -47.35666666,
          -51.95694444,
          -46.78277777,
          -48.51583333,
          -50.47805554,
          -49.67499999,
          -50.14222221,
          -55.99305555,
          -55.51972221,
          -50.35027777,
          -51.14194444,
          -49.93944444,
          -49.49972221,
          -54.07638888,
          -49.05111111,
          -49.28277777,
          -52.11166666,
          -55.78777777,
          -49.9261111,
          -47.0575,
          -54.72027777,
          -47.56388888,
          -52.39472221,
          -50.00694444,
          -49.85638888,
          -63.84583333,
          -60.15777777,
          -61.43416666,
          -62.96194444,
          -60.69083333,
          -48.31444444,
          -47.87194443,
          -48.54444444,
          -49.05166666,
          -48.17722221,
          -48.20111111,
          -46.84722221,
          -49.60833333,
          -45.92194443,
          -49.72333332,
          -46.63944444,
          -48.11194444,
          -48.781267,
          -48.478605,
          -47.132732,
          -49.62944443,
          -48.18499999,
          -47.21222222,
          -49.5286111,
          -49.847882,
          -40.30583333,
          -40.57944443,
          -40.0686111,
          -40.74194444,
          -39.86416666,
          -41.48888888,
          -41.03944444,
          -40.73638888,
          -40.53972221,
          -41.18999999,
          -40.40388888,
          -41.10694444,
          -43.76777777,
          -46.94972221,
          -43.84388888,
          -48.25555555,
          -40.68777777,
          -46.04333333,
          -42.864013,
          -42.62249999,
          -49.52499999,
          -43.75611111,
          -44.250928,
          -45.40416666,
          -46.633916,
          -42.37583332,
          -43.364329,
          -49.518133,
          -48.151574,
          -43.96944443,
          -40.25,
          -46.985935,
          -45.45388888,
          -47.43416666,
          -44.40416666,
          -41.515423,
          -45.459836,
          -44.96194444,
          -46.382996,
          -45.37305554,
          -41.977007,
          -42.94305555,
          -41.09083333,
          -44.41694443,
          -45.59388888,
          -43.648269,
          -44.453785,
          -44.01611111,
          -40.986505,
          -42.38916666,
          -46.88194443,
          -42.80861111,
          -46.43555555,
          -44.835556,
          -47.19916666,
          -45.12388888,
          -45.61749999,
          -41.457787,
          -41.48555555,
          -42.43583333,
          -42.31027777,
          -46.11944443,
          -42.13722221,
          -44.01111111,
          -42.18277777,
          -43.26111111,
          -44.36638888,
          -44.96416666,
          -47.11416666,
          -46.44055555,
          -43.29694444,
          -44.87499999,
          -46.00888888,
          -42.03527777,
          -45.944389,
          -47.96194444,
          -44.17333332,
          -44.86444444,
          -46.88166666,
          -43.95861111,
          -43.68472221,
          -43.59555555,
          -43.28222221,
          -41.95833333,
          -42.02138888,
          -41.34388888,
          -41.81194444,
          -44.44499999,
          -43.29138888,
          -43.69555555,
          -42.98694444,
          -44.72694443,
          -41.05166666,
          -43.41138888,
          -42.67694443,
          -43.20833333,
          -44.040916,
          -43.10194444,
          -44.30333333,
          -42.60083333,
          -42.01027777,
          -43.40277777,
          -43.41777777,
          -43.19055555,
          -42.41555555,
          -42.60888888,
          -46.61999999,
          -49.028877,
          -45.60388888,
          -51.40861111,
          -47.38249999,
          -47.883927,
          -47.54583333,
          -47.58555555,
          -48.88583333,
          -47.99916666,
          -49.84333333,
          -50.97472221,
          -48.9411111,
          -47.62333332,
          -49.73472221,
          -45.52083332,
          -50.59499999,
          -50.93027777,
          -49.92027777,
          -48.84055555,
          -48.79972221,
          -47.07527777,
          -46.80527777,
          -45.41694443,
          -48.5575,
          -46.53055554,
          -48.41638888,
          -48.11388888,
          -48.54499999,
          -47.77527777,
          -46.86944443,
          -51.55222222,
          -49.965111,
          -48.47138888,
          -46.14333333,
          -47.86416666,
          -50.490251,
          -45.00555555,
          -47.57944443,
          -46.677501,
          -49.23055554,
          -50.85388888,
          -50.04638888,
          -54.01916666,
          -49.94638888,
          -51.95388888,
          -51.077946,
          -53.63583333,
          -53.04888888,
          -51.93277777,
          -50.57777777,
          -53.09527777,
          -54.48305554,
          -52.89027777,
          -52.13444444,
          -53.74805555,
          -52.93194443,
          -50.18055554,
          -50.21027777,
          -48.80861111,
          -50.36888888,
          -51.35361111,
          -52.3486111,
          -52.80027777,
          -52.40083333,
          -49.157733,
          -51.17472221,
          -52.16777777,
          -53.72055554,
          -55.40138888,
          -53.7911111,
          -49.73333333,
          -57.08194443,
          -54.47999999,
          -52.70083333,
          -53.46694443,
          -52.38194443,
          -55.52555554,
          -54.01333333,
          -52.30583333,
          -50.05777777,
          -56.01638888,
          -56.437115,
          -54.31083333,
          -54.885653,
          -50.13583333,
          -53.37583332,
          -52.542387,
          -51.83424,
          -52.403582,
          -51.534202,
          -51.512845,
          -54.9625,
          -53.673597,
          -53.42944443,
          -53.31805554,
          -50.90638888,
          -50.82722221,
          -50.882738,
          -54.61805554,
          -51.82333332,
          -53.11194444,
          -51.064042,
          -53.82666666,
          -52.40722222,
          -54.69444444,
          -52.52472221,
          -51.87083332,
          -50.14972221,
          -53.37222221,
          -51.17805554,
          -48.61999999,
          -49.31527777,
          -49.934617,
          -52.85027777,
          -49.26805554,
          -51.55888888,
          -49.47972221,
          -53.633114,
          -48.64166666,
          -53.51416666,
          -52.39809,
          -50.98552,
          -50.60416666,
          -50.14555555,
          -49.57416666,
          -49.64694444,
          -50.36333333,
          -50.33555555,
          -48.81333333,
          -49.49792,
          -48.76194444,
          -49.04194444,
          -52.6357111,
          -51.21583333
         ],
         "marker": {
          "color": "#636efa"
         },
         "mode": "markers",
         "name": "",
         "showlegend": false,
         "subplot": "mapbox",
         "type": "scattermapbox"
        },
        {
         "lat": [
          -15.78944444,
          -15.59972221
         ],
         "line": {
          "color": "steelblue"
         },
         "lon": [
          -47.92583332,
          -48.1311111
         ],
         "mode": "lines",
         "type": "scattermapbox"
        },
        {
         "lat": [
          -15.78944444,
          -15.93527777
         ],
         "line": {
          "color": "steelblue"
         },
         "lon": [
          -47.92583332,
          -48.13749999
         ],
         "mode": "lines",
         "type": "scattermapbox"
        },
        {
         "lat": [
          -15.78944444,
          -16.012222
         ],
         "line": {
          "color": "steelblue"
         },
         "lon": [
          -47.92583332,
          -47.557417
         ],
         "mode": "lines",
         "type": "scattermapbox"
        },
        {
         "lat": [
          -15.78944444,
          -16.67972221
         ],
         "line": {
          "color": "steelblue"
         },
         "lon": [
          -47.92583332,
          -48.61805554
         ],
         "mode": "lines",
         "type": "scattermapbox"
        },
        {
         "lat": [
          -15.78944444,
          -16.39944444
         ],
         "line": {
          "color": "steelblue"
         },
         "lon": [
          -47.92583332,
          -47.62583332
         ],
         "mode": "lines",
         "type": "scattermapbox"
        },
        {
         "lat": [
          -15.59972221,
          -15.93527777
         ],
         "line": {
          "color": "steelblue"
         },
         "lon": [
          -48.1311111,
          -48.13749999
         ],
         "mode": "lines",
         "type": "scattermapbox"
        },
        {
         "lat": [
          -15.59972221,
          -16.012222
         ],
         "line": {
          "color": "steelblue"
         },
         "lon": [
          -48.1311111,
          -47.557417
         ],
         "mode": "lines",
         "type": "scattermapbox"
        },
        {
         "lat": [
          -15.93527777,
          -16.67972221
         ],
         "line": {
          "color": "steelblue"
         },
         "lon": [
          -48.13749999,
          -48.61805554
         ],
         "mode": "lines",
         "type": "scattermapbox"
        },
        {
         "lat": [
          -16.012222,
          -16.78499999
         ],
         "line": {
          "color": "steelblue"
         },
         "lon": [
          -47.557417,
          -47.61305555
         ],
         "mode": "lines",
         "type": "scattermapbox"
        },
        {
         "lat": [
          -16.012222,
          -16.67972221
         ],
         "line": {
          "color": "steelblue"
         },
         "lon": [
          -47.557417,
          -48.61805554
         ],
         "mode": "lines",
         "type": "scattermapbox"
        },
        {
         "lat": [
          -16.012222,
          -16.39944444
         ],
         "line": {
          "color": "steelblue"
         },
         "lon": [
          -47.557417,
          -47.62583332
         ],
         "mode": "lines",
         "type": "scattermapbox"
        },
        {
         "lat": [
          -16.012222,
          -15.52416666
         ],
         "line": {
          "color": "steelblue"
         },
         "lon": [
          -47.557417,
          -46.43555555
         ],
         "mode": "lines",
         "type": "scattermapbox"
        },
        {
         "lat": [
          -16.012222,
          -15.30027777
         ],
         "line": {
          "color": "steelblue"
         },
         "lon": [
          -47.557417,
          -45.61749999
         ],
         "mode": "lines",
         "type": "scattermapbox"
        },
        {
         "lat": [
          -16.012222,
          -17.78444444
         ],
         "line": {
          "color": "steelblue"
         },
         "lon": [
          -47.557417,
          -46.11944443
         ],
         "mode": "lines",
         "type": "scattermapbox"
        },
        {
         "lat": [
          -16.64277777,
          -17.745066
         ],
         "line": {
          "color": "steelblue"
         },
         "lon": [
          -49.22027777,
          -49.101698
         ],
         "mode": "lines",
         "type": "scattermapbox"
        },
        {
         "lat": [
          -16.64277777,
          -14.97972221
         ],
         "line": {
          "color": "steelblue"
         },
         "lon": [
          -49.22027777,
          -49.53944444
         ],
         "mode": "lines",
         "type": "scattermapbox"
        },
        {
         "lat": [
          -16.64277777,
          -16.67972221
         ],
         "line": {
          "color": "steelblue"
         },
         "lon": [
          -49.22027777,
          -48.61805554
         ],
         "mode": "lines",
         "type": "scattermapbox"
        },
        {
         "lat": [
          -16.64277777,
          -16.39944444
         ],
         "line": {
          "color": "steelblue"
         },
         "lon": [
          -49.22027777,
          -47.62583332
         ],
         "mode": "lines",
         "type": "scattermapbox"
        },
        {
         "lat": [
          -17.745066,
          -17.33694444
         ],
         "line": {
          "color": "steelblue"
         },
         "lon": [
          -49.101698,
          -49.91472222
         ],
         "mode": "lines",
         "type": "scattermapbox"
        },
        {
         "lat": [
          -17.745066,
          -18.154779
         ],
         "line": {
          "color": "steelblue"
         },
         "lon": [
          -49.101698,
          -47.927614
         ],
         "mode": "lines",
         "type": "scattermapbox"
        },
        {
         "lat": [
          -17.745066,
          -18.40972222
         ],
         "line": {
          "color": "steelblue"
         },
         "lon": [
          -49.101698,
          -49.19194444
         ],
         "mode": "lines",
         "type": "scattermapbox"
        },
        {
         "lat": [
          -17.745066,
          -16.67972221
         ],
         "line": {
          "color": "steelblue"
         },
         "lon": [
          -49.101698,
          -48.61805554
         ],
         "mode": "lines",
         "type": "scattermapbox"
        },
        {
         "lat": [
          -17.745066,
          -16.39944444
         ],
         "line": {
          "color": "steelblue"
         },
         "lon": [
          -49.101698,
          -47.62583332
         ],
         "mode": "lines",
         "type": "scattermapbox"
        },
        {
         "lat": [
          -17.745066,
          -18.95277777
         ],
         "line": {
          "color": "steelblue"
         },
         "lon": [
          -49.101698,
          -49.52499999
         ],
         "mode": "lines",
         "type": "scattermapbox"
        },
        {
         "lat": [
          -17.745066,
          -19.98586
         ],
         "line": {
          "color": "steelblue"
         },
         "lon": [
          -49.101698,
          -48.151574
         ],
         "mode": "lines",
         "type": "scattermapbox"
        },
        {
         "lat": [
          -17.745066,
          -18.996684
         ],
         "line": {
          "color": "steelblue"
         },
         "lon": [
          -49.101698,
          -46.985935
         ],
         "mode": "lines",
         "type": "scattermapbox"
        },
        {
         "lat": [
          -18.969142,
          -19.69555555
         ],
         "line": {
          "color": "steelblue"
         },
         "lon": [
          -50.633449,
          -51.18166666
         ],
         "mode": "lines",
         "type": "scattermapbox"
        },
        {
         "lat": [
          -18.969142,
          -19.53921
         ],
         "line": {
          "color": "steelblue"
         },
         "lon": [
          -50.633449,
          -49.518133
         ],
         "mode": "lines",
         "type": "scattermapbox"
        },
        {
         "lat": [
          -16.26055555,
          -16.39944444
         ],
         "line": {
          "color": "steelblue"
         },
         "lon": [
          -47.96694443,
          -47.62583332
         ],
         "mode": "lines",
         "type": "scattermapbox"
        },
        {
         "lat": [
          -17.78527777,
          -17.33694444
         ],
         "line": {
          "color": "steelblue"
         },
         "lon": [
          -50.965,
          -49.91472222
         ],
         "mode": "lines",
         "type": "scattermapbox"
        },
        {
         "lat": [
          -17.45472222,
          -18.49277777
         ],
         "line": {
          "color": "steelblue"
         },
         "lon": [
          -52.60111111,
          -53.17138888
         ],
         "mode": "lines",
         "type": "scattermapbox"
        },
        {
         "lat": [
          -17.45472222,
          -17.33944444
         ],
         "line": {
          "color": "steelblue"
         },
         "lon": [
          -52.60111111,
          -53.22444443
         ],
         "mode": "lines",
         "type": "scattermapbox"
        },
        {
         "lat": [
          -17.45472222,
          -17.8411111
         ],
         "line": {
          "color": "steelblue"
         },
         "lon": [
          -52.60111111,
          -53.28944444
         ],
         "mode": "lines",
         "type": "scattermapbox"
        },
        {
         "lat": [
          -16.42305554,
          -17.33694444
         ],
         "line": {
          "color": "steelblue"
         },
         "lon": [
          -51.14888888,
          -49.91472222
         ],
         "mode": "lines",
         "type": "scattermapbox"
        },
        {
         "lat": [
          -17.33694444,
          -18.40972222
         ],
         "line": {
          "color": "steelblue"
         },
         "lon": [
          -49.91472222,
          -49.19194444
         ],
         "mode": "lines",
         "type": "scattermapbox"
        },
        {
         "lat": [
          -12.82055554,
          -12.60305555
         ],
         "line": {
          "color": "steelblue"
         },
         "lon": [
          -50.33583333,
          -52.1625
         ],
         "mode": "lines",
         "type": "scattermapbox"
        },
        {
         "lat": [
          -12.82055554,
          -12.59222221
         ],
         "line": {
          "color": "steelblue"
         },
         "lon": [
          -50.33583333,
          -49.5286111
         ],
         "mode": "lines",
         "type": "scattermapbox"
        },
        {
         "lat": [
          -18.154779,
          -19.60583333
         ],
         "line": {
          "color": "steelblue"
         },
         "lon": [
          -47.927614,
          -46.94972221
         ],
         "mode": "lines",
         "type": "scattermapbox"
        },
        {
         "lat": [
          -18.154779,
          -18.91694443
         ],
         "line": {
          "color": "steelblue"
         },
         "lon": [
          -47.927614,
          -48.25555555
         ],
         "mode": "lines",
         "type": "scattermapbox"
        },
        {
         "lat": [
          -18.154779,
          -18.52055554
         ],
         "line": {
          "color": "steelblue"
         },
         "lon": [
          -47.927614,
          -46.44055555
         ],
         "mode": "lines",
         "type": "scattermapbox"
        },
        {
         "lat": [
          -18.40972222,
          -18.95277777
         ],
         "line": {
          "color": "steelblue"
         },
         "lon": [
          -49.19194444,
          -49.52499999
         ],
         "mode": "lines",
         "type": "scattermapbox"
        },
        {
         "lat": [
          -18.40972222,
          -19.53921
         ],
         "line": {
          "color": "steelblue"
         },
         "lon": [
          -49.19194444,
          -49.518133
         ],
         "mode": "lines",
         "type": "scattermapbox"
        },
        {
         "lat": [
          -18.40972222,
          -19.98586
         ],
         "line": {
          "color": "steelblue"
         },
         "lon": [
          -49.19194444,
          -48.151574
         ],
         "mode": "lines",
         "type": "scattermapbox"
        },
        {
         "lat": [
          -18.40972222,
          -19.71
         ],
         "line": {
          "color": "steelblue"
         },
         "lon": [
          -49.19194444,
          -47.96194444
         ],
         "mode": "lines",
         "type": "scattermapbox"
        },
        {
         "lat": [
          -16.78499999,
          -16.67972221
         ],
         "line": {
          "color": "steelblue"
         },
         "lon": [
          -47.61305555,
          -48.61805554
         ],
         "mode": "lines",
         "type": "scattermapbox"
        },
        {
         "lat": [
          -16.78499999,
          -16.39944444
         ],
         "line": {
          "color": "steelblue"
         },
         "lon": [
          -47.61305555,
          -47.62583332
         ],
         "mode": "lines",
         "type": "scattermapbox"
        },
        {
         "lat": [
          -16.78499999,
          -17.56138888
         ],
         "line": {
          "color": "steelblue"
         },
         "lon": [
          -47.61305555,
          -47.19916666
         ],
         "mode": "lines",
         "type": "scattermapbox"
        },
        {
         "lat": [
          -16.78499999,
          -17.78444444
         ],
         "line": {
          "color": "steelblue"
         },
         "lon": [
          -47.61305555,
          -46.11944443
         ],
         "mode": "lines",
         "type": "scattermapbox"
        },
        {
         "lat": [
          -16.78499999,
          -18.52055554
         ],
         "line": {
          "color": "steelblue"
         },
         "lon": [
          -47.61305555,
          -46.44055555
         ],
         "mode": "lines",
         "type": "scattermapbox"
        },
        {
         "lat": [
          -16.67972221,
          -16.39944444
         ],
         "line": {
          "color": "steelblue"
         },
         "lon": [
          -48.61805554,
          -47.62583332
         ],
         "mode": "lines",
         "type": "scattermapbox"
        },
        {
         "lat": [
          -16.67972221,
          -18.52055554
         ],
         "line": {
          "color": "steelblue"
         },
         "lon": [
          -48.61805554,
          -46.44055555
         ],
         "mode": "lines",
         "type": "scattermapbox"
        },
        {
         "lat": [
          -16.39944444,
          -18.996684
         ],
         "line": {
          "color": "steelblue"
         },
         "lon": [
          -47.62583332,
          -46.985935
         ],
         "mode": "lines",
         "type": "scattermapbox"
        },
        {
         "lat": [
          -16.39944444,
          -15.52416666
         ],
         "line": {
          "color": "steelblue"
         },
         "lon": [
          -47.62583332,
          -46.43555555
         ],
         "mode": "lines",
         "type": "scattermapbox"
        },
        {
         "lat": [
          -16.39944444,
          -17.258064
         ],
         "line": {
          "color": "steelblue"
         },
         "lon": [
          -47.62583332,
          -44.835556
         ],
         "mode": "lines",
         "type": "scattermapbox"
        },
        {
         "lat": [
          -16.39944444,
          -16.36277777
         ],
         "line": {
          "color": "steelblue"
         },
         "lon": [
          -47.62583332,
          -45.12388888
         ],
         "mode": "lines",
         "type": "scattermapbox"
        },
        {
         "lat": [
          -16.39944444,
          -15.30027777
         ],
         "line": {
          "color": "steelblue"
         },
         "lon": [
          -47.62583332,
          -45.61749999
         ],
         "mode": "lines",
         "type": "scattermapbox"
        },
        {
         "lat": [
          -16.39944444,
          -17.78444444
         ],
         "line": {
          "color": "steelblue"
         },
         "lon": [
          -47.62583332,
          -46.11944443
         ],
         "mode": "lines",
         "type": "scattermapbox"
        },
        {
         "lat": [
          -16.39944444,
          -18.52055554
         ],
         "line": {
          "color": "steelblue"
         },
         "lon": [
          -47.62583332,
          -46.44055555
         ],
         "mode": "lines",
         "type": "scattermapbox"
        },
        {
         "lat": [
          -20.447195,
          -20.47555554
         ],
         "line": {
          "color": "steelblue"
         },
         "lon": [
          -54.722615,
          -55.78388888
         ],
         "mode": "lines",
         "type": "scattermapbox"
        },
        {
         "lat": [
          -20.447195,
          -19.42027777
         ],
         "line": {
          "color": "steelblue"
         },
         "lon": [
          -54.722615,
          -54.55305555
         ],
         "mode": "lines",
         "type": "scattermapbox"
        },
        {
         "lat": [
          -20.447195,
          -20.98166666
         ],
         "line": {
          "color": "steelblue"
         },
         "lon": [
          -54.722615,
          -54.97194443
         ],
         "mode": "lines",
         "type": "scattermapbox"
        },
        {
         "lat": [
          -22.5525,
          -22.19388888
         ],
         "line": {
          "color": "steelblue"
         },
         "lon": [
          -55.71638888,
          -54.91138888
         ],
         "mode": "lines",
         "type": "scattermapbox"
        },
        {
         "lat": [
          -22.5525,
          -22.85722222
         ],
         "line": {
          "color": "steelblue"
         },
         "lon": [
          -55.71638888,
          -54.60555555
         ],
         "mode": "lines",
         "type": "scattermapbox"
        },
        {
         "lat": [
          -22.5525,
          -23.0025
         ],
         "line": {
          "color": "steelblue"
         },
         "lon": [
          -55.71638888,
          -55.32944443
         ],
         "mode": "lines",
         "type": "scattermapbox"
        },
        {
         "lat": [
          -22.5525,
          -23.96694443
         ],
         "line": {
          "color": "steelblue"
         },
         "lon": [
          -55.71638888,
          -55.02416666
         ],
         "mode": "lines",
         "type": "scattermapbox"
        },
        {
         "lat": [
          -22.5525,
          -23.44944444
         ],
         "line": {
          "color": "steelblue"
         },
         "lon": [
          -55.71638888,
          -54.18194443
         ],
         "mode": "lines",
         "type": "scattermapbox"
        },
        {
         "lat": [
          -20.79499999,
          -19.69555555
         ],
         "line": {
          "color": "steelblue"
         },
         "lon": [
          -51.71333333,
          -51.18166666
         ],
         "mode": "lines",
         "type": "scattermapbox"
        },
        {
         "lat": [
          -20.79499999,
          -20.44444444
         ],
         "line": {
          "color": "steelblue"
         },
         "lon": [
          -51.71333333,
          -52.87583332
         ],
         "mode": "lines",
         "type": "scattermapbox"
        },
        {
         "lat": [
          -20.79499999,
          -21.75
         ],
         "line": {
          "color": "steelblue"
         },
         "lon": [
          -51.71333333,
          -52.47138888
         ],
         "mode": "lines",
         "type": "scattermapbox"
        },
        {
         "lat": [
          -20.79499999,
          -22.11999999
         ],
         "line": {
          "color": "steelblue"
         },
         "lon": [
          -51.71333333,
          -51.40861111
         ],
         "mode": "lines",
         "type": "scattermapbox"
        },
        {
         "lat": [
          -20.79499999,
          -22.37277777
         ],
         "line": {
          "color": "steelblue"
         },
         "lon": [
          -51.71333333,
          -50.97472221
         ],
         "mode": "lines",
         "type": "scattermapbox"
        },
        {
         "lat": [
          -20.79499999,
          -21.66611111
         ],
         "line": {
          "color": "steelblue"
         },
         "lon": [
          -51.71333333,
          -49.73472221
         ],
         "mode": "lines",
         "type": "scattermapbox"
        },
        {
         "lat": [
          -20.79499999,
          -21.31916666
         ],
         "line": {
          "color": "steelblue"
         },
         "lon": [
          -51.71333333,
          -50.93027777
         ],
         "mode": "lines",
         "type": "scattermapbox"
        },
        {
         "lat": [
          -20.79499999,
          -21.85555555
         ],
         "line": {
          "color": "steelblue"
         },
         "lon": [
          -51.71333333,
          -48.79972221
         ],
         "mode": "lines",
         "type": "scattermapbox"
        },
        {
         "lat": [
          -20.79499999,
          -21.45777777
         ],
         "line": {
          "color": "steelblue"
         },
         "lon": [
          -51.71333333,
          -51.55222222
         ],
         "mode": "lines",
         "type": "scattermapbox"
        },
        {
         "lat": [
          -20.79499999,
          -21.927251
         ],
         "line": {
          "color": "steelblue"
         },
         "lon": [
          -51.71333333,
          -50.490251
         ],
         "mode": "lines",
         "type": "scattermapbox"
        },
        {
         "lat": [
          -22.30055555,
          -22.19388888
         ],
         "line": {
          "color": "steelblue"
         },
         "lon": [
          -53.82277777,
          -54.91138888
         ],
         "mode": "lines",
         "type": "scattermapbox"
        },
        {
         "lat": [
          -22.30055555,
          -22.85722222
         ],
         "line": {
          "color": "steelblue"
         },
         "lon": [
          -53.82277777,
          -54.60555555
         ],
         "mode": "lines",
         "type": "scattermapbox"
        },
        {
         "lat": [
          -22.30055555,
          -23.44944444
         ],
         "line": {
          "color": "steelblue"
         },
         "lon": [
          -53.82277777,
          -54.18194443
         ],
         "mode": "lines",
         "type": "scattermapbox"
        },
        {
         "lat": [
          -22.30055555,
          -21.75
         ],
         "line": {
          "color": "steelblue"
         },
         "lon": [
          -53.82277777,
          -52.47138888
         ],
         "mode": "lines",
         "type": "scattermapbox"
        },
        {
         "lat": [
          -22.30055555,
          -22.63944444
         ],
         "line": {
          "color": "steelblue"
         },
         "lon": [
          -53.82277777,
          -52.89027777
         ],
         "mode": "lines",
         "type": "scattermapbox"
        },
        {
         "lat": [
          -22.30055555,
          -23.35916666
         ],
         "line": {
          "color": "steelblue"
         },
         "lon": [
          -53.82277777,
          -52.93194443
         ],
         "mode": "lines",
         "type": "scattermapbox"
        },
        {
         "lat": [
          -19.69555555,
          -20.44444444
         ],
         "line": {
          "color": "steelblue"
         },
         "lon": [
          -51.18166666,
          -52.87583332
         ],
         "mode": "lines",
         "type": "scattermapbox"
        },
        {
         "lat": [
          -19.69555555,
          -19.53921
         ],
         "line": {
          "color": "steelblue"
         },
         "lon": [
          -51.18166666,
          -49.518133
         ],
         "mode": "lines",
         "type": "scattermapbox"
        },
        {
         "lat": [
          -19.69555555,
          -21.66611111
         ],
         "line": {
          "color": "steelblue"
         },
         "lon": [
          -51.18166666,
          -49.73472221
         ],
         "mode": "lines",
         "type": "scattermapbox"
        },
        {
         "lat": [
          -19.69555555,
          -21.31916666
         ],
         "line": {
          "color": "steelblue"
         },
         "lon": [
          -51.18166666,
          -50.93027777
         ],
         "mode": "lines",
         "type": "scattermapbox"
        },
        {
         "lat": [
          -19.69555555,
          -21.13305554
         ],
         "line": {
          "color": "steelblue"
         },
         "lon": [
          -51.18166666,
          -48.84055555
         ],
         "mode": "lines",
         "type": "scattermapbox"
        },
        {
         "lat": [
          -19.69555555,
          -21.85555555
         ],
         "line": {
          "color": "steelblue"
         },
         "lon": [
          -51.18166666,
          -48.79972221
         ],
         "mode": "lines",
         "type": "scattermapbox"
        },
        {
         "lat": [
          -19.69555555,
          -21.33833333
         ],
         "line": {
          "color": "steelblue"
         },
         "lon": [
          -51.18166666,
          -48.11388888
         ],
         "mode": "lines",
         "type": "scattermapbox"
        },
        {
         "lat": [
          -18.9886111,
          -20.47555554
         ],
         "line": {
          "color": "steelblue"
         },
         "lon": [
          -56.62277777,
          -55.78388888
         ],
         "mode": "lines",
         "type": "scattermapbox"
        },
        {
         "lat": [
          -18.9886111,
          -20.39555555
         ],
         "line": {
          "color": "steelblue"
         },
         "lon": [
          -56.62277777,
          -56.43166666
         ],
         "mode": "lines",
         "type": "scattermapbox"
        },
        {
         "lat": [
          -20.47555554,
          -20.39555555
         ],
         "line": {
          "color": "steelblue"
         },
         "lon": [
          -55.78388888,
          -56.43166666
         ],
         "mode": "lines",
         "type": "scattermapbox"
        },
        {
         "lat": [
          -20.47555554,
          -19.42027777
         ],
         "line": {
          "color": "steelblue"
         },
         "lon": [
          -55.78388888,
          -54.55305555
         ],
         "mode": "lines",
         "type": "scattermapbox"
        },
        {
         "lat": [
          -20.47555554,
          -20.98166666
         ],
         "line": {
          "color": "steelblue"
         },
         "lon": [
          -55.78388888,
          -54.97194443
         ],
         "mode": "lines",
         "type": "scattermapbox"
        },
        {
         "lat": [
          -18.51222222,
          -19.42027777
         ],
         "line": {
          "color": "steelblue"
         },
         "lon": [
          -54.7361111,
          -54.55305555
         ],
         "mode": "lines",
         "type": "scattermapbox"
        },
        {
         "lat": [
          -22.19388888,
          -22.85722222
         ],
         "line": {
          "color": "steelblue"
         },
         "lon": [
          -54.91138888,
          -54.60555555
         ],
         "mode": "lines",
         "type": "scattermapbox"
        },
        {
         "lat": [
          -22.19388888,
          -23.0025
         ],
         "line": {
          "color": "steelblue"
         },
         "lon": [
          -54.91138888,
          -55.32944443
         ],
         "mode": "lines",
         "type": "scattermapbox"
        },
        {
         "lat": [
          -22.19388888,
          -23.44944444
         ],
         "line": {
          "color": "steelblue"
         },
         "lon": [
          -54.91138888,
          -54.18194443
         ],
         "mode": "lines",
         "type": "scattermapbox"
        },
        {
         "lat": [
          -22.19388888,
          -20.98166666
         ],
         "line": {
          "color": "steelblue"
         },
         "lon": [
          -54.91138888,
          -54.97194443
         ],
         "mode": "lines",
         "type": "scattermapbox"
        },
        {
         "lat": [
          -22.19388888,
          -22.63944444
         ],
         "line": {
          "color": "steelblue"
         },
         "lon": [
          -54.91138888,
          -52.89027777
         ],
         "mode": "lines",
         "type": "scattermapbox"
        },
        {
         "lat": [
          -20.39555555,
          -20.98166666
         ],
         "line": {
          "color": "steelblue"
         },
         "lon": [
          -56.43166666,
          -54.97194443
         ],
         "mode": "lines",
         "type": "scattermapbox"
        },
        {
         "lat": [
          -18.80222222,
          -18.49277777
         ],
         "line": {
          "color": "steelblue"
         },
         "lon": [
          -52.6025,
          -53.17138888
         ],
         "mode": "lines",
         "type": "scattermapbox"
        },
        {
         "lat": [
          -19.42027777,
          -18.49277777
         ],
         "line": {
          "color": "steelblue"
         },
         "lon": [
          -54.55305555,
          -53.17138888
         ],
         "mode": "lines",
         "type": "scattermapbox"
        },
        {
         "lat": [
          -19.42027777,
          -17.63527777
         ],
         "line": {
          "color": "steelblue"
         },
         "lon": [
          -54.55305555,
          -54.76055555
         ],
         "mode": "lines",
         "type": "scattermapbox"
        },
        {
         "lat": [
          -21.77499999,
          -20.98166666
         ],
         "line": {
          "color": "steelblue"
         },
         "lon": [
          -54.52805554,
          -54.97194443
         ],
         "mode": "lines",
         "type": "scattermapbox"
        },
        {
         "lat": [
          -22.85722222,
          -23.0025
         ],
         "line": {
          "color": "steelblue"
         },
         "lon": [
          -54.60555555,
          -55.32944443
         ],
         "mode": "lines",
         "type": "scattermapbox"
        },
        {
         "lat": [
          -22.85722222,
          -23.96694443
         ],
         "line": {
          "color": "steelblue"
         },
         "lon": [
          -54.60555555,
          -55.02416666
         ],
         "mode": "lines",
         "type": "scattermapbox"
        },
        {
         "lat": [
          -22.85722222,
          -23.44944444
         ],
         "line": {
          "color": "steelblue"
         },
         "lon": [
          -54.60555555,
          -54.18194443
         ],
         "mode": "lines",
         "type": "scattermapbox"
        },
        {
         "lat": [
          -22.85722222,
          -24.53333333
         ],
         "line": {
          "color": "steelblue"
         },
         "lon": [
          -54.60555555,
          -54.01916666
         ],
         "mode": "lines",
         "type": "scattermapbox"
        },
        {
         "lat": [
          -22.85722222,
          -24.18388888
         ],
         "line": {
          "color": "steelblue"
         },
         "lon": [
          -54.60555555,
          -53.04888888
         ],
         "mode": "lines",
         "type": "scattermapbox"
        },
        {
         "lat": [
          -22.85722222,
          -22.63944444
         ],
         "line": {
          "color": "steelblue"
         },
         "lon": [
          -54.60555555,
          -52.89027777
         ],
         "mode": "lines",
         "type": "scattermapbox"
        },
        {
         "lat": [
          -22.85722222,
          -23.35916666
         ],
         "line": {
          "color": "steelblue"
         },
         "lon": [
          -54.60555555,
          -52.93194443
         ],
         "mode": "lines",
         "type": "scattermapbox"
        },
        {
         "lat": [
          -23.0025,
          -23.96694443
         ],
         "line": {
          "color": "steelblue"
         },
         "lon": [
          -55.32944443,
          -55.02416666
         ],
         "mode": "lines",
         "type": "scattermapbox"
        },
        {
         "lat": [
          -23.0025,
          -23.44944444
         ],
         "line": {
          "color": "steelblue"
         },
         "lon": [
          -55.32944443,
          -54.18194443
         ],
         "mode": "lines",
         "type": "scattermapbox"
        },
        {
         "lat": [
          -23.0025,
          -24.53333333
         ],
         "line": {
          "color": "steelblue"
         },
         "lon": [
          -55.32944443,
          -54.01916666
         ],
         "mode": "lines",
         "type": "scattermapbox"
        },
        {
         "lat": [
          -23.96694443,
          -23.44944444
         ],
         "line": {
          "color": "steelblue"
         },
         "lon": [
          -55.02416666,
          -54.18194443
         ],
         "mode": "lines",
         "type": "scattermapbox"
        },
        {
         "lat": [
          -23.96694443,
          -24.53333333
         ],
         "line": {
          "color": "steelblue"
         },
         "lon": [
          -55.02416666,
          -54.01916666
         ],
         "mode": "lines",
         "type": "scattermapbox"
        },
        {
         "lat": [
          -23.96694443,
          -24.18388888
         ],
         "line": {
          "color": "steelblue"
         },
         "lon": [
          -55.02416666,
          -53.04888888
         ],
         "mode": "lines",
         "type": "scattermapbox"
        },
        {
         "lat": [
          -23.44944444,
          -24.53333333
         ],
         "line": {
          "color": "steelblue"
         },
         "lon": [
          -54.18194443,
          -54.01916666
         ],
         "mode": "lines",
         "type": "scattermapbox"
        },
        {
         "lat": [
          -23.44944444,
          -24.18388888
         ],
         "line": {
          "color": "steelblue"
         },
         "lon": [
          -54.18194443,
          -53.04888888
         ],
         "mode": "lines",
         "type": "scattermapbox"
        },
        {
         "lat": [
          -23.44944444,
          -22.63944444
         ],
         "line": {
          "color": "steelblue"
         },
         "lon": [
          -54.18194443,
          -52.89027777
         ],
         "mode": "lines",
         "type": "scattermapbox"
        },
        {
         "lat": [
          -23.44944444,
          -23.35916666
         ],
         "line": {
          "color": "steelblue"
         },
         "lon": [
          -54.18194443,
          -52.93194443
         ],
         "mode": "lines",
         "type": "scattermapbox"
        },
        {
         "lat": [
          -20.44444444,
          -21.45777777
         ],
         "line": {
          "color": "steelblue"
         },
         "lon": [
          -52.87583332,
          -51.55222222
         ],
         "mode": "lines",
         "type": "scattermapbox"
        },
        {
         "lat": [
          -21.75,
          -22.11999999
         ],
         "line": {
          "color": "steelblue"
         },
         "lon": [
          -52.47138888,
          -51.40861111
         ],
         "mode": "lines",
         "type": "scattermapbox"
        },
        {
         "lat": [
          -21.75,
          -21.45777777
         ],
         "line": {
          "color": "steelblue"
         },
         "lon": [
          -52.47138888,
          -51.55222222
         ],
         "mode": "lines",
         "type": "scattermapbox"
        },
        {
         "lat": [
          -21.75,
          -22.63944444
         ],
         "line": {
          "color": "steelblue"
         },
         "lon": [
          -52.47138888,
          -52.89027777
         ],
         "mode": "lines",
         "type": "scattermapbox"
        },
        {
         "lat": [
          -21.75,
          -23.35916666
         ],
         "line": {
          "color": "steelblue"
         },
         "lon": [
          -52.47138888,
          -52.93194443
         ],
         "mode": "lines",
         "type": "scattermapbox"
        },
        {
         "lat": [
          -18.49277777,
          -17.63527777
         ],
         "line": {
          "color": "steelblue"
         },
         "lon": [
          -53.17138888,
          -54.76055555
         ],
         "mode": "lines",
         "type": "scattermapbox"
        },
        {
         "lat": [
          -18.49277777,
          -17.33944444
         ],
         "line": {
          "color": "steelblue"
         },
         "lon": [
          -53.17138888,
          -53.22444443
         ],
         "mode": "lines",
         "type": "scattermapbox"
        },
        {
         "lat": [
          -18.49277777,
          -17.8411111
         ],
         "line": {
          "color": "steelblue"
         },
         "lon": [
          -53.17138888,
          -53.28944444
         ],
         "mode": "lines",
         "type": "scattermapbox"
        },
        {
         "lat": [
          -15.559295,
          -14.65
         ],
         "line": {
          "color": "steelblue"
         },
         "lon": [
          -56.062951,
          -57.43166666
         ],
         "mode": "lines",
         "type": "scattermapbox"
        },
        {
         "lat": [
          -14.65,
          -15.32472221
         ],
         "line": {
          "color": "steelblue"
         },
         "lon": [
          -57.43166666,
          -57.22583332
         ],
         "mode": "lines",
         "type": "scattermapbox"
        },
        {
         "lat": [
          -12.555,
          -11.98222221
         ],
         "line": {
          "color": "steelblue"
         },
         "lon": [
          -55.72277777,
          -55.56611111
         ],
         "mode": "lines",
         "type": "scattermapbox"
        },
        {
         "lat": [
          -12.555,
          -13.41111111
         ],
         "line": {
          "color": "steelblue"
         },
         "lon": [
          -55.72277777,
          -54.75222222
         ],
         "mode": "lines",
         "type": "scattermapbox"
        },
        {
         "lat": [
          -9.9525,
          -11.98222221
         ],
         "line": {
          "color": "steelblue"
         },
         "lon": [
          -54.89777777,
          -55.56611111
         ],
         "mode": "lines",
         "type": "scattermapbox"
        },
        {
         "lat": [
          -16.4625,
          -17.33944444
         ],
         "line": {
          "color": "steelblue"
         },
         "lon": [
          -54.58027777,
          -53.22444443
         ],
         "mode": "lines",
         "type": "scattermapbox"
        },
        {
         "lat": [
          -16.4625,
          -16.34166666
         ],
         "line": {
          "color": "steelblue"
         },
         "lon": [
          -54.58027777,
          -53.76611111
         ],
         "mode": "lines",
         "type": "scattermapbox"
        },
        {
         "lat": [
          -16.4625,
          -15.32472221
         ],
         "line": {
          "color": "steelblue"
         },
         "lon": [
          -54.58027777,
          -57.22583332
         ],
         "mode": "lines",
         "type": "scattermapbox"
        },
        {
         "lat": [
          -16.4625,
          -14.82888888
         ],
         "line": {
          "color": "steelblue"
         },
         "lon": [
          -54.58027777,
          -56.44194444
         ],
         "mode": "lines",
         "type": "scattermapbox"
        },
        {
         "lat": [
          -17.33944444,
          -16.34166666
         ],
         "line": {
          "color": "steelblue"
         },
         "lon": [
          -53.22444443,
          -53.76611111
         ],
         "mode": "lines",
         "type": "scattermapbox"
        },
        {
         "lat": [
          -17.33944444,
          -17.8411111
         ],
         "line": {
          "color": "steelblue"
         },
         "lon": [
          -53.22444443,
          -53.28944444
         ],
         "mode": "lines",
         "type": "scattermapbox"
        },
        {
         "lat": [
          -9.56333333,
          -9.90638888
         ],
         "line": {
          "color": "steelblue"
         },
         "lon": [
          -57.3936111,
          -58.57222221
         ],
         "mode": "lines",
         "type": "scattermapbox"
        },
        {
         "lat": [
          -13.30388888,
          -13.0386111
         ],
         "line": {
          "color": "steelblue"
         },
         "lon": [
          -58.76333333,
          -57.09222221
         ],
         "mode": "lines",
         "type": "scattermapbox"
        },
        {
         "lat": [
          -15.53138888,
          -15.57999999
         ],
         "line": {
          "color": "steelblue"
         },
         "lon": [
          -55.13555555,
          -54.3811111
         ],
         "mode": "lines",
         "type": "scattermapbox"
        },
        {
         "lat": [
          -12.60305555,
          -13.18472221
         ],
         "line": {
          "color": "steelblue"
         },
         "lon": [
          -52.1625,
          -53.2575
         ],
         "mode": "lines",
         "type": "scattermapbox"
        },
        {
         "lat": [
          -11.98222221,
          -13.41111111
         ],
         "line": {
          "color": "steelblue"
         },
         "lon": [
          -55.56611111,
          -54.75222222
         ],
         "mode": "lines",
         "type": "scattermapbox"
        },
        {
         "lat": [
          -9.90638888,
          -11.37499999
         ],
         "line": {
          "color": "steelblue"
         },
         "lon": [
          -58.57222221,
          -58.77472221
         ],
         "mode": "lines",
         "type": "scattermapbox"
        },
        {
         "lat": [
          -11.37499999,
          -12.52194443
         ],
         "line": {
          "color": "steelblue"
         },
         "lon": [
          -58.77472221,
          -58.23138888
         ],
         "mode": "lines",
         "type": "scattermapbox"
        },
        {
         "lat": [
          -13.0386111,
          -9.94888888
         ],
         "line": {
          "color": "steelblue"
         },
         "lon": [
          -57.09222221,
          -62.96194444
         ],
         "mode": "lines",
         "type": "scattermapbox"
        },
        {
         "lat": [
          -13.41111111,
          -13.18472221
         ],
         "line": {
          "color": "steelblue"
         },
         "lon": [
          -54.75222222,
          -53.2575
         ],
         "mode": "lines",
         "type": "scattermapbox"
        },
        {
         "lat": [
          -15.32472221,
          -15.12472221
         ],
         "line": {
          "color": "steelblue"
         },
         "lon": [
          -57.22583332,
          -58.12722221
         ],
         "mode": "lines",
         "type": "scattermapbox"
        },
        {
         "lat": [
          -15.32472221,
          -15.23444444
         ],
         "line": {
          "color": "steelblue"
         },
         "lon": [
          -57.22583332,
          -59.3461111
         ],
         "mode": "lines",
         "type": "scattermapbox"
        },
        {
         "lat": [
          -15.32472221,
          -14.82888888
         ],
         "line": {
          "color": "steelblue"
         },
         "lon": [
          -57.22583332,
          -56.44194444
         ],
         "mode": "lines",
         "type": "scattermapbox"
        },
        {
         "lat": [
          -15.12472221,
          -15.23444444
         ],
         "line": {
          "color": "steelblue"
         },
         "lon": [
          -58.12722221,
          -59.3461111
         ],
         "mode": "lines",
         "type": "scattermapbox"
        },
        {
         "lat": [
          -15.12472221,
          -14.82888888
         ],
         "line": {
          "color": "steelblue"
         },
         "lon": [
          -58.12722221,
          -56.44194444
         ],
         "mode": "lines",
         "type": "scattermapbox"
        },
        {
         "lat": [
          -10.48416666,
          -9.57638888
         ],
         "line": {
          "color": "steelblue"
         },
         "lon": [
          -52.37249999,
          -49.72333332
         ],
         "mode": "lines",
         "type": "scattermapbox"
        },
        {
         "lat": [
          -9.55111111,
          -10.1286111
         ],
         "line": {
          "color": "steelblue"
         },
         "lon": [
          -35.77027777,
          -36.28638888
         ],
         "mode": "lines",
         "type": "scattermapbox"
        },
        {
         "lat": [
          -9.74916666,
          -11.05861111
         ],
         "line": {
          "color": "steelblue"
         },
         "lon": [
          -37.43083332,
          -38.44416666
         ],
         "mode": "lines",
         "type": "scattermapbox"
        },
        {
         "lat": [
          -9.74916666,
          -8.4336111
         ],
         "line": {
          "color": "steelblue"
         },
         "lon": [
          -37.43083332,
          -37.05555555
         ],
         "mode": "lines",
         "type": "scattermapbox"
        },
        {
         "lat": [
          -9.74916666,
          -8.91083333
         ],
         "line": {
          "color": "steelblue"
         },
         "lon": [
          -37.43083332,
          -36.49333333
         ],
         "mode": "lines",
         "type": "scattermapbox"
        },
        {
         "lat": [
          -9.74916666,
          -8.50944444
         ],
         "line": {
          "color": "steelblue"
         },
         "lon": [
          -37.43083332,
          -37.71166666
         ],
         "mode": "lines",
         "type": "scattermapbox"
        },
        {
         "lat": [
          -9.74916666,
          -10.20777777
         ],
         "line": {
          "color": "steelblue"
         },
         "lon": [
          -37.43083332,
          -37.43194443
         ],
         "mode": "lines",
         "type": "scattermapbox"
        },
        {
         "lat": [
          -12.12472221,
          -12.1525
         ],
         "line": {
          "color": "steelblue"
         },
         "lon": [
          -45.02694443,
          -45.82972221
         ],
         "mode": "lines",
         "type": "scattermapbox"
        },
        {
         "lat": [
          -12.12472221,
          -13.33249999
         ],
         "line": {
          "color": "steelblue"
         },
         "lon": [
          -45.02694443,
          -44.61749999
         ],
         "mode": "lines",
         "type": "scattermapbox"
        },
        {
         "lat": [
          -12.12472221,
          -13.25111111
         ],
         "line": {
          "color": "steelblue"
         },
         "lon": [
          -45.02694443,
          -43.40527777
         ],
         "mode": "lines",
         "type": "scattermapbox"
        },
        {
         "lat": [
          -12.12472221,
          -10.42916666
         ],
         "line": {
          "color": "steelblue"
         },
         "lon": [
          -45.02694443,
          -45.17305554
         ],
         "mode": "lines",
         "type": "scattermapbox"
        },
        {
         "lat": [
          -12.1525,
          -13.33249999
         ],
         "line": {
          "color": "steelblue"
         },
         "lon": [
          -45.82972221,
          -44.61749999
         ],
         "mode": "lines",
         "type": "scattermapbox"
        },
        {
         "lat": [
          -12.52416666,
          -12.55777777
         ],
         "line": {
          "color": "steelblue"
         },
         "lon": [
          -40.29972221,
          -41.38888888
         ],
         "mode": "lines",
         "type": "scattermapbox"
        },
        {
         "lat": [
          -14.65888888,
          -15.28027777
         ],
         "line": {
          "color": "steelblue"
         },
         "lon": [
          -39.18138888,
          -39.09138888
         ],
         "mode": "lines",
         "type": "scattermapbox"
        },
        {
         "lat": [
          -14.65888888,
          -13.3436111
         ],
         "line": {
          "color": "steelblue"
         },
         "lon": [
          -39.18138888,
          -39.12666666
         ],
         "mode": "lines",
         "type": "scattermapbox"
        },
        {
         "lat": [
          -14.65888888,
          -16.08805555
         ],
         "line": {
          "color": "steelblue"
         },
         "lon": [
          -39.18138888,
          -39.21527777
         ],
         "mode": "lines",
         "type": "scattermapbox"
        },
        {
         "lat": [
          -12.13166666,
          -11.205
         ],
         "line": {
          "color": "steelblue"
         },
         "lon": [
          -40.35416666,
          -40.465
         ],
         "mode": "lines",
         "type": "scattermapbox"
        },
        {
         "lat": [
          -14.88638888,
          -13.155681
         ],
         "line": {
          "color": "steelblue"
         },
         "lon": [
          -40.80138888,
          -41.774125
         ],
         "mode": "lines",
         "type": "scattermapbox"
        },
        {
         "lat": [
          -14.88638888,
          -15.24472221
         ],
         "line": {
          "color": "steelblue"
         },
         "lon": [
          -40.80138888,
          -40.22944443
         ],
         "mode": "lines",
         "type": "scattermapbox"
        },
        {
         "lat": [
          -14.88638888,
          -15.751536
         ],
         "line": {
          "color": "steelblue"
         },
         "lon": [
          -40.80138888,
          -41.457787
         ],
         "mode": "lines",
         "type": "scattermapbox"
        },
        {
         "lat": [
          -14.88638888,
          -15.72305554
         ],
         "line": {
          "color": "steelblue"
         },
         "lon": [
          -40.80138888,
          -42.43583333
         ],
         "mode": "lines",
         "type": "scattermapbox"
        },
        {
         "lat": [
          -11.00333333,
          -11.08472221
         ],
         "line": {
          "color": "steelblue"
         },
         "lon": [
          -44.53638888,
          -43.13888888
         ],
         "mode": "lines",
         "type": "scattermapbox"
        },
        {
         "lat": [
          -11.00333333,
          -11.05222222
         ],
         "line": {
          "color": "steelblue"
         },
         "lon": [
          -44.53638888,
          -45.20083333
         ],
         "mode": "lines",
         "type": "scattermapbox"
        },
        {
         "lat": [
          -13.33249999,
          -13.25111111
         ],
         "line": {
          "color": "steelblue"
         },
         "lon": [
          -44.61749999,
          -43.40527777
         ],
         "mode": "lines",
         "type": "scattermapbox"
        },
        {
         "lat": [
          -13.33249999,
          -12.19305555
         ],
         "line": {
          "color": "steelblue"
         },
         "lon": [
          -44.61749999,
          -43.21333333
         ],
         "mode": "lines",
         "type": "scattermapbox"
        },
        {
         "lat": [
          -13.33249999,
          -10.42916666
         ],
         "line": {
          "color": "steelblue"
         },
         "lon": [
          -44.61749999,
          -45.17305554
         ],
         "mode": "lines",
         "type": "scattermapbox"
        },
        {
         "lat": [
          -13.33249999,
          -15.08583333
         ],
         "line": {
          "color": "steelblue"
         },
         "lon": [
          -44.61749999,
          -44.01611111
         ],
         "mode": "lines",
         "type": "scattermapbox"
        },
        {
         "lat": [
          -13.33249999,
          -16.36277777
         ],
         "line": {
          "color": "steelblue"
         },
         "lon": [
          -44.61749999,
          -45.12388888
         ],
         "mode": "lines",
         "type": "scattermapbox"
        },
        {
         "lat": [
          -13.33249999,
          -15.44805555
         ],
         "line": {
          "color": "steelblue"
         },
         "lon": [
          -44.61749999,
          -44.36638888
         ],
         "mode": "lines",
         "type": "scattermapbox"
        },
        {
         "lat": [
          -13.25111111,
          -12.19305555
         ],
         "line": {
          "color": "steelblue"
         },
         "lon": [
          -43.40527777,
          -43.21333333
         ],
         "mode": "lines",
         "type": "scattermapbox"
        },
        {
         "lat": [
          -13.25111111,
          -15.08583333
         ],
         "line": {
          "color": "steelblue"
         },
         "lon": [
          -43.40527777,
          -44.01611111
         ],
         "mode": "lines",
         "type": "scattermapbox"
        },
        {
         "lat": [
          -13.25111111,
          -14.91222222
         ],
         "line": {
          "color": "steelblue"
         },
         "lon": [
          -43.40527777,
          -42.80861111
         ],
         "mode": "lines",
         "type": "scattermapbox"
        },
        {
         "lat": [
          -13.25111111,
          -15.44805555
         ],
         "line": {
          "color": "steelblue"
         },
         "lon": [
          -43.40527777,
          -44.36638888
         ],
         "mode": "lines",
         "type": "scattermapbox"
        },
        {
         "lat": [
          -12.55777777,
          -13.155681
         ],
         "line": {
          "color": "steelblue"
         },
         "lon": [
          -41.38888888,
          -41.774125
         ],
         "mode": "lines",
         "type": "scattermapbox"
        },
        {
         "lat": [
          -16.38888888,
          -16.08805555
         ],
         "line": {
          "color": "steelblue"
         },
         "lon": [
          -39.18249999,
          -39.21527777
         ],
         "mode": "lines",
         "type": "scattermapbox"
        },
        {
         "lat": [
          -10.44305555,
          -10.98472221
         ],
         "line": {
          "color": "steelblue"
         },
         "lon": [
          -40.14833333,
          -39.61694443
         ],
         "mode": "lines",
         "type": "scattermapbox"
        },
        {
         "lat": [
          -13.155681,
          -14.18194443
         ],
         "line": {
          "color": "steelblue"
         },
         "lon": [
          -41.774125,
          -41.67222221
         ],
         "mode": "lines",
         "type": "scattermapbox"
        },
        {
         "lat": [
          -14.18194443,
          -15.08583333
         ],
         "line": {
          "color": "steelblue"
         },
         "lon": [
          -41.67222221,
          -44.01611111
         ],
         "mode": "lines",
         "type": "scattermapbox"
        },
        {
         "lat": [
          -14.18194443,
          -14.91222222
         ],
         "line": {
          "color": "steelblue"
         },
         "lon": [
          -41.67222221,
          -42.80861111
         ],
         "mode": "lines",
         "type": "scattermapbox"
        },
        {
         "lat": [
          -14.18194443,
          -15.72305554
         ],
         "line": {
          "color": "steelblue"
         },
         "lon": [
          -41.67222221,
          -42.43583333
         ],
         "mode": "lines",
         "type": "scattermapbox"
        },
        {
         "lat": [
          -10.98472221,
          -11.05861111
         ],
         "line": {
          "color": "steelblue"
         },
         "lon": [
          -39.61694443,
          -38.44416666
         ],
         "mode": "lines",
         "type": "scattermapbox"
        },
        {
         "lat": [
          -15.28027777,
          -16.08805555
         ],
         "line": {
          "color": "steelblue"
         },
         "lon": [
          -39.09138888,
          -39.21527777
         ],
         "mode": "lines",
         "type": "scattermapbox"
        },
        {
         "lat": [
          -11.66472222,
          -11.05861111
         ],
         "line": {
          "color": "steelblue"
         },
         "lon": [
          -39.02305554,
          -38.44416666
         ],
         "mode": "lines",
         "type": "scattermapbox"
        },
        {
         "lat": [
          -11.05861111,
          -8.4336111
         ],
         "line": {
          "color": "steelblue"
         },
         "lon": [
          -38.44416666,
          -37.05555555
         ],
         "mode": "lines",
         "type": "scattermapbox"
        },
        {
         "lat": [
          -6.39638888,
          -5.18666666
         ],
         "line": {
          "color": "steelblue"
         },
         "lon": [
          -39.26888888,
          -40.67222221
         ],
         "mode": "lines",
         "type": "scattermapbox"
        },
        {
         "lat": [
          -6.39638888,
          -5.90555555
         ],
         "line": {
          "color": "steelblue"
         },
         "lon": [
          -39.26888888,
          -38.62777777
         ],
         "mode": "lines",
         "type": "scattermapbox"
        },
        {
         "lat": [
          -5.0911111,
          -5.90555555
         ],
         "line": {
          "color": "steelblue"
         },
         "lon": [
          -38.36472222,
          -38.62777777
         ],
         "mode": "lines",
         "type": "scattermapbox"
        },
        {
         "lat": [
          -5.0911111,
          -4.97888888
         ],
         "line": {
          "color": "steelblue"
         },
         "lon": [
          -38.36472222,
          -39.05722222
         ],
         "mode": "lines",
         "type": "scattermapbox"
        },
        {
         "lat": [
          -5.0911111,
          -5.62666666
         ],
         "line": {
          "color": "steelblue"
         },
         "lon": [
          -38.36472222,
          -37.815
         ],
         "mode": "lines",
         "type": "scattermapbox"
        },
        {
         "lat": [
          -4.83777777,
          -1.66111111
         ],
         "line": {
          "color": "steelblue"
         },
         "lon": [
          -37.69972221,
          -45.37249999
         ],
         "mode": "lines",
         "type": "scattermapbox"
        },
        {
         "lat": [
          -4.83777777,
          -4.90416666
         ],
         "line": {
          "color": "steelblue"
         },
         "lon": [
          -37.69972221,
          -37.36694443
         ],
         "mode": "lines",
         "type": "scattermapbox"
        },
        {
         "lat": [
          -5.18666666,
          -5.90555555
         ],
         "line": {
          "color": "steelblue"
         },
         "lon": [
          -40.67222221,
          -38.62777777
         ],
         "mode": "lines",
         "type": "scattermapbox"
        },
        {
         "lat": [
          -5.18666666,
          -4.97888888
         ],
         "line": {
          "color": "steelblue"
         },
         "lon": [
          -40.67222221,
          -39.05722222
         ],
         "mode": "lines",
         "type": "scattermapbox"
        },
        {
         "lat": [
          -5.18666666,
          -3.74277777
         ],
         "line": {
          "color": "steelblue"
         },
         "lon": [
          -40.67222221,
          -43.35222222
         ],
         "mode": "lines",
         "type": "scattermapbox"
        },
        {
         "lat": [
          -5.18666666,
          -5.34916666
         ],
         "line": {
          "color": "steelblue"
         },
         "lon": [
          -40.67222221,
          -41.51222222
         ],
         "mode": "lines",
         "type": "scattermapbox"
        },
        {
         "lat": [
          -5.18666666,
          -6.4236111
         ],
         "line": {
          "color": "steelblue"
         },
         "lon": [
          -40.67222221,
          -41.74888888
         ],
         "mode": "lines",
         "type": "scattermapbox"
        },
        {
         "lat": [
          -7.07777777,
          -8.36444444
         ],
         "line": {
          "color": "steelblue"
         },
         "lon": [
          -40.36277777,
          -42.2525
         ],
         "mode": "lines",
         "type": "scattermapbox"
        },
        {
         "lat": [
          -5.90555555,
          -4.97888888
         ],
         "line": {
          "color": "steelblue"
         },
         "lon": [
          -38.62777777,
          -39.05722222
         ],
         "mode": "lines",
         "type": "scattermapbox"
        },
        {
         "lat": [
          -5.90555555,
          -5.62666666
         ],
         "line": {
          "color": "steelblue"
         },
         "lon": [
          -38.62777777,
          -37.815
         ],
         "mode": "lines",
         "type": "scattermapbox"
        },
        {
         "lat": [
          -3.73222221,
          -4.97888888
         ],
         "line": {
          "color": "steelblue"
         },
         "lon": [
          -41.01194444,
          -39.05722222
         ],
         "mode": "lines",
         "type": "scattermapbox"
        },
        {
         "lat": [
          -3.73222221,
          -3.74277777
         ],
         "line": {
          "color": "steelblue"
         },
         "lon": [
          -41.01194444,
          -43.35222222
         ],
         "mode": "lines",
         "type": "scattermapbox"
        },
        {
         "lat": [
          -4.97888888,
          -3.74277777
         ],
         "line": {
          "color": "steelblue"
         },
         "lon": [
          -39.05722222,
          -43.35222222
         ],
         "mode": "lines",
         "type": "scattermapbox"
        },
        {
         "lat": [
          -4.97888888,
          -5.62666666
         ],
         "line": {
          "color": "steelblue"
         },
         "lon": [
          -39.05722222,
          -37.815
         ],
         "mode": "lines",
         "type": "scattermapbox"
        },
        {
         "lat": [
          -7.45555555,
          -7.33722221
         ],
         "line": {
          "color": "steelblue"
         },
         "lon": [
          -46.02749999,
          -47.45972222
         ],
         "mode": "lines",
         "type": "scattermapbox"
        },
        {
         "lat": [
          -7.45555555,
          -6.65333333
         ],
         "line": {
          "color": "steelblue"
         },
         "lon": [
          -46.02749999,
          -47.41833332
         ],
         "mode": "lines",
         "type": "scattermapbox"
        },
        {
         "lat": [
          -7.33722221,
          -6.65333333
         ],
         "line": {
          "color": "steelblue"
         },
         "lon": [
          -47.45972222,
          -47.41833332
         ],
         "mode": "lines",
         "type": "scattermapbox"
        },
        {
         "lat": [
          -7.33722221,
          -5.55583333
         ],
         "line": {
          "color": "steelblue"
         },
         "lon": [
          -47.45972222,
          -47.45972222
         ],
         "mode": "lines",
         "type": "scattermapbox"
        },
        {
         "lat": [
          -7.33722221,
          -7.124191
         ],
         "line": {
          "color": "steelblue"
         },
         "lon": [
          -47.45972222,
          -48.781267
         ],
         "mode": "lines",
         "type": "scattermapbox"
        },
        {
         "lat": [
          -3.74277777,
          -3.26916666
         ],
         "line": {
          "color": "steelblue"
         },
         "lon": [
          -43.35222222,
          -45.65111111
         ],
         "mode": "lines",
         "type": "scattermapbox"
        },
        {
         "lat": [
          -3.74277777,
          -5.03472221
         ],
         "line": {
          "color": "steelblue"
         },
         "lon": [
          -43.35222222,
          -42.80138888
         ],
         "mode": "lines",
         "type": "scattermapbox"
        },
        {
         "lat": [
          -5.81611111,
          -5.55583333
         ],
         "line": {
          "color": "steelblue"
         },
         "lon": [
          -46.16222222,
          -47.45972222
         ],
         "mode": "lines",
         "type": "scattermapbox"
        },
        {
         "lat": [
          -5.81611111,
          -4.28055554
         ],
         "line": {
          "color": "steelblue"
         },
         "lon": [
          -46.16222222,
          -47.56388888
         ],
         "mode": "lines",
         "type": "scattermapbox"
        },
        {
         "lat": [
          -1.66111111,
          -4.90416666
         ],
         "line": {
          "color": "steelblue"
         },
         "lon": [
          -45.37249999,
          -37.36694443
         ],
         "mode": "lines",
         "type": "scattermapbox"
        },
        {
         "lat": [
          -6.03305554,
          -4.82138888
         ],
         "line": {
          "color": "steelblue"
         },
         "lon": [
          -44.23333333,
          -43.3436111
         ],
         "mode": "lines",
         "type": "scattermapbox"
        },
        {
         "lat": [
          -6.03305554,
          -5.03472221
         ],
         "line": {
          "color": "steelblue"
         },
         "lon": [
          -44.23333333,
          -42.80138888
         ],
         "mode": "lines",
         "type": "scattermapbox"
        },
        {
         "lat": [
          -6.03305554,
          -7.44138888
         ],
         "line": {
          "color": "steelblue"
         },
         "lon": [
          -44.23333333,
          -44.34499999
         ],
         "mode": "lines",
         "type": "scattermapbox"
        },
        {
         "lat": [
          -6.65333333,
          -5.55583333
         ],
         "line": {
          "color": "steelblue"
         },
         "lon": [
          -47.41833332,
          -47.45972222
         ],
         "mode": "lines",
         "type": "scattermapbox"
        },
        {
         "lat": [
          -6.65333333,
          -7.10388888
         ],
         "line": {
          "color": "steelblue"
         },
         "lon": [
          -47.41833332,
          -48.20111111
         ],
         "mode": "lines",
         "type": "scattermapbox"
        },
        {
         "lat": [
          -6.65333333,
          -7.124191
         ],
         "line": {
          "color": "steelblue"
         },
         "lon": [
          -47.41833332,
          -48.781267
         ],
         "mode": "lines",
         "type": "scattermapbox"
        },
        {
         "lat": [
          -6.65333333,
          -8.092708
         ],
         "line": {
          "color": "steelblue"
         },
         "lon": [
          -47.41833332,
          -48.478605
         ],
         "mode": "lines",
         "type": "scattermapbox"
        },
        {
         "lat": [
          -5.55583333,
          -4.28055554
         ],
         "line": {
          "color": "steelblue"
         },
         "lon": [
          -47.45972222,
          -47.56388888
         ],
         "mode": "lines",
         "type": "scattermapbox"
        },
        {
         "lat": [
          -4.82138888,
          -5.03472221
         ],
         "line": {
          "color": "steelblue"
         },
         "lon": [
          -43.3436111,
          -42.80138888
         ],
         "mode": "lines",
         "type": "scattermapbox"
        },
        {
         "lat": [
          -3.26916666,
          -4.28055554
         ],
         "line": {
          "color": "steelblue"
         },
         "lon": [
          -45.65111111,
          -47.56388888
         ],
         "mode": "lines",
         "type": "scattermapbox"
        },
        {
         "lat": [
          -6.975451,
          -7.225574
         ],
         "line": {
          "color": "steelblue"
         },
         "lon": [
          -35.718128,
          -35.904831
         ],
         "mode": "lines",
         "type": "scattermapbox"
        },
        {
         "lat": [
          -6.975451,
          -6.56194444
         ],
         "line": {
          "color": "steelblue"
         },
         "lon": [
          -35.718128,
          -35.13527777
         ],
         "mode": "lines",
         "type": "scattermapbox"
        },
        {
         "lat": [
          -6.975451,
          -7.83972221
         ],
         "line": {
          "color": "steelblue"
         },
         "lon": [
          -35.718128,
          -35.80111111
         ],
         "mode": "lines",
         "type": "scattermapbox"
        },
        {
         "lat": [
          -7.225574,
          -6.56194444
         ],
         "line": {
          "color": "steelblue"
         },
         "lon": [
          -35.904831,
          -35.13527777
         ],
         "mode": "lines",
         "type": "scattermapbox"
        },
        {
         "lat": [
          -7.225574,
          -7.83972221
         ],
         "line": {
          "color": "steelblue"
         },
         "lon": [
          -35.904831,
          -35.80111111
         ],
         "mode": "lines",
         "type": "scattermapbox"
        },
        {
         "lat": [
          -7.225574,
          -8.66666666
         ],
         "line": {
          "color": "steelblue"
         },
         "lon": [
          -35.904831,
          -35.56805554
         ],
         "mode": "lines",
         "type": "scattermapbox"
        },
        {
         "lat": [
          -7.16527777,
          -6.56194444
         ],
         "line": {
          "color": "steelblue"
         },
         "lon": [
          -34.81555555,
          -35.13527777
         ],
         "mode": "lines",
         "type": "scattermapbox"
        },
        {
         "lat": [
          -7.89444444,
          -7.48333333
         ],
         "line": {
          "color": "steelblue"
         },
         "lon": [
          -37.12472221,
          -36.28638888
         ],
         "mode": "lines",
         "type": "scattermapbox"
        },
        {
         "lat": [
          -7.89444444,
          -8.4336111
         ],
         "line": {
          "color": "steelblue"
         },
         "lon": [
          -37.12472221,
          -37.05555555
         ],
         "mode": "lines",
         "type": "scattermapbox"
        },
        {
         "lat": [
          -7.89444444,
          -8.50944444
         ],
         "line": {
          "color": "steelblue"
         },
         "lon": [
          -37.12472221,
          -37.71166666
         ],
         "mode": "lines",
         "type": "scattermapbox"
        },
        {
         "lat": [
          -7.89444444,
          -8.59888888
         ],
         "line": {
          "color": "steelblue"
         },
         "lon": [
          -37.12472221,
          -38.58416666
         ],
         "mode": "lines",
         "type": "scattermapbox"
        },
        {
         "lat": [
          -7.48333333,
          -8.4336111
         ],
         "line": {
          "color": "steelblue"
         },
         "lon": [
          -36.28638888,
          -37.05555555
         ],
         "mode": "lines",
         "type": "scattermapbox"
        },
        {
         "lat": [
          -7.48333333,
          -7.83972221
         ],
         "line": {
          "color": "steelblue"
         },
         "lon": [
          -36.28638888,
          -35.80111111
         ],
         "mode": "lines",
         "type": "scattermapbox"
        },
        {
         "lat": [
          -7.48333333,
          -8.50944444
         ],
         "line": {
          "color": "steelblue"
         },
         "lon": [
          -36.28638888,
          -37.71166666
         ],
         "mode": "lines",
         "type": "scattermapbox"
        },
        {
         "lat": [
          -8.4336111,
          -8.91083333
         ],
         "line": {
          "color": "steelblue"
         },
         "lon": [
          -37.05555555,
          -36.49333333
         ],
         "mode": "lines",
         "type": "scattermapbox"
        },
        {
         "lat": [
          -8.4336111,
          -8.50944444
         ],
         "line": {
          "color": "steelblue"
         },
         "lon": [
          -37.05555555,
          -37.71166666
         ],
         "mode": "lines",
         "type": "scattermapbox"
        },
        {
         "lat": [
          -8.4336111,
          -8.59888888
         ],
         "line": {
          "color": "steelblue"
         },
         "lon": [
          -37.05555555,
          -38.58416666
         ],
         "mode": "lines",
         "type": "scattermapbox"
        },
        {
         "lat": [
          -8.91083333,
          -7.83972221
         ],
         "line": {
          "color": "steelblue"
         },
         "lon": [
          -36.49333333,
          -35.80111111
         ],
         "mode": "lines",
         "type": "scattermapbox"
        },
        {
         "lat": [
          -8.91083333,
          -8.66666666
         ],
         "line": {
          "color": "steelblue"
         },
         "lon": [
          -36.49333333,
          -35.56805554
         ],
         "mode": "lines",
         "type": "scattermapbox"
        },
        {
         "lat": [
          -7.83972221,
          -8.66666666
         ],
         "line": {
          "color": "steelblue"
         },
         "lon": [
          -35.80111111,
          -35.56805554
         ],
         "mode": "lines",
         "type": "scattermapbox"
        },
        {
         "lat": [
          -8.50388888,
          -8.50944444
         ],
         "line": {
          "color": "steelblue"
         },
         "lon": [
          -39.31527777,
          -37.71166666
         ],
         "mode": "lines",
         "type": "scattermapbox"
        },
        {
         "lat": [
          -8.50388888,
          -8.59888888
         ],
         "line": {
          "color": "steelblue"
         },
         "lon": [
          -39.31527777,
          -38.58416666
         ],
         "mode": "lines",
         "type": "scattermapbox"
        },
        {
         "lat": [
          -8.50388888,
          -8.05805555
         ],
         "line": {
          "color": "steelblue"
         },
         "lon": [
          -39.31527777,
          -39.0961111
         ],
         "mode": "lines",
         "type": "scattermapbox"
        },
        {
         "lat": [
          -8.50944444,
          -8.59888888
         ],
         "line": {
          "color": "steelblue"
         },
         "lon": [
          -37.71166666,
          -38.58416666
         ],
         "mode": "lines",
         "type": "scattermapbox"
        },
        {
         "lat": [
          -8.59888888,
          -8.05805555
         ],
         "line": {
          "color": "steelblue"
         },
         "lon": [
          -38.58416666,
          -39.0961111
         ],
         "mode": "lines",
         "type": "scattermapbox"
        },
        {
         "lat": [
          -6.76138888,
          -8.36444444
         ],
         "line": {
          "color": "steelblue"
         },
         "lon": [
          -43.00333333,
          -42.2525
         ],
         "mode": "lines",
         "type": "scattermapbox"
        },
        {
         "lat": [
          -5.03472221,
          -7.44138888
         ],
         "line": {
          "color": "steelblue"
         },
         "lon": [
          -42.80138888,
          -44.34499999
         ],
         "mode": "lines",
         "type": "scattermapbox"
        },
        {
         "lat": [
          -5.03472221,
          -5.34916666
         ],
         "line": {
          "color": "steelblue"
         },
         "lon": [
          -42.80138888,
          -41.51222222
         ],
         "mode": "lines",
         "type": "scattermapbox"
        },
        {
         "lat": [
          -5.03472221,
          -6.4236111
         ],
         "line": {
          "color": "steelblue"
         },
         "lon": [
          -42.80138888,
          -41.74888888
         ],
         "mode": "lines",
         "type": "scattermapbox"
        },
        {
         "lat": [
          -9.07999999,
          -10.42916666
         ],
         "line": {
          "color": "steelblue"
         },
         "lon": [
          -44.32777777,
          -45.17305554
         ],
         "mode": "lines",
         "type": "scattermapbox"
        },
        {
         "lat": [
          -7.44138888,
          -6.4236111
         ],
         "line": {
          "color": "steelblue"
         },
         "lon": [
          -44.34499999,
          -41.74888888
         ],
         "mode": "lines",
         "type": "scattermapbox"
        },
        {
         "lat": [
          -6.97416666,
          -6.4236111
         ],
         "line": {
          "color": "steelblue"
         },
         "lon": [
          -42.14694444,
          -41.74888888
         ],
         "mode": "lines",
         "type": "scattermapbox"
        },
        {
         "lat": [
          -5.34916666,
          -6.4236111
         ],
         "line": {
          "color": "steelblue"
         },
         "lon": [
          -41.51222222,
          -41.74888888
         ],
         "mode": "lines",
         "type": "scattermapbox"
        },
        {
         "lat": [
          -3.10333333,
          -3.29472221
         ],
         "line": {
          "color": "steelblue"
         },
         "lon": [
          -60.01638888,
          -60.62833332
         ],
         "mode": "lines",
         "type": "scattermapbox"
        },
        {
         "lat": [
          -7.5525,
          -9.94888888
         ],
         "line": {
          "color": "steelblue"
         },
         "lon": [
          -63.07138888,
          -62.96194444
         ],
         "mode": "lines",
         "type": "scattermapbox"
        },
        {
         "lat": [
          -3.58333333,
          -3.13333333
         ],
         "line": {
          "color": "steelblue"
         },
         "lon": [
          -59.12944443,
          -58.48277777
         ],
         "mode": "lines",
         "type": "scattermapbox"
        },
        {
         "lat": [
          -3.13333333,
          -2.53472221
         ],
         "line": {
          "color": "steelblue"
         },
         "lon": [
          -58.48277777,
          -57.75805555
         ],
         "mode": "lines",
         "type": "scattermapbox"
        },
        {
         "lat": [
          -3.51083333,
          -3.27027777
         ],
         "line": {
          "color": "steelblue"
         },
         "lon": [
          -52.96333333,
          -52.39472221
         ],
         "mode": "lines",
         "type": "scattermapbox"
        },
        {
         "lat": [
          -3.86416666,
          -3.27027777
         ],
         "line": {
          "color": "steelblue"
         },
         "lon": [
          -54.21638888,
          -52.39472221
         ],
         "mode": "lines",
         "type": "scattermapbox"
        },
        {
         "lat": [
          -2.59249999,
          -1.73472221
         ],
         "line": {
          "color": "steelblue"
         },
         "lon": [
          -48.36055555,
          -47.0575
         ],
         "mode": "lines",
         "type": "scattermapbox"
        },
        {
         "lat": [
          -9.34055555,
          -7.11055555
         ],
         "line": {
          "color": "steelblue"
         },
         "lon": [
          -50.35027777,
          -49.9261111
         ],
         "mode": "lines",
         "type": "scattermapbox"
        },
        {
         "lat": [
          -9.34055555,
          -8.72972221
         ],
         "line": {
          "color": "steelblue"
         },
         "lon": [
          -50.35027777,
          -49.85638888
         ],
         "mode": "lines",
         "type": "scattermapbox"
        },
        {
         "lat": [
          -1.82194443,
          -3.27027777
         ],
         "line": {
          "color": "steelblue"
         },
         "lon": [
          -52.11166666,
          -52.39472221
         ],
         "mode": "lines",
         "type": "scattermapbox"
        },
        {
         "lat": [
          -7.11055555,
          -8.72972221
         ],
         "line": {
          "color": "steelblue"
         },
         "lon": [
          -49.9261111,
          -49.85638888
         ],
         "mode": "lines",
         "type": "scattermapbox"
        },
        {
         "lat": [
          -8.04333333,
          -8.72972221
         ],
         "line": {
          "color": "steelblue"
         },
         "lon": [
          -50.00694444,
          -49.85638888
         ],
         "mode": "lines",
         "type": "scattermapbox"
        },
        {
         "lat": [
          -11.44583333,
          -9.94888888
         ],
         "line": {
          "color": "steelblue"
         },
         "lon": [
          -61.43416666,
          -62.96194444
         ],
         "mode": "lines",
         "type": "scattermapbox"
        },
        {
         "lat": [
          -12.615,
          -11.74499999
         ],
         "line": {
          "color": "steelblue"
         },
         "lon": [
          -47.87194443,
          -49.05166666
         ],
         "mode": "lines",
         "type": "scattermapbox"
        },
        {
         "lat": [
          -12.615,
          -12.59222221
         ],
         "line": {
          "color": "steelblue"
         },
         "lon": [
          -47.87194443,
          -49.5286111
         ],
         "mode": "lines",
         "type": "scattermapbox"
        },
        {
         "lat": [
          -11.74499999,
          -10.47694443
         ],
         "line": {
          "color": "steelblue"
         },
         "lon": [
          -49.05166666,
          -49.62944443
         ],
         "mode": "lines",
         "type": "scattermapbox"
        },
        {
         "lat": [
          -11.74499999,
          -12.59222221
         ],
         "line": {
          "color": "steelblue"
         },
         "lon": [
          -49.05166666,
          -49.5286111
         ],
         "mode": "lines",
         "type": "scattermapbox"
        },
        {
         "lat": [
          -11.74499999,
          -10.828286
         ],
         "line": {
          "color": "steelblue"
         },
         "lon": [
          -49.05166666,
          -49.847882
         ],
         "mode": "lines",
         "type": "scattermapbox"
        },
        {
         "lat": [
          -7.10388888,
          -7.124191
         ],
         "line": {
          "color": "steelblue"
         },
         "lon": [
          -48.20111111,
          -48.781267
         ],
         "mode": "lines",
         "type": "scattermapbox"
        },
        {
         "lat": [
          -7.10388888,
          -8.092708
         ],
         "line": {
          "color": "steelblue"
         },
         "lon": [
          -48.20111111,
          -48.478605
         ],
         "mode": "lines",
         "type": "scattermapbox"
        },
        {
         "lat": [
          -7.124191,
          -8.092708
         ],
         "line": {
          "color": "steelblue"
         },
         "lon": [
          -48.781267,
          -48.478605
         ],
         "mode": "lines",
         "type": "scattermapbox"
        },
        {
         "lat": [
          -10.47694443,
          -12.59222221
         ],
         "line": {
          "color": "steelblue"
         },
         "lon": [
          -49.62944443,
          -49.5286111
         ],
         "mode": "lines",
         "type": "scattermapbox"
        },
        {
         "lat": [
          -10.47694443,
          -10.828286
         ],
         "line": {
          "color": "steelblue"
         },
         "lon": [
          -49.62944443,
          -49.847882
         ],
         "mode": "lines",
         "type": "scattermapbox"
        },
        {
         "lat": [
          -12.59222221,
          -10.828286
         ],
         "line": {
          "color": "steelblue"
         },
         "lon": [
          -49.5286111,
          -49.847882
         ],
         "mode": "lines",
         "type": "scattermapbox"
        },
        {
         "lat": [
          -20.27083332,
          -19.35694444
         ],
         "line": {
          "color": "steelblue"
         },
         "lon": [
          -40.30583333,
          -40.0686111
         ],
         "mode": "lines",
         "type": "scattermapbox"
        },
        {
         "lat": [
          -20.27083332,
          -21.10083333
         ],
         "line": {
          "color": "steelblue"
         },
         "lon": [
          -40.30583333,
          -41.03944444
         ],
         "mode": "lines",
         "type": "scattermapbox"
        },
        {
         "lat": [
          -20.27083332,
          -20.46694443
         ],
         "line": {
          "color": "steelblue"
         },
         "lon": [
          -40.30583333,
          -40.40388888
         ],
         "mode": "lines",
         "type": "scattermapbox"
        },
        {
         "lat": [
          -20.27083332,
          -21.71472222
         ],
         "line": {
          "color": "steelblue"
         },
         "lon": [
          -40.30583333,
          -41.34388888
         ],
         "mode": "lines",
         "type": "scattermapbox"
        },
        {
         "lat": [
          -19.35694444,
          -18.6761111
         ],
         "line": {
          "color": "steelblue"
         },
         "lon": [
          -40.0686111,
          -39.86416666
         ],
         "mode": "lines",
         "type": "scattermapbox"
        },
        {
         "lat": [
          -19.35694444,
          -18.29138888
         ],
         "line": {
          "color": "steelblue"
         },
         "lon": [
          -40.0686111,
          -40.73638888
         ],
         "mode": "lines",
         "type": "scattermapbox"
        },
        {
         "lat": [
          -19.35694444,
          -19.40722222
         ],
         "line": {
          "color": "steelblue"
         },
         "lon": [
          -40.0686111,
          -40.53972221
         ],
         "mode": "lines",
         "type": "scattermapbox"
        },
        {
         "lat": [
          -19.35694444,
          -20.46694443
         ],
         "line": {
          "color": "steelblue"
         },
         "lon": [
          -40.0686111,
          -40.40388888
         ],
         "mode": "lines",
         "type": "scattermapbox"
        },
        {
         "lat": [
          -20.63638888,
          -21.10083333
         ],
         "line": {
          "color": "steelblue"
         },
         "lon": [
          -40.74194444,
          -41.03944444
         ],
         "mode": "lines",
         "type": "scattermapbox"
        },
        {
         "lat": [
          -20.63638888,
          -20.46694443
         ],
         "line": {
          "color": "steelblue"
         },
         "lon": [
          -40.74194444,
          -40.40388888
         ],
         "mode": "lines",
         "type": "scattermapbox"
        },
        {
         "lat": [
          -18.6761111,
          -18.29138888
         ],
         "line": {
          "color": "steelblue"
         },
         "lon": [
          -39.86416666,
          -40.73638888
         ],
         "mode": "lines",
         "type": "scattermapbox"
        },
        {
         "lat": [
          -18.6761111,
          -19.40722222
         ],
         "line": {
          "color": "steelblue"
         },
         "lon": [
          -39.86416666,
          -40.53972221
         ],
         "mode": "lines",
         "type": "scattermapbox"
        },
        {
         "lat": [
          -18.6761111,
          -17.79888888
         ],
         "line": {
          "color": "steelblue"
         },
         "lon": [
          -39.86416666,
          -40.25
         ],
         "mode": "lines",
         "type": "scattermapbox"
        },
        {
         "lat": [
          -20.75055555,
          -20.38555555
         ],
         "line": {
          "color": "steelblue"
         },
         "lon": [
          -41.48888888,
          -41.18999999
         ],
         "mode": "lines",
         "type": "scattermapbox"
        },
        {
         "lat": [
          -20.75055555,
          -21.105
         ],
         "line": {
          "color": "steelblue"
         },
         "lon": [
          -41.48888888,
          -42.37583332
         ],
         "mode": "lines",
         "type": "scattermapbox"
        },
        {
         "lat": [
          -20.75055555,
          -21.54666666
         ],
         "line": {
          "color": "steelblue"
         },
         "lon": [
          -41.48888888,
          -43.26111111
         ],
         "mode": "lines",
         "type": "scattermapbox"
        },
        {
         "lat": [
          -20.75055555,
          -21.58749999
         ],
         "line": {
          "color": "steelblue"
         },
         "lon": [
          -41.48888888,
          -41.95833333
         ],
         "mode": "lines",
         "type": "scattermapbox"
        },
        {
         "lat": [
          -20.75055555,
          -21.9386111
         ],
         "line": {
          "color": "steelblue"
         },
         "lon": [
          -41.48888888,
          -42.60083333
         ],
         "mode": "lines",
         "type": "scattermapbox"
        },
        {
         "lat": [
          -20.75055555,
          -21.95055555
         ],
         "line": {
          "color": "steelblue"
         },
         "lon": [
          -41.48888888,
          -42.01027777
         ],
         "mode": "lines",
         "type": "scattermapbox"
        },
        {
         "lat": [
          -21.10083333,
          -20.46694443
         ],
         "line": {
          "color": "steelblue"
         },
         "lon": [
          -41.03944444,
          -40.40388888
         ],
         "mode": "lines",
         "type": "scattermapbox"
        },
        {
         "lat": [
          -21.10083333,
          -21.71472222
         ],
         "line": {
          "color": "steelblue"
         },
         "lon": [
          -41.03944444,
          -41.34388888
         ],
         "mode": "lines",
         "type": "scattermapbox"
        },
        {
         "lat": [
          -21.10083333,
          -22.3761111
         ],
         "line": {
          "color": "steelblue"
         },
         "lon": [
          -41.03944444,
          -41.81194444
         ],
         "mode": "lines",
         "type": "scattermapbox"
        },
        {
         "lat": [
          -18.29138888,
          -19.40722222
         ],
         "line": {
          "color": "steelblue"
         },
         "lon": [
          -40.73638888,
          -40.53972221
         ],
         "mode": "lines",
         "type": "scattermapbox"
        },
        {
         "lat": [
          -18.29138888,
          -17.79888888
         ],
         "line": {
          "color": "steelblue"
         },
         "lon": [
          -40.73638888,
          -40.25
         ],
         "mode": "lines",
         "type": "scattermapbox"
        },
        {
         "lat": [
          -18.29138888,
          -17.89284
         ],
         "line": {
          "color": "steelblue"
         },
         "lon": [
          -40.73638888,
          -41.515423
         ],
         "mode": "lines",
         "type": "scattermapbox"
        },
        {
         "lat": [
          -18.29138888,
          -18.78062
         ],
         "line": {
          "color": "steelblue"
         },
         "lon": [
          -40.73638888,
          -40.986505
         ],
         "mode": "lines",
         "type": "scattermapbox"
        },
        {
         "lat": [
          -19.40722222,
          -20.38555555
         ],
         "line": {
          "color": "steelblue"
         },
         "lon": [
          -40.53972221,
          -41.18999999
         ],
         "mode": "lines",
         "type": "scattermapbox"
        },
        {
         "lat": [
          -19.40722222,
          -20.10416666
         ],
         "line": {
          "color": "steelblue"
         },
         "lon": [
          -40.53972221,
          -41.10694444
         ],
         "mode": "lines",
         "type": "scattermapbox"
        },
        {
         "lat": [
          -19.40722222,
          -17.79888888
         ],
         "line": {
          "color": "steelblue"
         },
         "lon": [
          -40.53972221,
          -40.25
         ],
         "mode": "lines",
         "type": "scattermapbox"
        },
        {
         "lat": [
          -19.40722222,
          -18.78062
         ],
         "line": {
          "color": "steelblue"
         },
         "lon": [
          -40.53972221,
          -40.986505
         ],
         "mode": "lines",
         "type": "scattermapbox"
        },
        {
         "lat": [
          -20.38555555,
          -20.10416666
         ],
         "line": {
          "color": "steelblue"
         },
         "lon": [
          -41.18999999,
          -41.10694444
         ],
         "mode": "lines",
         "type": "scattermapbox"
        },
        {
         "lat": [
          -20.38555555,
          -20.26333333
         ],
         "line": {
          "color": "steelblue"
         },
         "lon": [
          -41.18999999,
          -42.18277777
         ],
         "mode": "lines",
         "type": "scattermapbox"
        },
        {
         "lat": [
          -20.38555555,
          -21.58749999
         ],
         "line": {
          "color": "steelblue"
         },
         "lon": [
          -41.18999999,
          -41.95833333
         ],
         "mode": "lines",
         "type": "scattermapbox"
        },
        {
         "lat": [
          -20.38555555,
          -21.95055555
         ],
         "line": {
          "color": "steelblue"
         },
         "lon": [
          -41.18999999,
          -42.01027777
         ],
         "mode": "lines",
         "type": "scattermapbox"
        },
        {
         "lat": [
          -20.46694443,
          -21.71472222
         ],
         "line": {
          "color": "steelblue"
         },
         "lon": [
          -40.40388888,
          -41.34388888
         ],
         "mode": "lines",
         "type": "scattermapbox"
        },
        {
         "lat": [
          -20.10416666,
          -20.762607
         ],
         "line": {
          "color": "steelblue"
         },
         "lon": [
          -41.10694444,
          -42.864013
         ],
         "mode": "lines",
         "type": "scattermapbox"
        },
        {
         "lat": [
          -20.10416666,
          -18.830354
         ],
         "line": {
          "color": "steelblue"
         },
         "lon": [
          -41.10694444,
          -41.977007
         ],
         "mode": "lines",
         "type": "scattermapbox"
        },
        {
         "lat": [
          -20.10416666,
          -18.78694444
         ],
         "line": {
          "color": "steelblue"
         },
         "lon": [
          -41.10694444,
          -42.94305555
         ],
         "mode": "lines",
         "type": "scattermapbox"
        },
        {
         "lat": [
          -20.10416666,
          -20.26333333
         ],
         "line": {
          "color": "steelblue"
         },
         "lon": [
          -41.10694444,
          -42.18277777
         ],
         "mode": "lines",
         "type": "scattermapbox"
        },
        {
         "lat": [
          -19.60583333,
          -18.91694443
         ],
         "line": {
          "color": "steelblue"
         },
         "lon": [
          -46.94972221,
          -48.25555555
         ],
         "mode": "lines",
         "type": "scattermapbox"
        },
        {
         "lat": [
          -16.68638888,
          -18.747711
         ],
         "line": {
          "color": "steelblue"
         },
         "lon": [
          -43.84388888,
          -44.453785
         ],
         "mode": "lines",
         "type": "scattermapbox"
        },
        {
         "lat": [
          -16.68638888,
          -15.08583333
         ],
         "line": {
          "color": "steelblue"
         },
         "lon": [
          -43.84388888,
          -44.01611111
         ],
         "mode": "lines",
         "type": "scattermapbox"
        },
        {
         "lat": [
          -16.68638888,
          -14.91222222
         ],
         "line": {
          "color": "steelblue"
         },
         "lon": [
          -43.84388888,
          -42.80861111
         ],
         "mode": "lines",
         "type": "scattermapbox"
        },
        {
         "lat": [
          -16.68638888,
          -17.258064
         ],
         "line": {
          "color": "steelblue"
         },
         "lon": [
          -43.84388888,
          -44.835556
         ],
         "mode": "lines",
         "type": "scattermapbox"
        },
        {
         "lat": [
          -16.68638888,
          -16.36277777
         ],
         "line": {
          "color": "steelblue"
         },
         "lon": [
          -43.84388888,
          -45.12388888
         ],
         "mode": "lines",
         "type": "scattermapbox"
        },
        {
         "lat": [
          -16.68638888,
          -15.30027777
         ],
         "line": {
          "color": "steelblue"
         },
         "lon": [
          -43.84388888,
          -45.61749999
         ],
         "mode": "lines",
         "type": "scattermapbox"
        },
        {
         "lat": [
          -16.68638888,
          -16.57555554
         ],
         "line": {
          "color": "steelblue"
         },
         "lon": [
          -43.84388888,
          -41.48555555
         ],
         "mode": "lines",
         "type": "scattermapbox"
        },
        {
         "lat": [
          -16.68638888,
          -15.72305554
         ],
         "line": {
          "color": "steelblue"
         },
         "lon": [
          -43.84388888,
          -42.43583333
         ],
         "mode": "lines",
         "type": "scattermapbox"
        },
        {
         "lat": [
          -16.68638888,
          -15.44805555
         ],
         "line": {
          "color": "steelblue"
         },
         "lon": [
          -43.84388888,
          -44.36638888
         ],
         "mode": "lines",
         "type": "scattermapbox"
        },
        {
         "lat": [
          -16.68638888,
          -15.80277777
         ],
         "line": {
          "color": "steelblue"
         },
         "lon": [
          -43.84388888,
          -43.29694444
         ],
         "mode": "lines",
         "type": "scattermapbox"
        },
        {
         "lat": [
          -16.16666666,
          -15.751536
         ],
         "line": {
          "color": "steelblue"
         },
         "lon": [
          -40.68777777,
          -41.457787
         ],
         "mode": "lines",
         "type": "scattermapbox"
        },
        {
         "lat": [
          -16.16666666,
          -16.57555554
         ],
         "line": {
          "color": "steelblue"
         },
         "lon": [
          -40.68777777,
          -41.48555555
         ],
         "mode": "lines",
         "type": "scattermapbox"
        },
        {
         "lat": [
          -16.16666666,
          -15.72305554
         ],
         "line": {
          "color": "steelblue"
         },
         "lon": [
          -40.68777777,
          -42.43583333
         ],
         "mode": "lines",
         "type": "scattermapbox"
        },
        {
         "lat": [
          -22.86166666,
          -21.918066
         ],
         "line": {
          "color": "steelblue"
         },
         "lon": [
          -46.04333333,
          -46.382996
         ],
         "mode": "lines",
         "type": "scattermapbox"
        },
        {
         "lat": [
          -22.86166666,
          -22.31444444
         ],
         "line": {
          "color": "steelblue"
         },
         "lon": [
          -46.04333333,
          -45.37305554
         ],
         "mode": "lines",
         "type": "scattermapbox"
        },
        {
         "lat": [
          -22.86166666,
          -22.75027777
         ],
         "line": {
          "color": "steelblue"
         },
         "lon": [
          -46.04333333,
          -45.60388888
         ],
         "mode": "lines",
         "type": "scattermapbox"
        },
        {
         "lat": [
          -20.762607,
          -21.105
         ],
         "line": {
          "color": "steelblue"
         },
         "lon": [
          -42.864013,
          -42.37583332
         ],
         "mode": "lines",
         "type": "scattermapbox"
        },
        {
         "lat": [
          -20.762607,
          -20.26333333
         ],
         "line": {
          "color": "steelblue"
         },
         "lon": [
          -42.864013,
          -42.18277777
         ],
         "mode": "lines",
         "type": "scattermapbox"
        },
        {
         "lat": [
          -20.762607,
          -21.54666666
         ],
         "line": {
          "color": "steelblue"
         },
         "lon": [
          -42.864013,
          -43.26111111
         ],
         "mode": "lines",
         "type": "scattermapbox"
        },
        {
         "lat": [
          -20.762607,
          -21.58749999
         ],
         "line": {
          "color": "steelblue"
         },
         "lon": [
          -42.864013,
          -41.95833333
         ],
         "mode": "lines",
         "type": "scattermapbox"
        },
        {
         "lat": [
          -20.762607,
          -22.09833333
         ],
         "line": {
          "color": "steelblue"
         },
         "lon": [
          -42.864013,
          -43.20833333
         ],
         "mode": "lines",
         "type": "scattermapbox"
        },
        {
         "lat": [
          -20.762607,
          -21.9386111
         ],
         "line": {
          "color": "steelblue"
         },
         "lon": [
          -42.864013,
          -42.60083333
         ],
         "mode": "lines",
         "type": "scattermapbox"
        },
        {
         "lat": [
          -19.57388888,
          -18.78694444
         ],
         "line": {
          "color": "steelblue"
         },
         "lon": [
          -42.62249999,
          -42.94305555
         ],
         "mode": "lines",
         "type": "scattermapbox"
        },
        {
         "lat": [
          -19.57388888,
          -20.26333333
         ],
         "line": {
          "color": "steelblue"
         },
         "lon": [
          -42.62249999,
          -42.18277777
         ],
         "mode": "lines",
         "type": "scattermapbox"
        },
        {
         "lat": [
          -18.95277777,
          -19.53921
         ],
         "line": {
          "color": "steelblue"
         },
         "lon": [
          -49.52499999,
          -49.518133
         ],
         "mode": "lines",
         "type": "scattermapbox"
        },
        {
         "lat": [
          -18.95277777,
          -19.98586
         ],
         "line": {
          "color": "steelblue"
         },
         "lon": [
          -49.52499999,
          -48.151574
         ],
         "mode": "lines",
         "type": "scattermapbox"
        },
        {
         "lat": [
          -18.95277777,
          -20.35972222
         ],
         "line": {
          "color": "steelblue"
         },
         "lon": [
          -49.52499999,
          -47.77527777
         ],
         "mode": "lines",
         "type": "scattermapbox"
        },
        {
         "lat": [
          -21.56638888,
          -20.745237
         ],
         "line": {
          "color": "steelblue"
         },
         "lon": [
          -45.40416666,
          -46.633916
         ],
         "mode": "lines",
         "type": "scattermapbox"
        },
        {
         "lat": [
          -21.56638888,
          -22.39583333
         ],
         "line": {
          "color": "steelblue"
         },
         "lon": [
          -45.40416666,
          -44.96194444
         ],
         "mode": "lines",
         "type": "scattermapbox"
        },
        {
         "lat": [
          -21.56638888,
          -21.918066
         ],
         "line": {
          "color": "steelblue"
         },
         "lon": [
          -45.40416666,
          -46.382996
         ],
         "mode": "lines",
         "type": "scattermapbox"
        },
        {
         "lat": [
          -21.56638888,
          -20.17333332
         ],
         "line": {
          "color": "steelblue"
         },
         "lon": [
          -45.40416666,
          -44.87499999
         ],
         "mode": "lines",
         "type": "scattermapbox"
        },
        {
         "lat": [
          -21.56638888,
          -21.680722
         ],
         "line": {
          "color": "steelblue"
         },
         "lon": [
          -45.40416666,
          -45.944389
         ],
         "mode": "lines",
         "type": "scattermapbox"
        },
        {
         "lat": [
          -21.56638888,
          -20.715
         ],
         "line": {
          "color": "steelblue"
         },
         "lon": [
          -45.40416666,
          -44.86444444
         ],
         "mode": "lines",
         "type": "scattermapbox"
        },
        {
         "lat": [
          -21.56638888,
          -21.33833333
         ],
         "line": {
          "color": "steelblue"
         },
         "lon": [
          -45.40416666,
          -48.11388888
         ],
         "mode": "lines",
         "type": "scattermapbox"
        },
        {
         "lat": [
          -20.745237,
          -19.98586
         ],
         "line": {
          "color": "steelblue"
         },
         "lon": [
          -46.633916,
          -48.151574
         ],
         "mode": "lines",
         "type": "scattermapbox"
        },
        {
         "lat": [
          -20.745237,
          -18.996684
         ],
         "line": {
          "color": "steelblue"
         },
         "lon": [
          -46.633916,
          -46.985935
         ],
         "mode": "lines",
         "type": "scattermapbox"
        },
        {
         "lat": [
          -20.745237,
          -19.87527777
         ],
         "line": {
          "color": "steelblue"
         },
         "lon": [
          -46.633916,
          -47.43416666
         ],
         "mode": "lines",
         "type": "scattermapbox"
        },
        {
         "lat": [
          -20.745237,
          -21.918066
         ],
         "line": {
          "color": "steelblue"
         },
         "lon": [
          -46.633916,
          -46.382996
         ],
         "mode": "lines",
         "type": "scattermapbox"
        },
        {
         "lat": [
          -20.745237,
          -20.91
         ],
         "line": {
          "color": "steelblue"
         },
         "lon": [
          -46.633916,
          -47.11416666
         ],
         "mode": "lines",
         "type": "scattermapbox"
        },
        {
         "lat": [
          -20.745237,
          -20.0311111
         ],
         "line": {
          "color": "steelblue"
         },
         "lon": [
          -46.633916,
          -46.00888888
         ],
         "mode": "lines",
         "type": "scattermapbox"
        },
        {
         "lat": [
          -20.745237,
          -19.71
         ],
         "line": {
          "color": "steelblue"
         },
         "lon": [
          -46.633916,
          -47.96194444
         ],
         "mode": "lines",
         "type": "scattermapbox"
        },
        {
         "lat": [
          -20.745237,
          -21.33833333
         ],
         "line": {
          "color": "steelblue"
         },
         "lon": [
          -46.633916,
          -48.11388888
         ],
         "mode": "lines",
         "type": "scattermapbox"
        },
        {
         "lat": [
          -20.745237,
          -20.35972222
         ],
         "line": {
          "color": "steelblue"
         },
         "lon": [
          -46.633916,
          -47.77527777
         ],
         "mode": "lines",
         "type": "scattermapbox"
        },
        {
         "lat": [
          -20.745237,
          -21.46111111
         ],
         "line": {
          "color": "steelblue"
         },
         "lon": [
          -46.633916,
          -47.57944443
         ],
         "mode": "lines",
         "type": "scattermapbox"
        },
        {
         "lat": [
          -21.105,
          -21.54666666
         ],
         "line": {
          "color": "steelblue"
         },
         "lon": [
          -42.37583332,
          -43.26111111
         ],
         "mode": "lines",
         "type": "scattermapbox"
        },
        {
         "lat": [
          -21.105,
          -21.58749999
         ],
         "line": {
          "color": "steelblue"
         },
         "lon": [
          -42.37583332,
          -41.95833333
         ],
         "mode": "lines",
         "type": "scattermapbox"
        },
        {
         "lat": [
          -21.105,
          -22.09833333
         ],
         "line": {
          "color": "steelblue"
         },
         "lon": [
          -42.37583332,
          -43.20833333
         ],
         "mode": "lines",
         "type": "scattermapbox"
        },
        {
         "lat": [
          -21.105,
          -21.9386111
         ],
         "line": {
          "color": "steelblue"
         },
         "lon": [
          -42.37583332,
          -42.60083333
         ],
         "mode": "lines",
         "type": "scattermapbox"
        },
        {
         "lat": [
          -21.105,
          -21.95055555
         ],
         "line": {
          "color": "steelblue"
         },
         "lon": [
          -42.37583332,
          -42.01027777
         ],
         "mode": "lines",
         "type": "scattermapbox"
        },
        {
         "lat": [
          -19.53921,
          -19.98586
         ],
         "line": {
          "color": "steelblue"
         },
         "lon": [
          -49.518133,
          -48.151574
         ],
         "mode": "lines",
         "type": "scattermapbox"
        },
        {
         "lat": [
          -19.53921,
          -19.87527777
         ],
         "line": {
          "color": "steelblue"
         },
         "lon": [
          -49.518133,
          -47.43416666
         ],
         "mode": "lines",
         "type": "scattermapbox"
        },
        {
         "lat": [
          -19.53921,
          -20.91
         ],
         "line": {
          "color": "steelblue"
         },
         "lon": [
          -49.518133,
          -47.11416666
         ],
         "mode": "lines",
         "type": "scattermapbox"
        },
        {
         "lat": [
          -19.53921,
          -19.71
         ],
         "line": {
          "color": "steelblue"
         },
         "lon": [
          -49.518133,
          -47.96194444
         ],
         "mode": "lines",
         "type": "scattermapbox"
        },
        {
         "lat": [
          -19.53921,
          -21.13305554
         ],
         "line": {
          "color": "steelblue"
         },
         "lon": [
          -49.518133,
          -48.84055555
         ],
         "mode": "lines",
         "type": "scattermapbox"
        },
        {
         "lat": [
          -19.53921,
          -21.33833333
         ],
         "line": {
          "color": "steelblue"
         },
         "lon": [
          -49.518133,
          -48.11388888
         ],
         "mode": "lines",
         "type": "scattermapbox"
        },
        {
         "lat": [
          -19.53921,
          -20.35972222
         ],
         "line": {
          "color": "steelblue"
         },
         "lon": [
          -49.518133,
          -47.77527777
         ],
         "mode": "lines",
         "type": "scattermapbox"
        },
        {
         "lat": [
          -19.98586,
          -19.87527777
         ],
         "line": {
          "color": "steelblue"
         },
         "lon": [
          -48.151574,
          -47.43416666
         ],
         "mode": "lines",
         "type": "scattermapbox"
        },
        {
         "lat": [
          -19.98586,
          -20.91
         ],
         "line": {
          "color": "steelblue"
         },
         "lon": [
          -48.151574,
          -47.11416666
         ],
         "mode": "lines",
         "type": "scattermapbox"
        },
        {
         "lat": [
          -19.98586,
          -19.71
         ],
         "line": {
          "color": "steelblue"
         },
         "lon": [
          -48.151574,
          -47.96194444
         ],
         "mode": "lines",
         "type": "scattermapbox"
        },
        {
         "lat": [
          -19.98586,
          -21.13305554
         ],
         "line": {
          "color": "steelblue"
         },
         "lon": [
          -48.151574,
          -48.84055555
         ],
         "mode": "lines",
         "type": "scattermapbox"
        },
        {
         "lat": [
          -19.98586,
          -21.33833333
         ],
         "line": {
          "color": "steelblue"
         },
         "lon": [
          -48.151574,
          -48.11388888
         ],
         "mode": "lines",
         "type": "scattermapbox"
        },
        {
         "lat": [
          -19.98586,
          -20.35972222
         ],
         "line": {
          "color": "steelblue"
         },
         "lon": [
          -48.151574,
          -47.77527777
         ],
         "mode": "lines",
         "type": "scattermapbox"
        },
        {
         "lat": [
          -19.98586,
          -21.46111111
         ],
         "line": {
          "color": "steelblue"
         },
         "lon": [
          -48.151574,
          -47.57944443
         ],
         "mode": "lines",
         "type": "scattermapbox"
        },
        {
         "lat": [
          -19.88388888,
          -19.88527777
         ],
         "line": {
          "color": "steelblue"
         },
         "lon": [
          -43.96944443,
          -44.41694443
         ],
         "mode": "lines",
         "type": "scattermapbox"
        },
        {
         "lat": [
          -19.88388888,
          -18.747711
         ],
         "line": {
          "color": "steelblue"
         },
         "lon": [
          -43.96944443,
          -44.453785
         ],
         "mode": "lines",
         "type": "scattermapbox"
        },
        {
         "lat": [
          -19.88388888,
          -19.45527777
         ],
         "line": {
          "color": "steelblue"
         },
         "lon": [
          -43.96944443,
          -44.17333332
         ],
         "mode": "lines",
         "type": "scattermapbox"
        },
        {
         "lat": [
          -19.88388888,
          -20.715
         ],
         "line": {
          "color": "steelblue"
         },
         "lon": [
          -43.96944443,
          -44.86444444
         ],
         "mode": "lines",
         "type": "scattermapbox"
        },
        {
         "lat": [
          -19.88388888,
          -19.97999999
         ],
         "line": {
          "color": "steelblue"
         },
         "lon": [
          -43.96944443,
          -43.95861111
         ],
         "mode": "lines",
         "type": "scattermapbox"
        },
        {
         "lat": [
          -18.996684,
          -19.87527777
         ],
         "line": {
          "color": "steelblue"
         },
         "lon": [
          -46.985935,
          -47.43416666
         ],
         "mode": "lines",
         "type": "scattermapbox"
        },
        {
         "lat": [
          -18.996684,
          -19.88527777
         ],
         "line": {
          "color": "steelblue"
         },
         "lon": [
          -46.985935,
          -44.41694443
         ],
         "mode": "lines",
         "type": "scattermapbox"
        },
        {
         "lat": [
          -18.996684,
          -20.91
         ],
         "line": {
          "color": "steelblue"
         },
         "lon": [
          -46.985935,
          -47.11416666
         ],
         "mode": "lines",
         "type": "scattermapbox"
        },
        {
         "lat": [
          -18.996684,
          -18.52055554
         ],
         "line": {
          "color": "steelblue"
         },
         "lon": [
          -46.985935,
          -46.44055555
         ],
         "mode": "lines",
         "type": "scattermapbox"
        },
        {
         "lat": [
          -18.996684,
          -20.0311111
         ],
         "line": {
          "color": "steelblue"
         },
         "lon": [
          -46.985935,
          -46.00888888
         ],
         "mode": "lines",
         "type": "scattermapbox"
        },
        {
         "lat": [
          -18.996684,
          -19.71
         ],
         "line": {
          "color": "steelblue"
         },
         "lon": [
          -46.985935,
          -47.96194444
         ],
         "mode": "lines",
         "type": "scattermapbox"
        },
        {
         "lat": [
          -18.996684,
          -20.35972222
         ],
         "line": {
          "color": "steelblue"
         },
         "lon": [
          -46.985935,
          -47.77527777
         ],
         "mode": "lines",
         "type": "scattermapbox"
        },
        {
         "lat": [
          -19.87527777,
          -20.91
         ],
         "line": {
          "color": "steelblue"
         },
         "lon": [
          -47.43416666,
          -47.11416666
         ],
         "mode": "lines",
         "type": "scattermapbox"
        },
        {
         "lat": [
          -19.87527777,
          -19.71
         ],
         "line": {
          "color": "steelblue"
         },
         "lon": [
          -47.43416666,
          -47.96194444
         ],
         "mode": "lines",
         "type": "scattermapbox"
        },
        {
         "lat": [
          -19.87527777,
          -20.35972222
         ],
         "line": {
          "color": "steelblue"
         },
         "lon": [
          -47.43416666,
          -47.77527777
         ],
         "mode": "lines",
         "type": "scattermapbox"
        },
        {
         "lat": [
          -17.89284,
          -18.830354
         ],
         "line": {
          "color": "steelblue"
         },
         "lon": [
          -41.515423,
          -41.977007
         ],
         "mode": "lines",
         "type": "scattermapbox"
        },
        {
         "lat": [
          -17.89284,
          -16.57555554
         ],
         "line": {
          "color": "steelblue"
         },
         "lon": [
          -41.515423,
          -41.48555555
         ],
         "mode": "lines",
         "type": "scattermapbox"
        },
        {
         "lat": [
          -18.200855,
          -18.747711
         ],
         "line": {
          "color": "steelblue"
         },
         "lon": [
          -45.459836,
          -44.453785
         ],
         "mode": "lines",
         "type": "scattermapbox"
        },
        {
         "lat": [
          -18.200855,
          -17.78444444
         ],
         "line": {
          "color": "steelblue"
         },
         "lon": [
          -45.459836,
          -46.11944443
         ],
         "mode": "lines",
         "type": "scattermapbox"
        },
        {
         "lat": [
          -18.200855,
          -18.52055554
         ],
         "line": {
          "color": "steelblue"
         },
         "lon": [
          -45.459836,
          -46.44055555
         ],
         "mode": "lines",
         "type": "scattermapbox"
        },
        {
         "lat": [
          -22.39583333,
          -22.68888888
         ],
         "line": {
          "color": "steelblue"
         },
         "lon": [
          -44.96194444,
          -45.00555555
         ],
         "mode": "lines",
         "type": "scattermapbox"
        },
        {
         "lat": [
          -21.918066,
          -22.31444444
         ],
         "line": {
          "color": "steelblue"
         },
         "lon": [
          -46.382996,
          -45.37305554
         ],
         "mode": "lines",
         "type": "scattermapbox"
        },
        {
         "lat": [
          -21.918066,
          -19.88527777
         ],
         "line": {
          "color": "steelblue"
         },
         "lon": [
          -46.382996,
          -44.41694443
         ],
         "mode": "lines",
         "type": "scattermapbox"
        },
        {
         "lat": [
          -21.918066,
          -20.91
         ],
         "line": {
          "color": "steelblue"
         },
         "lon": [
          -46.382996,
          -47.11416666
         ],
         "mode": "lines",
         "type": "scattermapbox"
        },
        {
         "lat": [
          -21.918066,
          -20.0311111
         ],
         "line": {
          "color": "steelblue"
         },
         "lon": [
          -46.382996,
          -46.00888888
         ],
         "mode": "lines",
         "type": "scattermapbox"
        },
        {
         "lat": [
          -21.918066,
          -21.13305554
         ],
         "line": {
          "color": "steelblue"
         },
         "lon": [
          -46.382996,
          -48.84055555
         ],
         "mode": "lines",
         "type": "scattermapbox"
        },
        {
         "lat": [
          -21.918066,
          -21.33833333
         ],
         "line": {
          "color": "steelblue"
         },
         "lon": [
          -46.382996,
          -48.11388888
         ],
         "mode": "lines",
         "type": "scattermapbox"
        },
        {
         "lat": [
          -21.918066,
          -20.35972222
         ],
         "line": {
          "color": "steelblue"
         },
         "lon": [
          -46.382996,
          -47.77527777
         ],
         "mode": "lines",
         "type": "scattermapbox"
        },
        {
         "lat": [
          -22.31444444,
          -22.75027777
         ],
         "line": {
          "color": "steelblue"
         },
         "lon": [
          -45.37305554,
          -45.60388888
         ],
         "mode": "lines",
         "type": "scattermapbox"
        },
        {
         "lat": [
          -18.830354,
          -18.78694444
         ],
         "line": {
          "color": "steelblue"
         },
         "lon": [
          -41.977007,
          -42.94305555
         ],
         "mode": "lines",
         "type": "scattermapbox"
        },
        {
         "lat": [
          -18.830354,
          -19.73583333
         ],
         "line": {
          "color": "steelblue"
         },
         "lon": [
          -41.977007,
          -42.13722221
         ],
         "mode": "lines",
         "type": "scattermapbox"
        },
        {
         "lat": [
          -18.830354,
          -20.26333333
         ],
         "line": {
          "color": "steelblue"
         },
         "lon": [
          -41.977007,
          -42.18277777
         ],
         "mode": "lines",
         "type": "scattermapbox"
        },
        {
         "lat": [
          -18.78694444,
          -17.70555555
         ],
         "line": {
          "color": "steelblue"
         },
         "lon": [
          -42.94305555,
          -42.38916666
         ],
         "mode": "lines",
         "type": "scattermapbox"
        },
        {
         "lat": [
          -18.78694444,
          -19.73583333
         ],
         "line": {
          "color": "steelblue"
         },
         "lon": [
          -42.94305555,
          -42.13722221
         ],
         "mode": "lines",
         "type": "scattermapbox"
        },
        {
         "lat": [
          -18.78694444,
          -20.26333333
         ],
         "line": {
          "color": "steelblue"
         },
         "lon": [
          -42.94305555,
          -42.18277777
         ],
         "mode": "lines",
         "type": "scattermapbox"
        },
        {
         "lat": [
          -19.88527777,
          -18.747711
         ],
         "line": {
          "color": "steelblue"
         },
         "lon": [
          -44.41694443,
          -44.453785
         ],
         "mode": "lines",
         "type": "scattermapbox"
        },
        {
         "lat": [
          -19.88527777,
          -17.258064
         ],
         "line": {
          "color": "steelblue"
         },
         "lon": [
          -44.41694443,
          -44.835556
         ],
         "mode": "lines",
         "type": "scattermapbox"
        },
        {
         "lat": [
          -19.88527777,
          -20.0311111
         ],
         "line": {
          "color": "steelblue"
         },
         "lon": [
          -44.41694443,
          -46.00888888
         ],
         "mode": "lines",
         "type": "scattermapbox"
        },
        {
         "lat": [
          -19.88527777,
          -19.45527777
         ],
         "line": {
          "color": "steelblue"
         },
         "lon": [
          -44.41694443,
          -44.17333332
         ],
         "mode": "lines",
         "type": "scattermapbox"
        },
        {
         "lat": [
          -19.48194443,
          -20.17333332
         ],
         "line": {
          "color": "steelblue"
         },
         "lon": [
          -45.59388888,
          -44.87499999
         ],
         "mode": "lines",
         "type": "scattermapbox"
        },
        {
         "lat": [
          -18.747711,
          -17.258064
         ],
         "line": {
          "color": "steelblue"
         },
         "lon": [
          -44.453785,
          -44.835556
         ],
         "mode": "lines",
         "type": "scattermapbox"
        },
        {
         "lat": [
          -18.747711,
          -16.36277777
         ],
         "line": {
          "color": "steelblue"
         },
         "lon": [
          -44.453785,
          -45.12388888
         ],
         "mode": "lines",
         "type": "scattermapbox"
        },
        {
         "lat": [
          -18.747711,
          -17.78444444
         ],
         "line": {
          "color": "steelblue"
         },
         "lon": [
          -44.453785,
          -46.11944443
         ],
         "mode": "lines",
         "type": "scattermapbox"
        },
        {
         "lat": [
          -18.747711,
          -20.17333332
         ],
         "line": {
          "color": "steelblue"
         },
         "lon": [
          -44.453785,
          -44.87499999
         ],
         "mode": "lines",
         "type": "scattermapbox"
        },
        {
         "lat": [
          -18.747711,
          -20.0311111
         ],
         "line": {
          "color": "steelblue"
         },
         "lon": [
          -44.453785,
          -46.00888888
         ],
         "mode": "lines",
         "type": "scattermapbox"
        },
        {
         "lat": [
          -18.747711,
          -19.45527777
         ],
         "line": {
          "color": "steelblue"
         },
         "lon": [
          -44.453785,
          -44.17333332
         ],
         "mode": "lines",
         "type": "scattermapbox"
        },
        {
         "lat": [
          -15.08583333,
          -14.91222222
         ],
         "line": {
          "color": "steelblue"
         },
         "lon": [
          -44.01611111,
          -42.80861111
         ],
         "mode": "lines",
         "type": "scattermapbox"
        },
        {
         "lat": [
          -15.08583333,
          -17.258064
         ],
         "line": {
          "color": "steelblue"
         },
         "lon": [
          -44.01611111,
          -44.835556
         ],
         "mode": "lines",
         "type": "scattermapbox"
        },
        {
         "lat": [
          -15.08583333,
          -16.36277777
         ],
         "line": {
          "color": "steelblue"
         },
         "lon": [
          -44.01611111,
          -45.12388888
         ],
         "mode": "lines",
         "type": "scattermapbox"
        },
        {
         "lat": [
          -15.08583333,
          -15.44805555
         ],
         "line": {
          "color": "steelblue"
         },
         "lon": [
          -44.01611111,
          -44.36638888
         ],
         "mode": "lines",
         "type": "scattermapbox"
        },
        {
         "lat": [
          -15.08583333,
          -15.80277777
         ],
         "line": {
          "color": "steelblue"
         },
         "lon": [
          -44.01611111,
          -43.29694444
         ],
         "mode": "lines",
         "type": "scattermapbox"
        },
        {
         "lat": [
          -14.91222222,
          -16.57555554
         ],
         "line": {
          "color": "steelblue"
         },
         "lon": [
          -42.80861111,
          -41.48555555
         ],
         "mode": "lines",
         "type": "scattermapbox"
        },
        {
         "lat": [
          -14.91222222,
          -15.72305554
         ],
         "line": {
          "color": "steelblue"
         },
         "lon": [
          -42.80861111,
          -42.43583333
         ],
         "mode": "lines",
         "type": "scattermapbox"
        },
        {
         "lat": [
          -14.91222222,
          -15.80277777
         ],
         "line": {
          "color": "steelblue"
         },
         "lon": [
          -42.80861111,
          -43.29694444
         ],
         "mode": "lines",
         "type": "scattermapbox"
        },
        {
         "lat": [
          -15.52416666,
          -15.30027777
         ],
         "line": {
          "color": "steelblue"
         },
         "lon": [
          -46.43555555,
          -45.61749999
         ],
         "mode": "lines",
         "type": "scattermapbox"
        },
        {
         "lat": [
          -17.258064,
          -16.36277777
         ],
         "line": {
          "color": "steelblue"
         },
         "lon": [
          -44.835556,
          -45.12388888
         ],
         "mode": "lines",
         "type": "scattermapbox"
        },
        {
         "lat": [
          -17.258064,
          -15.44805555
         ],
         "line": {
          "color": "steelblue"
         },
         "lon": [
          -44.835556,
          -44.36638888
         ],
         "mode": "lines",
         "type": "scattermapbox"
        },
        {
         "lat": [
          -17.258064,
          -19.45527777
         ],
         "line": {
          "color": "steelblue"
         },
         "lon": [
          -44.835556,
          -44.17333332
         ],
         "mode": "lines",
         "type": "scattermapbox"
        },
        {
         "lat": [
          -17.56138888,
          -17.78444444
         ],
         "line": {
          "color": "steelblue"
         },
         "lon": [
          -47.19916666,
          -46.11944443
         ],
         "mode": "lines",
         "type": "scattermapbox"
        },
        {
         "lat": [
          -17.56138888,
          -18.52055554
         ],
         "line": {
          "color": "steelblue"
         },
         "lon": [
          -47.19916666,
          -46.44055555
         ],
         "mode": "lines",
         "type": "scattermapbox"
        },
        {
         "lat": [
          -17.56138888,
          -17.24444444
         ],
         "line": {
          "color": "steelblue"
         },
         "lon": [
          -47.19916666,
          -46.88166666
         ],
         "mode": "lines",
         "type": "scattermapbox"
        },
        {
         "lat": [
          -16.36277777,
          -15.44805555
         ],
         "line": {
          "color": "steelblue"
         },
         "lon": [
          -45.12388888,
          -44.36638888
         ],
         "mode": "lines",
         "type": "scattermapbox"
        },
        {
         "lat": [
          -16.36277777,
          -19.45527777
         ],
         "line": {
          "color": "steelblue"
         },
         "lon": [
          -45.12388888,
          -44.17333332
         ],
         "mode": "lines",
         "type": "scattermapbox"
        },
        {
         "lat": [
          -15.751536,
          -15.72305554
         ],
         "line": {
          "color": "steelblue"
         },
         "lon": [
          -41.457787,
          -42.43583333
         ],
         "mode": "lines",
         "type": "scattermapbox"
        },
        {
         "lat": [
          -16.57555554,
          -15.72305554
         ],
         "line": {
          "color": "steelblue"
         },
         "lon": [
          -41.48555555,
          -42.43583333
         ],
         "mode": "lines",
         "type": "scattermapbox"
        },
        {
         "lat": [
          -15.72305554,
          -15.80277777
         ],
         "line": {
          "color": "steelblue"
         },
         "lon": [
          -42.43583333,
          -43.29694444
         ],
         "mode": "lines",
         "type": "scattermapbox"
        },
        {
         "lat": [
          -17.78444444,
          -18.52055554
         ],
         "line": {
          "color": "steelblue"
         },
         "lon": [
          -46.11944443,
          -46.44055555
         ],
         "mode": "lines",
         "type": "scattermapbox"
        },
        {
         "lat": [
          -19.73583333,
          -20.26333333
         ],
         "line": {
          "color": "steelblue"
         },
         "lon": [
          -42.13722221,
          -42.18277777
         ],
         "mode": "lines",
         "type": "scattermapbox"
        },
        {
         "lat": [
          -20.26333333,
          -21.9386111
         ],
         "line": {
          "color": "steelblue"
         },
         "lon": [
          -42.18277777,
          -42.60083333
         ],
         "mode": "lines",
         "type": "scattermapbox"
        },
        {
         "lat": [
          -21.54666666,
          -21.58749999
         ],
         "line": {
          "color": "steelblue"
         },
         "lon": [
          -43.26111111,
          -41.95833333
         ],
         "mode": "lines",
         "type": "scattermapbox"
        },
        {
         "lat": [
          -21.54666666,
          -22.35805555
         ],
         "line": {
          "color": "steelblue"
         },
         "lon": [
          -43.26111111,
          -43.69555555
         ],
         "mode": "lines",
         "type": "scattermapbox"
        },
        {
         "lat": [
          -21.54666666,
          -22.09833333
         ],
         "line": {
          "color": "steelblue"
         },
         "lon": [
          -43.26111111,
          -43.20833333
         ],
         "mode": "lines",
         "type": "scattermapbox"
        },
        {
         "lat": [
          -21.54666666,
          -21.9386111
         ],
         "line": {
          "color": "steelblue"
         },
         "lon": [
          -43.26111111,
          -42.60083333
         ],
         "mode": "lines",
         "type": "scattermapbox"
        },
        {
         "lat": [
          -21.54666666,
          -21.95055555
         ],
         "line": {
          "color": "steelblue"
         },
         "lon": [
          -43.26111111,
          -42.01027777
         ],
         "mode": "lines",
         "type": "scattermapbox"
        },
        {
         "lat": [
          -21.54666666,
          -22.34722221
         ],
         "line": {
          "color": "steelblue"
         },
         "lon": [
          -43.26111111,
          -43.41777777
         ],
         "mode": "lines",
         "type": "scattermapbox"
        },
        {
         "lat": [
          -15.44805555,
          -15.80277777
         ],
         "line": {
          "color": "steelblue"
         },
         "lon": [
          -44.36638888,
          -43.29694444
         ],
         "mode": "lines",
         "type": "scattermapbox"
        },
        {
         "lat": [
          -20.91,
          -19.71
         ],
         "line": {
          "color": "steelblue"
         },
         "lon": [
          -47.11416666,
          -47.96194444
         ],
         "mode": "lines",
         "type": "scattermapbox"
        },
        {
         "lat": [
          -20.91,
          -21.13305554
         ],
         "line": {
          "color": "steelblue"
         },
         "lon": [
          -47.11416666,
          -48.84055555
         ],
         "mode": "lines",
         "type": "scattermapbox"
        },
        {
         "lat": [
          -20.91,
          -21.33833333
         ],
         "line": {
          "color": "steelblue"
         },
         "lon": [
          -47.11416666,
          -48.11388888
         ],
         "mode": "lines",
         "type": "scattermapbox"
        },
        {
         "lat": [
          -20.91,
          -20.35972222
         ],
         "line": {
          "color": "steelblue"
         },
         "lon": [
          -47.11416666,
          -47.77527777
         ],
         "mode": "lines",
         "type": "scattermapbox"
        },
        {
         "lat": [
          -20.91,
          -21.46111111
         ],
         "line": {
          "color": "steelblue"
         },
         "lon": [
          -47.11416666,
          -47.57944443
         ],
         "mode": "lines",
         "type": "scattermapbox"
        },
        {
         "lat": [
          -20.17333332,
          -20.0311111
         ],
         "line": {
          "color": "steelblue"
         },
         "lon": [
          -44.87499999,
          -46.00888888
         ],
         "mode": "lines",
         "type": "scattermapbox"
        },
        {
         "lat": [
          -20.17333332,
          -20.715
         ],
         "line": {
          "color": "steelblue"
         },
         "lon": [
          -44.87499999,
          -44.86444444
         ],
         "mode": "lines",
         "type": "scattermapbox"
        },
        {
         "lat": [
          -20.0311111,
          -19.45527777
         ],
         "line": {
          "color": "steelblue"
         },
         "lon": [
          -46.00888888,
          -44.17333332
         ],
         "mode": "lines",
         "type": "scattermapbox"
        },
        {
         "lat": [
          -19.71,
          -20.35972222
         ],
         "line": {
          "color": "steelblue"
         },
         "lon": [
          -47.96194444,
          -47.77527777
         ],
         "mode": "lines",
         "type": "scattermapbox"
        },
        {
         "lat": [
          -22.75777777,
          -22.58972221
         ],
         "line": {
          "color": "steelblue"
         },
         "lon": [
          -43.68472221,
          -43.28222221
         ],
         "mode": "lines",
         "type": "scattermapbox"
        },
        {
         "lat": [
          -22.75777777,
          -22.86138888
         ],
         "line": {
          "color": "steelblue"
         },
         "lon": [
          -43.68472221,
          -43.41138888
         ],
         "mode": "lines",
         "type": "scattermapbox"
        },
        {
         "lat": [
          -22.75777777,
          -22.86749999
         ],
         "line": {
          "color": "steelblue"
         },
         "lon": [
          -43.68472221,
          -43.10194444
         ],
         "mode": "lines",
         "type": "scattermapbox"
        },
        {
         "lat": [
          -22.75777777,
          -22.97555554
         ],
         "line": {
          "color": "steelblue"
         },
         "lon": [
          -43.68472221,
          -44.30333333
         ],
         "mode": "lines",
         "type": "scattermapbox"
        },
        {
         "lat": [
          -22.75777777,
          -22.93999999
         ],
         "line": {
          "color": "steelblue"
         },
         "lon": [
          -43.68472221,
          -43.40277777
         ],
         "mode": "lines",
         "type": "scattermapbox"
        },
        {
         "lat": [
          -22.58972221,
          -22.35805555
         ],
         "line": {
          "color": "steelblue"
         },
         "lon": [
          -43.28222221,
          -43.69555555
         ],
         "mode": "lines",
         "type": "scattermapbox"
        },
        {
         "lat": [
          -22.58972221,
          -23.2236111
         ],
         "line": {
          "color": "steelblue"
         },
         "lon": [
          -43.28222221,
          -44.72694443
         ],
         "mode": "lines",
         "type": "scattermapbox"
        },
        {
         "lat": [
          -22.58972221,
          -22.86138888
         ],
         "line": {
          "color": "steelblue"
         },
         "lon": [
          -43.28222221,
          -43.41138888
         ],
         "mode": "lines",
         "type": "scattermapbox"
        },
        {
         "lat": [
          -22.58972221,
          -22.653579
         ],
         "line": {
          "color": "steelblue"
         },
         "lon": [
          -43.28222221,
          -44.040916
         ],
         "mode": "lines",
         "type": "scattermapbox"
        },
        {
         "lat": [
          -22.58972221,
          -22.86749999
         ],
         "line": {
          "color": "steelblue"
         },
         "lon": [
          -43.28222221,
          -43.10194444
         ],
         "mode": "lines",
         "type": "scattermapbox"
        },
        {
         "lat": [
          -22.58972221,
          -22.97555554
         ],
         "line": {
          "color": "steelblue"
         },
         "lon": [
          -43.28222221,
          -44.30333333
         ],
         "mode": "lines",
         "type": "scattermapbox"
        },
        {
         "lat": [
          -22.58972221,
          -22.93999999
         ],
         "line": {
          "color": "steelblue"
         },
         "lon": [
          -43.28222221,
          -43.40277777
         ],
         "mode": "lines",
         "type": "scattermapbox"
        },
        {
         "lat": [
          -22.58972221,
          -22.34722221
         ],
         "line": {
          "color": "steelblue"
         },
         "lon": [
          -43.28222221,
          -43.41777777
         ],
         "mode": "lines",
         "type": "scattermapbox"
        },
        {
         "lat": [
          -22.58972221,
          -22.64583333
         ],
         "line": {
          "color": "steelblue"
         },
         "lon": [
          -43.28222221,
          -42.41555555
         ],
         "mode": "lines",
         "type": "scattermapbox"
        },
        {
         "lat": [
          -22.58972221,
          -22.8711111
         ],
         "line": {
          "color": "steelblue"
         },
         "lon": [
          -43.28222221,
          -42.60888888
         ],
         "mode": "lines",
         "type": "scattermapbox"
        },
        {
         "lat": [
          -21.58749999,
          -21.71472222
         ],
         "line": {
          "color": "steelblue"
         },
         "lon": [
          -41.95833333,
          -41.34388888
         ],
         "mode": "lines",
         "type": "scattermapbox"
        },
        {
         "lat": [
          -21.58749999,
          -22.09833333
         ],
         "line": {
          "color": "steelblue"
         },
         "lon": [
          -41.95833333,
          -43.20833333
         ],
         "mode": "lines",
         "type": "scattermapbox"
        },
        {
         "lat": [
          -21.58749999,
          -21.9386111
         ],
         "line": {
          "color": "steelblue"
         },
         "lon": [
          -41.95833333,
          -42.60083333
         ],
         "mode": "lines",
         "type": "scattermapbox"
        },
        {
         "lat": [
          -21.58749999,
          -21.95055555
         ],
         "line": {
          "color": "steelblue"
         },
         "lon": [
          -41.95833333,
          -42.01027777
         ],
         "mode": "lines",
         "type": "scattermapbox"
        },
        {
         "lat": [
          -21.58749999,
          -22.34722221
         ],
         "line": {
          "color": "steelblue"
         },
         "lon": [
          -41.95833333,
          -43.41777777
         ],
         "mode": "lines",
         "type": "scattermapbox"
        },
        {
         "lat": [
          -21.71472222,
          -22.3761111
         ],
         "line": {
          "color": "steelblue"
         },
         "lon": [
          -41.34388888,
          -41.81194444
         ],
         "mode": "lines",
         "type": "scattermapbox"
        },
        {
         "lat": [
          -21.71472222,
          -22.04166666
         ],
         "line": {
          "color": "steelblue"
         },
         "lon": [
          -41.34388888,
          -41.05166666
         ],
         "mode": "lines",
         "type": "scattermapbox"
        },
        {
         "lat": [
          -21.71472222,
          -21.95055555
         ],
         "line": {
          "color": "steelblue"
         },
         "lon": [
          -41.34388888,
          -42.01027777
         ],
         "mode": "lines",
         "type": "scattermapbox"
        },
        {
         "lat": [
          -21.71472222,
          -22.64583333
         ],
         "line": {
          "color": "steelblue"
         },
         "lon": [
          -41.34388888,
          -42.41555555
         ],
         "mode": "lines",
         "type": "scattermapbox"
        },
        {
         "lat": [
          -22.3761111,
          -22.64583333
         ],
         "line": {
          "color": "steelblue"
         },
         "lon": [
          -41.81194444,
          -42.41555555
         ],
         "mode": "lines",
         "type": "scattermapbox"
        },
        {
         "lat": [
          -22.45138888,
          -22.35805555
         ],
         "line": {
          "color": "steelblue"
         },
         "lon": [
          -44.44499999,
          -43.69555555
         ],
         "mode": "lines",
         "type": "scattermapbox"
        },
        {
         "lat": [
          -22.45138888,
          -22.09833333
         ],
         "line": {
          "color": "steelblue"
         },
         "lon": [
          -44.44499999,
          -43.20833333
         ],
         "mode": "lines",
         "type": "scattermapbox"
        },
        {
         "lat": [
          -22.45138888,
          -22.653579
         ],
         "line": {
          "color": "steelblue"
         },
         "lon": [
          -44.44499999,
          -44.040916
         ],
         "mode": "lines",
         "type": "scattermapbox"
        },
        {
         "lat": [
          -22.45138888,
          -23.04166666
         ],
         "line": {
          "color": "steelblue"
         },
         "lon": [
          -44.44499999,
          -45.52083332
         ],
         "mode": "lines",
         "type": "scattermapbox"
        },
        {
         "lat": [
          -22.45138888,
          -22.68888888
         ],
         "line": {
          "color": "steelblue"
         },
         "lon": [
          -44.44499999,
          -45.00555555
         ],
         "mode": "lines",
         "type": "scattermapbox"
        },
        {
         "lat": [
          -22.35805555,
          -22.09833333
         ],
         "line": {
          "color": "steelblue"
         },
         "lon": [
          -43.69555555,
          -43.20833333
         ],
         "mode": "lines",
         "type": "scattermapbox"
        },
        {
         "lat": [
          -22.35805555,
          -22.653579
         ],
         "line": {
          "color": "steelblue"
         },
         "lon": [
          -43.69555555,
          -44.040916
         ],
         "mode": "lines",
         "type": "scattermapbox"
        },
        {
         "lat": [
          -22.35805555,
          -22.34722221
         ],
         "line": {
          "color": "steelblue"
         },
         "lon": [
          -43.69555555,
          -43.41777777
         ],
         "mode": "lines",
         "type": "scattermapbox"
        },
        {
         "lat": [
          -22.35805555,
          -22.64583333
         ],
         "line": {
          "color": "steelblue"
         },
         "lon": [
          -43.69555555,
          -42.41555555
         ],
         "mode": "lines",
         "type": "scattermapbox"
        },
        {
         "lat": [
          -22.35805555,
          -22.68888888
         ],
         "line": {
          "color": "steelblue"
         },
         "lon": [
          -43.69555555,
          -45.00555555
         ],
         "mode": "lines",
         "type": "scattermapbox"
        },
        {
         "lat": [
          -22.4486111,
          -22.33472221
         ],
         "line": {
          "color": "steelblue"
         },
         "lon": [
          -42.98694444,
          -42.67694443
         ],
         "mode": "lines",
         "type": "scattermapbox"
        },
        {
         "lat": [
          -23.2236111,
          -22.86749999
         ],
         "line": {
          "color": "steelblue"
         },
         "lon": [
          -44.72694443,
          -43.10194444
         ],
         "mode": "lines",
         "type": "scattermapbox"
        },
        {
         "lat": [
          -23.2236111,
          -22.97555554
         ],
         "line": {
          "color": "steelblue"
         },
         "lon": [
          -44.72694443,
          -44.30333333
         ],
         "mode": "lines",
         "type": "scattermapbox"
        },
        {
         "lat": [
          -23.2236111,
          -22.93999999
         ],
         "line": {
          "color": "steelblue"
         },
         "lon": [
          -44.72694443,
          -43.40277777
         ],
         "mode": "lines",
         "type": "scattermapbox"
        },
        {
         "lat": [
          -23.2236111,
          -22.64583333
         ],
         "line": {
          "color": "steelblue"
         },
         "lon": [
          -44.72694443,
          -42.41555555
         ],
         "mode": "lines",
         "type": "scattermapbox"
        },
        {
         "lat": [
          -22.86138888,
          -22.653579
         ],
         "line": {
          "color": "steelblue"
         },
         "lon": [
          -43.41138888,
          -44.040916
         ],
         "mode": "lines",
         "type": "scattermapbox"
        },
        {
         "lat": [
          -22.86138888,
          -22.86749999
         ],
         "line": {
          "color": "steelblue"
         },
         "lon": [
          -43.41138888,
          -43.10194444
         ],
         "mode": "lines",
         "type": "scattermapbox"
        },
        {
         "lat": [
          -22.86138888,
          -22.93999999
         ],
         "line": {
          "color": "steelblue"
         },
         "lon": [
          -43.41138888,
          -43.40277777
         ],
         "mode": "lines",
         "type": "scattermapbox"
        },
        {
         "lat": [
          -22.86138888,
          -22.64583333
         ],
         "line": {
          "color": "steelblue"
         },
         "lon": [
          -43.41138888,
          -42.41555555
         ],
         "mode": "lines",
         "type": "scattermapbox"
        },
        {
         "lat": [
          -22.33472221,
          -22.34722221
         ],
         "line": {
          "color": "steelblue"
         },
         "lon": [
          -42.67694443,
          -43.41777777
         ],
         "mode": "lines",
         "type": "scattermapbox"
        },
        {
         "lat": [
          -22.09833333,
          -21.9386111
         ],
         "line": {
          "color": "steelblue"
         },
         "lon": [
          -43.20833333,
          -42.60083333
         ],
         "mode": "lines",
         "type": "scattermapbox"
        },
        {
         "lat": [
          -22.09833333,
          -22.34722221
         ],
         "line": {
          "color": "steelblue"
         },
         "lon": [
          -43.20833333,
          -43.41777777
         ],
         "mode": "lines",
         "type": "scattermapbox"
        },
        {
         "lat": [
          -22.86749999,
          -22.97555554
         ],
         "line": {
          "color": "steelblue"
         },
         "lon": [
          -43.10194444,
          -44.30333333
         ],
         "mode": "lines",
         "type": "scattermapbox"
        },
        {
         "lat": [
          -22.86749999,
          -22.93999999
         ],
         "line": {
          "color": "steelblue"
         },
         "lon": [
          -43.10194444,
          -43.40277777
         ],
         "mode": "lines",
         "type": "scattermapbox"
        },
        {
         "lat": [
          -22.86749999,
          -22.64583333
         ],
         "line": {
          "color": "steelblue"
         },
         "lon": [
          -43.10194444,
          -42.41555555
         ],
         "mode": "lines",
         "type": "scattermapbox"
        },
        {
         "lat": [
          -22.86749999,
          -22.8711111
         ],
         "line": {
          "color": "steelblue"
         },
         "lon": [
          -43.10194444,
          -42.60888888
         ],
         "mode": "lines",
         "type": "scattermapbox"
        },
        {
         "lat": [
          -22.97555554,
          -22.93999999
         ],
         "line": {
          "color": "steelblue"
         },
         "lon": [
          -44.30333333,
          -43.40277777
         ],
         "mode": "lines",
         "type": "scattermapbox"
        },
        {
         "lat": [
          -21.9386111,
          -21.95055555
         ],
         "line": {
          "color": "steelblue"
         },
         "lon": [
          -42.60083333,
          -42.01027777
         ],
         "mode": "lines",
         "type": "scattermapbox"
        },
        {
         "lat": [
          -21.9386111,
          -22.34722221
         ],
         "line": {
          "color": "steelblue"
         },
         "lon": [
          -42.60083333,
          -43.41777777
         ],
         "mode": "lines",
         "type": "scattermapbox"
        },
        {
         "lat": [
          -22.93999999,
          -22.64583333
         ],
         "line": {
          "color": "steelblue"
         },
         "lon": [
          -43.40277777,
          -42.41555555
         ],
         "mode": "lines",
         "type": "scattermapbox"
        },
        {
         "lat": [
          -22.93999999,
          -22.8711111
         ],
         "line": {
          "color": "steelblue"
         },
         "lon": [
          -43.40277777,
          -42.60888888
         ],
         "mode": "lines",
         "type": "scattermapbox"
        },
        {
         "lat": [
          -22.64583333,
          -22.8711111
         ],
         "line": {
          "color": "steelblue"
         },
         "lon": [
          -42.41555555,
          -42.60888888
         ],
         "mode": "lines",
         "type": "scattermapbox"
        },
        {
         "lat": [
          -23.49638888,
          -22.95194444
         ],
         "line": {
          "color": "steelblue"
         },
         "lon": [
          -46.61999999,
          -46.53055554
         ],
         "mode": "lines",
         "type": "scattermapbox"
        },
        {
         "lat": [
          -23.49638888,
          -23.52388888
         ],
         "line": {
          "color": "steelblue"
         },
         "lon": [
          -46.61999999,
          -46.86944443
         ],
         "mode": "lines",
         "type": "scattermapbox"
        },
        {
         "lat": [
          -23.49638888,
          -23.724501
         ],
         "line": {
          "color": "steelblue"
         },
         "lon": [
          -46.61999999,
          -46.677501
         ],
         "mode": "lines",
         "type": "scattermapbox"
        },
        {
         "lat": [
          -22.358052,
          -21.980353
         ],
         "line": {
          "color": "steelblue"
         },
         "lon": [
          -49.028877,
          -47.883927
         ],
         "mode": "lines",
         "type": "scattermapbox"
        },
        {
         "lat": [
          -22.358052,
          -23.4261111
         ],
         "line": {
          "color": "steelblue"
         },
         "lon": [
          -49.028877,
          -47.58555555
         ],
         "mode": "lines",
         "type": "scattermapbox"
        },
        {
         "lat": [
          -22.358052,
          -23.10166666
         ],
         "line": {
          "color": "steelblue"
         },
         "lon": [
          -49.028877,
          -48.9411111
         ],
         "mode": "lines",
         "type": "scattermapbox"
        },
        {
         "lat": [
          -22.358052,
          -22.70305555
         ],
         "line": {
          "color": "steelblue"
         },
         "lon": [
          -49.028877,
          -47.62333332
         ],
         "mode": "lines",
         "type": "scattermapbox"
        },
        {
         "lat": [
          -22.358052,
          -21.66611111
         ],
         "line": {
          "color": "steelblue"
         },
         "lon": [
          -49.028877,
          -49.73472221
         ],
         "mode": "lines",
         "type": "scattermapbox"
        },
        {
         "lat": [
          -22.358052,
          -21.85555555
         ],
         "line": {
          "color": "steelblue"
         },
         "lon": [
          -49.028877,
          -48.79972221
         ],
         "mode": "lines",
         "type": "scattermapbox"
        },
        {
         "lat": [
          -22.358052,
          -21.78055554
         ],
         "line": {
          "color": "steelblue"
         },
         "lon": [
          -49.028877,
          -47.07527777
         ],
         "mode": "lines",
         "type": "scattermapbox"
        },
        {
         "lat": [
          -22.358052,
          -22.4711111
         ],
         "line": {
          "color": "steelblue"
         },
         "lon": [
          -49.028877,
          -48.5575
         ],
         "mode": "lines",
         "type": "scattermapbox"
        },
        {
         "lat": [
          -22.358052,
          -22.235222
         ],
         "line": {
          "color": "steelblue"
         },
         "lon": [
          -49.028877,
          -49.965111
         ],
         "mode": "lines",
         "type": "scattermapbox"
        },
        {
         "lat": [
          -22.358052,
          -21.927251
         ],
         "line": {
          "color": "steelblue"
         },
         "lon": [
          -49.028877,
          -50.490251
         ],
         "mode": "lines",
         "type": "scattermapbox"
        },
        {
         "lat": [
          -22.11999999,
          -21.66611111
         ],
         "line": {
          "color": "steelblue"
         },
         "lon": [
          -51.40861111,
          -49.73472221
         ],
         "mode": "lines",
         "type": "scattermapbox"
        },
        {
         "lat": [
          -22.11999999,
          -21.45777777
         ],
         "line": {
          "color": "steelblue"
         },
         "lon": [
          -51.40861111,
          -51.55222222
         ],
         "mode": "lines",
         "type": "scattermapbox"
        },
        {
         "lat": [
          -22.11999999,
          -22.235222
         ],
         "line": {
          "color": "steelblue"
         },
         "lon": [
          -51.40861111,
          -49.965111
         ],
         "mode": "lines",
         "type": "scattermapbox"
        },
        {
         "lat": [
          -22.11999999,
          -21.927251
         ],
         "line": {
          "color": "steelblue"
         },
         "lon": [
          -51.40861111,
          -50.490251
         ],
         "mode": "lines",
         "type": "scattermapbox"
        },
        {
         "lat": [
          -22.11999999,
          -22.63944444
         ],
         "line": {
          "color": "steelblue"
         },
         "lon": [
          -51.40861111,
          -52.89027777
         ],
         "mode": "lines",
         "type": "scattermapbox"
        },
        {
         "lat": [
          -21.980353,
          -22.70305555
         ],
         "line": {
          "color": "steelblue"
         },
         "lon": [
          -47.883927,
          -47.62333332
         ],
         "mode": "lines",
         "type": "scattermapbox"
        },
        {
         "lat": [
          -21.980353,
          -21.66611111
         ],
         "line": {
          "color": "steelblue"
         },
         "lon": [
          -47.883927,
          -49.73472221
         ],
         "mode": "lines",
         "type": "scattermapbox"
        },
        {
         "lat": [
          -21.980353,
          -21.13305554
         ],
         "line": {
          "color": "steelblue"
         },
         "lon": [
          -47.883927,
          -48.84055555
         ],
         "mode": "lines",
         "type": "scattermapbox"
        },
        {
         "lat": [
          -21.980353,
          -21.85555555
         ],
         "line": {
          "color": "steelblue"
         },
         "lon": [
          -47.883927,
          -48.79972221
         ],
         "mode": "lines",
         "type": "scattermapbox"
        },
        {
         "lat": [
          -21.980353,
          -21.78055554
         ],
         "line": {
          "color": "steelblue"
         },
         "lon": [
          -47.883927,
          -47.07527777
         ],
         "mode": "lines",
         "type": "scattermapbox"
        },
        {
         "lat": [
          -21.980353,
          -22.4711111
         ],
         "line": {
          "color": "steelblue"
         },
         "lon": [
          -47.883927,
          -48.5575
         ],
         "mode": "lines",
         "type": "scattermapbox"
        },
        {
         "lat": [
          -21.980353,
          -22.95194444
         ],
         "line": {
          "color": "steelblue"
         },
         "lon": [
          -47.883927,
          -46.53055554
         ],
         "mode": "lines",
         "type": "scattermapbox"
        },
        {
         "lat": [
          -21.980353,
          -21.33833333
         ],
         "line": {
          "color": "steelblue"
         },
         "lon": [
          -47.883927,
          -48.11388888
         ],
         "mode": "lines",
         "type": "scattermapbox"
        },
        {
         "lat": [
          -21.980353,
          -21.46111111
         ],
         "line": {
          "color": "steelblue"
         },
         "lon": [
          -47.883927,
          -47.57944443
         ],
         "mode": "lines",
         "type": "scattermapbox"
        },
        {
         "lat": [
          -24.67166666,
          -24.53305554
         ],
         "line": {
          "color": "steelblue"
         },
         "lon": [
          -47.54583333,
          -47.86416666
         ],
         "mode": "lines",
         "type": "scattermapbox"
        },
        {
         "lat": [
          -23.4261111,
          -23.98194443
         ],
         "line": {
          "color": "steelblue"
         },
         "lon": [
          -47.58555555,
          -48.88583333
         ],
         "mode": "lines",
         "type": "scattermapbox"
        },
        {
         "lat": [
          -23.4261111,
          -23.10166666
         ],
         "line": {
          "color": "steelblue"
         },
         "lon": [
          -47.58555555,
          -48.9411111
         ],
         "mode": "lines",
         "type": "scattermapbox"
        },
        {
         "lat": [
          -23.4261111,
          -22.70305555
         ],
         "line": {
          "color": "steelblue"
         },
         "lon": [
          -47.58555555,
          -47.62333332
         ],
         "mode": "lines",
         "type": "scattermapbox"
        },
        {
         "lat": [
          -23.4261111,
          -21.85555555
         ],
         "line": {
          "color": "steelblue"
         },
         "lon": [
          -47.58555555,
          -48.79972221
         ],
         "mode": "lines",
         "type": "scattermapbox"
        },
        {
         "lat": [
          -23.4261111,
          -22.4711111
         ],
         "line": {
          "color": "steelblue"
         },
         "lon": [
          -47.58555555,
          -48.5575
         ],
         "mode": "lines",
         "type": "scattermapbox"
        },
        {
         "lat": [
          -23.4261111,
          -22.95194444
         ],
         "line": {
          "color": "steelblue"
         },
         "lon": [
          -47.58555555,
          -46.53055554
         ],
         "mode": "lines",
         "type": "scattermapbox"
        },
        {
         "lat": [
          -23.4261111,
          -23.52388888
         ],
         "line": {
          "color": "steelblue"
         },
         "lon": [
          -47.58555555,
          -46.86944443
         ],
         "mode": "lines",
         "type": "scattermapbox"
        },
        {
         "lat": [
          -23.98194443,
          -23.10166666
         ],
         "line": {
          "color": "steelblue"
         },
         "lon": [
          -48.88583333,
          -48.9411111
         ],
         "mode": "lines",
         "type": "scattermapbox"
        },
        {
         "lat": [
          -23.98194443,
          -23.77333332
         ],
         "line": {
          "color": "steelblue"
         },
         "lon": [
          -48.88583333,
          -50.18055554
         ],
         "mode": "lines",
         "type": "scattermapbox"
        },
        {
         "lat": [
          -22.37277777,
          -21.66611111
         ],
         "line": {
          "color": "steelblue"
         },
         "lon": [
          -50.97472221,
          -49.73472221
         ],
         "mode": "lines",
         "type": "scattermapbox"
        },
        {
         "lat": [
          -22.37277777,
          -21.31916666
         ],
         "line": {
          "color": "steelblue"
         },
         "lon": [
          -50.97472221,
          -50.93027777
         ],
         "mode": "lines",
         "type": "scattermapbox"
        },
        {
         "lat": [
          -22.37277777,
          -21.13305554
         ],
         "line": {
          "color": "steelblue"
         },
         "lon": [
          -50.97472221,
          -48.84055555
         ],
         "mode": "lines",
         "type": "scattermapbox"
        },
        {
         "lat": [
          -22.37277777,
          -21.85555555
         ],
         "line": {
          "color": "steelblue"
         },
         "lon": [
          -50.97472221,
          -48.79972221
         ],
         "mode": "lines",
         "type": "scattermapbox"
        },
        {
         "lat": [
          -22.37277777,
          -21.33833333
         ],
         "line": {
          "color": "steelblue"
         },
         "lon": [
          -50.97472221,
          -48.11388888
         ],
         "mode": "lines",
         "type": "scattermapbox"
        },
        {
         "lat": [
          -23.10166666,
          -22.4711111
         ],
         "line": {
          "color": "steelblue"
         },
         "lon": [
          -48.9411111,
          -48.5575
         ],
         "mode": "lines",
         "type": "scattermapbox"
        },
        {
         "lat": [
          -22.70305555,
          -21.66611111
         ],
         "line": {
          "color": "steelblue"
         },
         "lon": [
          -47.62333332,
          -49.73472221
         ],
         "mode": "lines",
         "type": "scattermapbox"
        },
        {
         "lat": [
          -22.70305555,
          -21.85555555
         ],
         "line": {
          "color": "steelblue"
         },
         "lon": [
          -47.62333332,
          -48.79972221
         ],
         "mode": "lines",
         "type": "scattermapbox"
        },
        {
         "lat": [
          -22.70305555,
          -21.78055554
         ],
         "line": {
          "color": "steelblue"
         },
         "lon": [
          -47.62333332,
          -47.07527777
         ],
         "mode": "lines",
         "type": "scattermapbox"
        },
        {
         "lat": [
          -22.70305555,
          -22.4711111
         ],
         "line": {
          "color": "steelblue"
         },
         "lon": [
          -47.62333332,
          -48.5575
         ],
         "mode": "lines",
         "type": "scattermapbox"
        },
        {
         "lat": [
          -22.70305555,
          -22.95194444
         ],
         "line": {
          "color": "steelblue"
         },
         "lon": [
          -47.62333332,
          -46.53055554
         ],
         "mode": "lines",
         "type": "scattermapbox"
        },
        {
         "lat": [
          -22.70305555,
          -21.33833333
         ],
         "line": {
          "color": "steelblue"
         },
         "lon": [
          -47.62333332,
          -48.11388888
         ],
         "mode": "lines",
         "type": "scattermapbox"
        },
        {
         "lat": [
          -21.66611111,
          -21.31916666
         ],
         "line": {
          "color": "steelblue"
         },
         "lon": [
          -49.73472221,
          -50.93027777
         ],
         "mode": "lines",
         "type": "scattermapbox"
        },
        {
         "lat": [
          -21.66611111,
          -21.13305554
         ],
         "line": {
          "color": "steelblue"
         },
         "lon": [
          -49.73472221,
          -48.84055555
         ],
         "mode": "lines",
         "type": "scattermapbox"
        },
        {
         "lat": [
          -21.66611111,
          -21.85555555
         ],
         "line": {
          "color": "steelblue"
         },
         "lon": [
          -49.73472221,
          -48.79972221
         ],
         "mode": "lines",
         "type": "scattermapbox"
        },
        {
         "lat": [
          -21.66611111,
          -21.78055554
         ],
         "line": {
          "color": "steelblue"
         },
         "lon": [
          -49.73472221,
          -47.07527777
         ],
         "mode": "lines",
         "type": "scattermapbox"
        },
        {
         "lat": [
          -21.66611111,
          -22.4711111
         ],
         "line": {
          "color": "steelblue"
         },
         "lon": [
          -49.73472221,
          -48.5575
         ],
         "mode": "lines",
         "type": "scattermapbox"
        },
        {
         "lat": [
          -21.66611111,
          -21.33833333
         ],
         "line": {
          "color": "steelblue"
         },
         "lon": [
          -49.73472221,
          -48.11388888
         ],
         "mode": "lines",
         "type": "scattermapbox"
        },
        {
         "lat": [
          -21.66611111,
          -21.45777777
         ],
         "line": {
          "color": "steelblue"
         },
         "lon": [
          -49.73472221,
          -51.55222222
         ],
         "mode": "lines",
         "type": "scattermapbox"
        },
        {
         "lat": [
          -21.66611111,
          -22.235222
         ],
         "line": {
          "color": "steelblue"
         },
         "lon": [
          -49.73472221,
          -49.965111
         ],
         "mode": "lines",
         "type": "scattermapbox"
        },
        {
         "lat": [
          -21.66611111,
          -21.927251
         ],
         "line": {
          "color": "steelblue"
         },
         "lon": [
          -49.73472221,
          -50.490251
         ],
         "mode": "lines",
         "type": "scattermapbox"
        },
        {
         "lat": [
          -23.04166666,
          -22.95194444
         ],
         "line": {
          "color": "steelblue"
         },
         "lon": [
          -45.52083332,
          -46.53055554
         ],
         "mode": "lines",
         "type": "scattermapbox"
        },
        {
         "lat": [
          -23.04166666,
          -22.68888888
         ],
         "line": {
          "color": "steelblue"
         },
         "lon": [
          -45.52083332,
          -45.00555555
         ],
         "mode": "lines",
         "type": "scattermapbox"
        },
        {
         "lat": [
          -21.31916666,
          -21.13305554
         ],
         "line": {
          "color": "steelblue"
         },
         "lon": [
          -50.93027777,
          -48.84055555
         ],
         "mode": "lines",
         "type": "scattermapbox"
        },
        {
         "lat": [
          -21.31916666,
          -21.85555555
         ],
         "line": {
          "color": "steelblue"
         },
         "lon": [
          -50.93027777,
          -48.79972221
         ],
         "mode": "lines",
         "type": "scattermapbox"
        },
        {
         "lat": [
          -21.31916666,
          -21.45777777
         ],
         "line": {
          "color": "steelblue"
         },
         "lon": [
          -50.93027777,
          -51.55222222
         ],
         "mode": "lines",
         "type": "scattermapbox"
        },
        {
         "lat": [
          -21.31916666,
          -21.927251
         ],
         "line": {
          "color": "steelblue"
         },
         "lon": [
          -50.93027777,
          -50.490251
         ],
         "mode": "lines",
         "type": "scattermapbox"
        },
        {
         "lat": [
          -21.13305554,
          -21.85555555
         ],
         "line": {
          "color": "steelblue"
         },
         "lon": [
          -48.84055555,
          -48.79972221
         ],
         "mode": "lines",
         "type": "scattermapbox"
        },
        {
         "lat": [
          -21.13305554,
          -21.33833333
         ],
         "line": {
          "color": "steelblue"
         },
         "lon": [
          -48.84055555,
          -48.11388888
         ],
         "mode": "lines",
         "type": "scattermapbox"
        },
        {
         "lat": [
          -21.13305554,
          -20.35972222
         ],
         "line": {
          "color": "steelblue"
         },
         "lon": [
          -48.84055555,
          -47.77527777
         ],
         "mode": "lines",
         "type": "scattermapbox"
        },
        {
         "lat": [
          -21.13305554,
          -20.94805555
         ],
         "line": {
          "color": "steelblue"
         },
         "lon": [
          -48.84055555,
          -48.47138888
         ],
         "mode": "lines",
         "type": "scattermapbox"
        },
        {
         "lat": [
          -21.13305554,
          -21.46111111
         ],
         "line": {
          "color": "steelblue"
         },
         "lon": [
          -48.84055555,
          -47.57944443
         ],
         "mode": "lines",
         "type": "scattermapbox"
        },
        {
         "lat": [
          -21.85555555,
          -21.78055554
         ],
         "line": {
          "color": "steelblue"
         },
         "lon": [
          -48.79972221,
          -47.07527777
         ],
         "mode": "lines",
         "type": "scattermapbox"
        },
        {
         "lat": [
          -21.85555555,
          -22.4711111
         ],
         "line": {
          "color": "steelblue"
         },
         "lon": [
          -48.79972221,
          -48.5575
         ],
         "mode": "lines",
         "type": "scattermapbox"
        },
        {
         "lat": [
          -21.85555555,
          -22.95194444
         ],
         "line": {
          "color": "steelblue"
         },
         "lon": [
          -48.79972221,
          -46.53055554
         ],
         "mode": "lines",
         "type": "scattermapbox"
        },
        {
         "lat": [
          -21.85555555,
          -21.33833333
         ],
         "line": {
          "color": "steelblue"
         },
         "lon": [
          -48.79972221,
          -48.11388888
         ],
         "mode": "lines",
         "type": "scattermapbox"
        },
        {
         "lat": [
          -21.85555555,
          -21.927251
         ],
         "line": {
          "color": "steelblue"
         },
         "lon": [
          -48.79972221,
          -50.490251
         ],
         "mode": "lines",
         "type": "scattermapbox"
        },
        {
         "lat": [
          -21.85555555,
          -21.46111111
         ],
         "line": {
          "color": "steelblue"
         },
         "lon": [
          -48.79972221,
          -47.57944443
         ],
         "mode": "lines",
         "type": "scattermapbox"
        },
        {
         "lat": [
          -21.78055554,
          -22.4711111
         ],
         "line": {
          "color": "steelblue"
         },
         "lon": [
          -47.07527777,
          -48.5575
         ],
         "mode": "lines",
         "type": "scattermapbox"
        },
        {
         "lat": [
          -21.78055554,
          -22.95194444
         ],
         "line": {
          "color": "steelblue"
         },
         "lon": [
          -47.07527777,
          -46.53055554
         ],
         "mode": "lines",
         "type": "scattermapbox"
        },
        {
         "lat": [
          -21.78055554,
          -21.33833333
         ],
         "line": {
          "color": "steelblue"
         },
         "lon": [
          -47.07527777,
          -48.11388888
         ],
         "mode": "lines",
         "type": "scattermapbox"
        },
        {
         "lat": [
          -21.78055554,
          -21.46111111
         ],
         "line": {
          "color": "steelblue"
         },
         "lon": [
          -47.07527777,
          -47.57944443
         ],
         "mode": "lines",
         "type": "scattermapbox"
        },
        {
         "lat": [
          -22.4711111,
          -22.95194444
         ],
         "line": {
          "color": "steelblue"
         },
         "lon": [
          -48.5575,
          -46.53055554
         ],
         "mode": "lines",
         "type": "scattermapbox"
        },
        {
         "lat": [
          -22.95194444,
          -23.52388888
         ],
         "line": {
          "color": "steelblue"
         },
         "lon": [
          -46.53055554,
          -46.86944443
         ],
         "mode": "lines",
         "type": "scattermapbox"
        },
        {
         "lat": [
          -22.95194444,
          -22.68888888
         ],
         "line": {
          "color": "steelblue"
         },
         "lon": [
          -46.53055554,
          -45.00555555
         ],
         "mode": "lines",
         "type": "scattermapbox"
        },
        {
         "lat": [
          -24.96277777,
          -24.53305554
         ],
         "line": {
          "color": "steelblue"
         },
         "lon": [
          -48.41638888,
          -47.86416666
         ],
         "mode": "lines",
         "type": "scattermapbox"
        },
        {
         "lat": [
          -21.33833333,
          -20.35972222
         ],
         "line": {
          "color": "steelblue"
         },
         "lon": [
          -48.11388888,
          -47.77527777
         ],
         "mode": "lines",
         "type": "scattermapbox"
        },
        {
         "lat": [
          -21.33833333,
          -21.46111111
         ],
         "line": {
          "color": "steelblue"
         },
         "lon": [
          -48.11388888,
          -47.57944443
         ],
         "mode": "lines",
         "type": "scattermapbox"
        },
        {
         "lat": [
          -20.35972222,
          -21.46111111
         ],
         "line": {
          "color": "steelblue"
         },
         "lon": [
          -47.77527777,
          -47.57944443
         ],
         "mode": "lines",
         "type": "scattermapbox"
        },
        {
         "lat": [
          -21.45777777,
          -21.927251
         ],
         "line": {
          "color": "steelblue"
         },
         "lon": [
          -51.55222222,
          -50.490251
         ],
         "mode": "lines",
         "type": "scattermapbox"
        },
        {
         "lat": [
          -21.45777777,
          -22.63944444
         ],
         "line": {
          "color": "steelblue"
         },
         "lon": [
          -51.55222222,
          -52.89027777
         ],
         "mode": "lines",
         "type": "scattermapbox"
        },
        {
         "lat": [
          -22.235222,
          -21.927251
         ],
         "line": {
          "color": "steelblue"
         },
         "lon": [
          -49.965111,
          -50.490251
         ],
         "mode": "lines",
         "type": "scattermapbox"
        },
        {
         "lat": [
          -24.53305554,
          -25.50888888
         ],
         "line": {
          "color": "steelblue"
         },
         "lon": [
          -47.86416666,
          -48.80861111
         ],
         "mode": "lines",
         "type": "scattermapbox"
        },
        {
         "lat": [
          -25.4486111,
          -25.322464
         ],
         "line": {
          "color": "steelblue"
         },
         "lon": [
          -49.23055554,
          -49.157733
         ],
         "mode": "lines",
         "type": "scattermapbox"
        },
        {
         "lat": [
          -25.4486111,
          -26.2486111
         ],
         "line": {
          "color": "steelblue"
         },
         "lon": [
          -49.23055554,
          -49.57416666
         ],
         "mode": "lines",
         "type": "scattermapbox"
        },
        {
         "lat": [
          -24.53333333,
          -24.18388888
         ],
         "line": {
          "color": "steelblue"
         },
         "lon": [
          -54.01916666,
          -53.04888888
         ],
         "mode": "lines",
         "type": "scattermapbox"
        },
        {
         "lat": [
          -24.53333333,
          -25.69916666
         ],
         "line": {
          "color": "steelblue"
         },
         "lon": [
          -54.01916666,
          -53.09527777
         ],
         "mode": "lines",
         "type": "scattermapbox"
        },
        {
         "lat": [
          -24.53333333,
          -23.35916666
         ],
         "line": {
          "color": "steelblue"
         },
         "lon": [
          -54.01916666,
          -52.93194443
         ],
         "mode": "lines",
         "type": "scattermapbox"
        },
        {
         "lat": [
          -24.18388888,
          -23.40527777
         ],
         "line": {
          "color": "steelblue"
         },
         "lon": [
          -53.04888888,
          -51.93277777
         ],
         "mode": "lines",
         "type": "scattermapbox"
        },
        {
         "lat": [
          -24.18388888,
          -25.69916666
         ],
         "line": {
          "color": "steelblue"
         },
         "lon": [
          -53.04888888,
          -53.09527777
         ],
         "mode": "lines",
         "type": "scattermapbox"
        },
        {
         "lat": [
          -24.18388888,
          -22.63944444
         ],
         "line": {
          "color": "steelblue"
         },
         "lon": [
          -53.04888888,
          -52.89027777
         ],
         "mode": "lines",
         "type": "scattermapbox"
        },
        {
         "lat": [
          -24.18388888,
          -23.35916666
         ],
         "line": {
          "color": "steelblue"
         },
         "lon": [
          -53.04888888,
          -52.93194443
         ],
         "mode": "lines",
         "type": "scattermapbox"
        },
        {
         "lat": [
          -24.18388888,
          -24.57083332
         ],
         "line": {
          "color": "steelblue"
         },
         "lon": [
          -53.04888888,
          -52.80027777
         ],
         "mode": "lines",
         "type": "scattermapbox"
        },
        {
         "lat": [
          -23.40527777,
          -22.63944444
         ],
         "line": {
          "color": "steelblue"
         },
         "lon": [
          -51.93277777,
          -52.89027777
         ],
         "mode": "lines",
         "type": "scattermapbox"
        },
        {
         "lat": [
          -23.40527777,
          -23.35916666
         ],
         "line": {
          "color": "steelblue"
         },
         "lon": [
          -51.93277777,
          -52.93194443
         ],
         "mode": "lines",
         "type": "scattermapbox"
        },
        {
         "lat": [
          -25.69916666,
          -25.60194444
         ],
         "line": {
          "color": "steelblue"
         },
         "lon": [
          -53.09527777,
          -54.48305554
         ],
         "mode": "lines",
         "type": "scattermapbox"
        },
        {
         "lat": [
          -25.69916666,
          -26.41722221
         ],
         "line": {
          "color": "steelblue"
         },
         "lon": [
          -53.09527777,
          -52.3486111
         ],
         "mode": "lines",
         "type": "scattermapbox"
        },
        {
         "lat": [
          -22.63944444,
          -23.35916666
         ],
         "line": {
          "color": "steelblue"
         },
         "lon": [
          -52.89027777,
          -52.93194443
         ],
         "mode": "lines",
         "type": "scattermapbox"
        },
        {
         "lat": [
          -23.77333332,
          -24.28027777
         ],
         "line": {
          "color": "steelblue"
         },
         "lon": [
          -50.18055554,
          -50.21027777
         ],
         "mode": "lines",
         "type": "scattermapbox"
        },
        {
         "lat": [
          -25.83555555,
          -26.3986111
         ],
         "line": {
          "color": "steelblue"
         },
         "lon": [
          -50.36888888,
          -51.35361111
         ],
         "mode": "lines",
         "type": "scattermapbox"
        },
        {
         "lat": [
          -25.83555555,
          -26.2486111
         ],
         "line": {
          "color": "steelblue"
         },
         "lon": [
          -50.36888888,
          -49.57416666
         ],
         "mode": "lines",
         "type": "scattermapbox"
        },
        {
         "lat": [
          -26.3986111,
          -26.819156
         ],
         "line": {
          "color": "steelblue"
         },
         "lon": [
          -51.35361111,
          -50.98552
         ],
         "mode": "lines",
         "type": "scattermapbox"
        },
        {
         "lat": [
          -26.41722221,
          -26.40638888
         ],
         "line": {
          "color": "steelblue"
         },
         "lon": [
          -52.3486111,
          -52.85027777
         ],
         "mode": "lines",
         "type": "scattermapbox"
        },
        {
         "lat": [
          -26.41722221,
          -26.938666
         ],
         "line": {
          "color": "steelblue"
         },
         "lon": [
          -52.3486111,
          -52.39809
         ],
         "mode": "lines",
         "type": "scattermapbox"
        },
        {
         "lat": [
          -26.41722221,
          -27.0853111
         ],
         "line": {
          "color": "steelblue"
         },
         "lon": [
          -52.3486111,
          -52.6357111
         ],
         "mode": "lines",
         "type": "scattermapbox"
        },
        {
         "lat": [
          -26.41722221,
          -27.3886111
         ],
         "line": {
          "color": "steelblue"
         },
         "lon": [
          -52.3486111,
          -51.21583333
         ],
         "mode": "lines",
         "type": "scattermapbox"
        },
        {
         "lat": [
          -30.05361111,
          -29.72499999
         ],
         "line": {
          "color": "steelblue"
         },
         "lon": [
          -51.17472221,
          -53.72055554
         ],
         "mode": "lines",
         "type": "scattermapbox"
        },
        {
         "lat": [
          -30.05361111,
          -30.54527777
         ],
         "line": {
          "color": "steelblue"
         },
         "lon": [
          -51.17472221,
          -53.46694443
         ],
         "mode": "lines",
         "type": "scattermapbox"
        },
        {
         "lat": [
          -30.05361111,
          -29.87222221
         ],
         "line": {
          "color": "steelblue"
         },
         "lon": [
          -51.17472221,
          -52.38194443
         ],
         "mode": "lines",
         "type": "scattermapbox"
        },
        {
         "lat": [
          -30.05361111,
          -30.807953
         ],
         "line": {
          "color": "steelblue"
         },
         "lon": [
          -51.17472221,
          -51.83424
         ],
         "mode": "lines",
         "type": "scattermapbox"
        },
        {
         "lat": [
          -30.05361111,
          -29.164581
         ],
         "line": {
          "color": "steelblue"
         },
         "lon": [
          -51.17472221,
          -51.534202
         ],
         "mode": "lines",
         "type": "scattermapbox"
        },
        {
         "lat": [
          -30.05361111,
          -29.36888888
         ],
         "line": {
          "color": "steelblue"
         },
         "lon": [
          -51.17472221,
          -50.82722221
         ],
         "mode": "lines",
         "type": "scattermapbox"
        },
        {
         "lat": [
          -30.05361111,
          -29.44916666
         ],
         "line": {
          "color": "steelblue"
         },
         "lon": [
          -51.17472221,
          -51.82333332
         ],
         "mode": "lines",
         "type": "scattermapbox"
        },
        {
         "lat": [
          -30.05361111,
          -29.674293
         ],
         "line": {
          "color": "steelblue"
         },
         "lon": [
          -51.17472221,
          -51.064042
         ],
         "mode": "lines",
         "type": "scattermapbox"
        },
        {
         "lat": [
          -30.05361111,
          -31.8025
         ],
         "line": {
          "color": "steelblue"
         },
         "lon": [
          -51.17472221,
          -52.40722222
         ],
         "mode": "lines",
         "type": "scattermapbox"
        },
        {
         "lat": [
          -30.05361111,
          -30.54305555
         ],
         "line": {
          "color": "steelblue"
         },
         "lon": [
          -51.17472221,
          -52.52472221
         ],
         "mode": "lines",
         "type": "scattermapbox"
        },
        {
         "lat": [
          -30.05361111,
          -30.1861111
         ],
         "line": {
          "color": "steelblue"
         },
         "lon": [
          -51.17472221,
          -51.17805554
         ],
         "mode": "lines",
         "type": "scattermapbox"
        },
        {
         "lat": [
          -29.72499999,
          -30.54527777
         ],
         "line": {
          "color": "steelblue"
         },
         "lon": [
          -53.72055554,
          -53.46694443
         ],
         "mode": "lines",
         "type": "scattermapbox"
        },
        {
         "lat": [
          -29.72499999,
          -29.87222221
         ],
         "line": {
          "color": "steelblue"
         },
         "lon": [
          -53.72055554,
          -52.38194443
         ],
         "mode": "lines",
         "type": "scattermapbox"
        },
        {
         "lat": [
          -29.72499999,
          -29.70916666
         ],
         "line": {
          "color": "steelblue"
         },
         "lon": [
          -53.72055554,
          -55.52555554
         ],
         "mode": "lines",
         "type": "scattermapbox"
        },
        {
         "lat": [
          -29.72499999,
          -30.368578
         ],
         "line": {
          "color": "steelblue"
         },
         "lon": [
          -53.72055554,
          -56.437115
         ],
         "mode": "lines",
         "type": "scattermapbox"
        },
        {
         "lat": [
          -29.72499999,
          -28.41722221
         ],
         "line": {
          "color": "steelblue"
         },
         "lon": [
          -53.72055554,
          -54.9625
         ],
         "mode": "lines",
         "type": "scattermapbox"
        },
        {
         "lat": [
          -29.72499999,
          -29.44916666
         ],
         "line": {
          "color": "steelblue"
         },
         "lon": [
          -53.72055554,
          -51.82333332
         ],
         "mode": "lines",
         "type": "scattermapbox"
        },
        {
         "lat": [
          -29.72499999,
          -30.54305555
         ],
         "line": {
          "color": "steelblue"
         },
         "lon": [
          -53.72055554,
          -52.52472221
         ],
         "mode": "lines",
         "type": "scattermapbox"
        },
        {
         "lat": [
          -29.72499999,
          -30.1861111
         ],
         "line": {
          "color": "steelblue"
         },
         "lon": [
          -53.72055554,
          -51.17805554
         ],
         "mode": "lines",
         "type": "scattermapbox"
        },
        {
         "lat": [
          -30.75055555,
          -29.83999999
         ],
         "line": {
          "color": "steelblue"
         },
         "lon": [
          -55.40138888,
          -57.08194443
         ],
         "mode": "lines",
         "type": "scattermapbox"
        },
        {
         "lat": [
          -30.75055555,
          -30.54527777
         ],
         "line": {
          "color": "steelblue"
         },
         "lon": [
          -55.40138888,
          -53.46694443
         ],
         "mode": "lines",
         "type": "scattermapbox"
        },
        {
         "lat": [
          -30.75055555,
          -29.70916666
         ],
         "line": {
          "color": "steelblue"
         },
         "lon": [
          -55.40138888,
          -55.52555554
         ],
         "mode": "lines",
         "type": "scattermapbox"
        },
        {
         "lat": [
          -30.75055555,
          -31.34777777
         ],
         "line": {
          "color": "steelblue"
         },
         "lon": [
          -55.40138888,
          -54.01333333
         ],
         "mode": "lines",
         "type": "scattermapbox"
        },
        {
         "lat": [
          -30.75055555,
          -30.368578
         ],
         "line": {
          "color": "steelblue"
         },
         "lon": [
          -55.40138888,
          -56.437115
         ],
         "mode": "lines",
         "type": "scattermapbox"
        },
        {
         "lat": [
          -30.75055555,
          -31.0025
         ],
         "line": {
          "color": "steelblue"
         },
         "lon": [
          -55.40138888,
          -54.61805554
         ],
         "mode": "lines",
         "type": "scattermapbox"
        },
        {
         "lat": [
          -30.75055555,
          -31.8025
         ],
         "line": {
          "color": "steelblue"
         },
         "lon": [
          -55.40138888,
          -52.40722222
         ],
         "mode": "lines",
         "type": "scattermapbox"
        },
        {
         "lat": [
          -27.85444444,
          -27.89055555
         ],
         "line": {
          "color": "steelblue"
         },
         "lon": [
          -53.7911111,
          -54.47999999
         ],
         "mode": "lines",
         "type": "scattermapbox"
        },
        {
         "lat": [
          -27.85444444,
          -28.226805
         ],
         "line": {
          "color": "steelblue"
         },
         "lon": [
          -53.7911111,
          -52.403582
         ],
         "mode": "lines",
         "type": "scattermapbox"
        },
        {
         "lat": [
          -27.85444444,
          -28.222381
         ],
         "line": {
          "color": "steelblue"
         },
         "lon": [
          -53.7911111,
          -51.512845
         ],
         "mode": "lines",
         "type": "scattermapbox"
        },
        {
         "lat": [
          -27.85444444,
          -28.41722221
         ],
         "line": {
          "color": "steelblue"
         },
         "lon": [
          -53.7911111,
          -54.9625
         ],
         "mode": "lines",
         "type": "scattermapbox"
        },
        {
         "lat": [
          -27.85444444,
          -28.60344
         ],
         "line": {
          "color": "steelblue"
         },
         "lon": [
          -53.7911111,
          -53.673597
         ],
         "mode": "lines",
         "type": "scattermapbox"
        },
        {
         "lat": [
          -27.85444444,
          -27.39555555
         ],
         "line": {
          "color": "steelblue"
         },
         "lon": [
          -53.7911111,
          -53.42944443
         ],
         "mode": "lines",
         "type": "scattermapbox"
        },
        {
         "lat": [
          -27.85444444,
          -27.92027777
         ],
         "line": {
          "color": "steelblue"
         },
         "lon": [
          -53.7911111,
          -53.31805554
         ],
         "mode": "lines",
         "type": "scattermapbox"
        },
        {
         "lat": [
          -27.85444444,
          -28.65333333
         ],
         "line": {
          "color": "steelblue"
         },
         "lon": [
          -53.7911111,
          -53.11194444
         ],
         "mode": "lines",
         "type": "scattermapbox"
        },
        {
         "lat": [
          -27.85444444,
          -27.0853111
         ],
         "line": {
          "color": "steelblue"
         },
         "lon": [
          -53.7911111,
          -52.6357111
         ],
         "mode": "lines",
         "type": "scattermapbox"
        },
        {
         "lat": [
          -29.35027777,
          -28.931353
         ],
         "line": {
          "color": "steelblue"
         },
         "lon": [
          -49.73333333,
          -49.49792
         ],
         "mode": "lines",
         "type": "scattermapbox"
        },
        {
         "lat": [
          -29.83999999,
          -30.54527777
         ],
         "line": {
          "color": "steelblue"
         },
         "lon": [
          -57.08194443,
          -53.46694443
         ],
         "mode": "lines",
         "type": "scattermapbox"
        },
        {
         "lat": [
          -29.83999999,
          -29.70916666
         ],
         "line": {
          "color": "steelblue"
         },
         "lon": [
          -57.08194443,
          -55.52555554
         ],
         "mode": "lines",
         "type": "scattermapbox"
        },
        {
         "lat": [
          -29.83999999,
          -31.34777777
         ],
         "line": {
          "color": "steelblue"
         },
         "lon": [
          -57.08194443,
          -54.01333333
         ],
         "mode": "lines",
         "type": "scattermapbox"
        },
        {
         "lat": [
          -29.83999999,
          -30.368578
         ],
         "line": {
          "color": "steelblue"
         },
         "lon": [
          -57.08194443,
          -56.437115
         ],
         "mode": "lines",
         "type": "scattermapbox"
        },
        {
         "lat": [
          -29.83999999,
          -28.41722221
         ],
         "line": {
          "color": "steelblue"
         },
         "lon": [
          -57.08194443,
          -54.9625
         ],
         "mode": "lines",
         "type": "scattermapbox"
        },
        {
         "lat": [
          -29.83999999,
          -31.0025
         ],
         "line": {
          "color": "steelblue"
         },
         "lon": [
          -57.08194443,
          -54.61805554
         ],
         "mode": "lines",
         "type": "scattermapbox"
        },
        {
         "lat": [
          -29.83999999,
          -30.54305555
         ],
         "line": {
          "color": "steelblue"
         },
         "lon": [
          -57.08194443,
          -52.52472221
         ],
         "mode": "lines",
         "type": "scattermapbox"
        },
        {
         "lat": [
          -27.89055555,
          -28.226805
         ],
         "line": {
          "color": "steelblue"
         },
         "lon": [
          -54.47999999,
          -52.403582
         ],
         "mode": "lines",
         "type": "scattermapbox"
        },
        {
         "lat": [
          -27.89055555,
          -28.41722221
         ],
         "line": {
          "color": "steelblue"
         },
         "lon": [
          -54.47999999,
          -54.9625
         ],
         "mode": "lines",
         "type": "scattermapbox"
        },
        {
         "lat": [
          -27.89055555,
          -28.60344
         ],
         "line": {
          "color": "steelblue"
         },
         "lon": [
          -54.47999999,
          -53.673597
         ],
         "mode": "lines",
         "type": "scattermapbox"
        },
        {
         "lat": [
          -27.89055555,
          -27.39555555
         ],
         "line": {
          "color": "steelblue"
         },
         "lon": [
          -54.47999999,
          -53.42944443
         ],
         "mode": "lines",
         "type": "scattermapbox"
        },
        {
         "lat": [
          -27.89055555,
          -27.92027777
         ],
         "line": {
          "color": "steelblue"
         },
         "lon": [
          -54.47999999,
          -53.31805554
         ],
         "mode": "lines",
         "type": "scattermapbox"
        },
        {
         "lat": [
          -27.89055555,
          -28.65333333
         ],
         "line": {
          "color": "steelblue"
         },
         "lon": [
          -54.47999999,
          -53.11194444
         ],
         "mode": "lines",
         "type": "scattermapbox"
        },
        {
         "lat": [
          -27.89055555,
          -28.70472222
         ],
         "line": {
          "color": "steelblue"
         },
         "lon": [
          -54.47999999,
          -51.87083332
         ],
         "mode": "lines",
         "type": "scattermapbox"
        },
        {
         "lat": [
          -31.40333333,
          -30.54527777
         ],
         "line": {
          "color": "steelblue"
         },
         "lon": [
          -52.70083333,
          -53.46694443
         ],
         "mode": "lines",
         "type": "scattermapbox"
        },
        {
         "lat": [
          -31.40333333,
          -29.87222221
         ],
         "line": {
          "color": "steelblue"
         },
         "lon": [
          -52.70083333,
          -52.38194443
         ],
         "mode": "lines",
         "type": "scattermapbox"
        },
        {
         "lat": [
          -31.40333333,
          -31.34777777
         ],
         "line": {
          "color": "steelblue"
         },
         "lon": [
          -52.70083333,
          -54.01333333
         ],
         "mode": "lines",
         "type": "scattermapbox"
        },
        {
         "lat": [
          -31.40333333,
          -30.368578
         ],
         "line": {
          "color": "steelblue"
         },
         "lon": [
          -52.70083333,
          -56.437115
         ],
         "mode": "lines",
         "type": "scattermapbox"
        },
        {
         "lat": [
          -31.40333333,
          -32.53472221
         ],
         "line": {
          "color": "steelblue"
         },
         "lon": [
          -52.70083333,
          -53.37583332
         ],
         "mode": "lines",
         "type": "scattermapbox"
        },
        {
         "lat": [
          -31.40333333,
          -30.807953
         ],
         "line": {
          "color": "steelblue"
         },
         "lon": [
          -52.70083333,
          -51.83424
         ],
         "mode": "lines",
         "type": "scattermapbox"
        },
        {
         "lat": [
          -31.40333333,
          -31.0025
         ],
         "line": {
          "color": "steelblue"
         },
         "lon": [
          -52.70083333,
          -54.61805554
         ],
         "mode": "lines",
         "type": "scattermapbox"
        },
        {
         "lat": [
          -31.40333333,
          -31.8025
         ],
         "line": {
          "color": "steelblue"
         },
         "lon": [
          -52.70083333,
          -52.40722222
         ],
         "mode": "lines",
         "type": "scattermapbox"
        },
        {
         "lat": [
          -31.40333333,
          -30.54305555
         ],
         "line": {
          "color": "steelblue"
         },
         "lon": [
          -52.70083333,
          -52.52472221
         ],
         "mode": "lines",
         "type": "scattermapbox"
        },
        {
         "lat": [
          -30.54527777,
          -29.87222221
         ],
         "line": {
          "color": "steelblue"
         },
         "lon": [
          -53.46694443,
          -52.38194443
         ],
         "mode": "lines",
         "type": "scattermapbox"
        },
        {
         "lat": [
          -30.54527777,
          -29.70916666
         ],
         "line": {
          "color": "steelblue"
         },
         "lon": [
          -53.46694443,
          -55.52555554
         ],
         "mode": "lines",
         "type": "scattermapbox"
        },
        {
         "lat": [
          -30.54527777,
          -31.34777777
         ],
         "line": {
          "color": "steelblue"
         },
         "lon": [
          -53.46694443,
          -54.01333333
         ],
         "mode": "lines",
         "type": "scattermapbox"
        },
        {
         "lat": [
          -30.54527777,
          -30.368578
         ],
         "line": {
          "color": "steelblue"
         },
         "lon": [
          -53.46694443,
          -56.437115
         ],
         "mode": "lines",
         "type": "scattermapbox"
        },
        {
         "lat": [
          -30.54527777,
          -32.53472221
         ],
         "line": {
          "color": "steelblue"
         },
         "lon": [
          -53.46694443,
          -53.37583332
         ],
         "mode": "lines",
         "type": "scattermapbox"
        },
        {
         "lat": [
          -30.54527777,
          -31.0025
         ],
         "line": {
          "color": "steelblue"
         },
         "lon": [
          -53.46694443,
          -54.61805554
         ],
         "mode": "lines",
         "type": "scattermapbox"
        },
        {
         "lat": [
          -30.54527777,
          -31.8025
         ],
         "line": {
          "color": "steelblue"
         },
         "lon": [
          -53.46694443,
          -52.40722222
         ],
         "mode": "lines",
         "type": "scattermapbox"
        },
        {
         "lat": [
          -30.54527777,
          -30.54305555
         ],
         "line": {
          "color": "steelblue"
         },
         "lon": [
          -53.46694443,
          -52.52472221
         ],
         "mode": "lines",
         "type": "scattermapbox"
        },
        {
         "lat": [
          -29.87222221,
          -29.70916666
         ],
         "line": {
          "color": "steelblue"
         },
         "lon": [
          -52.38194443,
          -55.52555554
         ],
         "mode": "lines",
         "type": "scattermapbox"
        },
        {
         "lat": [
          -29.87222221,
          -31.34777777
         ],
         "line": {
          "color": "steelblue"
         },
         "lon": [
          -52.38194443,
          -54.01333333
         ],
         "mode": "lines",
         "type": "scattermapbox"
        },
        {
         "lat": [
          -29.87222221,
          -28.859211
         ],
         "line": {
          "color": "steelblue"
         },
         "lon": [
          -52.38194443,
          -52.542387
         ],
         "mode": "lines",
         "type": "scattermapbox"
        },
        {
         "lat": [
          -29.87222221,
          -30.807953
         ],
         "line": {
          "color": "steelblue"
         },
         "lon": [
          -52.38194443,
          -51.83424
         ],
         "mode": "lines",
         "type": "scattermapbox"
        },
        {
         "lat": [
          -29.87222221,
          -29.164581
         ],
         "line": {
          "color": "steelblue"
         },
         "lon": [
          -52.38194443,
          -51.534202
         ],
         "mode": "lines",
         "type": "scattermapbox"
        },
        {
         "lat": [
          -29.87222221,
          -29.36888888
         ],
         "line": {
          "color": "steelblue"
         },
         "lon": [
          -52.38194443,
          -50.82722221
         ],
         "mode": "lines",
         "type": "scattermapbox"
        },
        {
         "lat": [
          -29.87222221,
          -29.44916666
         ],
         "line": {
          "color": "steelblue"
         },
         "lon": [
          -52.38194443,
          -51.82333332
         ],
         "mode": "lines",
         "type": "scattermapbox"
        },
        {
         "lat": [
          -29.87222221,
          -29.674293
         ],
         "line": {
          "color": "steelblue"
         },
         "lon": [
          -52.38194443,
          -51.064042
         ],
         "mode": "lines",
         "type": "scattermapbox"
        },
        {
         "lat": [
          -29.87222221,
          -31.8025
         ],
         "line": {
          "color": "steelblue"
         },
         "lon": [
          -52.38194443,
          -52.40722222
         ],
         "mode": "lines",
         "type": "scattermapbox"
        },
        {
         "lat": [
          -29.87222221,
          -30.54305555
         ],
         "line": {
          "color": "steelblue"
         },
         "lon": [
          -52.38194443,
          -52.52472221
         ],
         "mode": "lines",
         "type": "scattermapbox"
        },
        {
         "lat": [
          -29.87222221,
          -30.1861111
         ],
         "line": {
          "color": "steelblue"
         },
         "lon": [
          -52.38194443,
          -51.17805554
         ],
         "mode": "lines",
         "type": "scattermapbox"
        },
        {
         "lat": [
          -29.70916666,
          -31.34777777
         ],
         "line": {
          "color": "steelblue"
         },
         "lon": [
          -55.52555554,
          -54.01333333
         ],
         "mode": "lines",
         "type": "scattermapbox"
        },
        {
         "lat": [
          -29.70916666,
          -30.368578
         ],
         "line": {
          "color": "steelblue"
         },
         "lon": [
          -55.52555554,
          -56.437115
         ],
         "mode": "lines",
         "type": "scattermapbox"
        },
        {
         "lat": [
          -29.70916666,
          -28.41722221
         ],
         "line": {
          "color": "steelblue"
         },
         "lon": [
          -55.52555554,
          -54.9625
         ],
         "mode": "lines",
         "type": "scattermapbox"
        },
        {
         "lat": [
          -29.70916666,
          -28.60344
         ],
         "line": {
          "color": "steelblue"
         },
         "lon": [
          -55.52555554,
          -53.673597
         ],
         "mode": "lines",
         "type": "scattermapbox"
        },
        {
         "lat": [
          -29.70916666,
          -31.0025
         ],
         "line": {
          "color": "steelblue"
         },
         "lon": [
          -55.52555554,
          -54.61805554
         ],
         "mode": "lines",
         "type": "scattermapbox"
        },
        {
         "lat": [
          -29.70916666,
          -30.54305555
         ],
         "line": {
          "color": "steelblue"
         },
         "lon": [
          -55.52555554,
          -52.52472221
         ],
         "mode": "lines",
         "type": "scattermapbox"
        },
        {
         "lat": [
          -31.34777777,
          -30.368578
         ],
         "line": {
          "color": "steelblue"
         },
         "lon": [
          -54.01333333,
          -56.437115
         ],
         "mode": "lines",
         "type": "scattermapbox"
        },
        {
         "lat": [
          -31.34777777,
          -32.53472221
         ],
         "line": {
          "color": "steelblue"
         },
         "lon": [
          -54.01333333,
          -53.37583332
         ],
         "mode": "lines",
         "type": "scattermapbox"
        },
        {
         "lat": [
          -31.34777777,
          -31.0025
         ],
         "line": {
          "color": "steelblue"
         },
         "lon": [
          -54.01333333,
          -54.61805554
         ],
         "mode": "lines",
         "type": "scattermapbox"
        },
        {
         "lat": [
          -31.34777777,
          -31.8025
         ],
         "line": {
          "color": "steelblue"
         },
         "lon": [
          -54.01333333,
          -52.40722222
         ],
         "mode": "lines",
         "type": "scattermapbox"
        },
        {
         "lat": [
          -31.34777777,
          -30.54305555
         ],
         "line": {
          "color": "steelblue"
         },
         "lon": [
          -54.01333333,
          -52.52472221
         ],
         "mode": "lines",
         "type": "scattermapbox"
        },
        {
         "lat": [
          -30.368578,
          -32.53472221
         ],
         "line": {
          "color": "steelblue"
         },
         "lon": [
          -56.437115,
          -53.37583332
         ],
         "mode": "lines",
         "type": "scattermapbox"
        },
        {
         "lat": [
          -30.368578,
          -31.0025
         ],
         "line": {
          "color": "steelblue"
         },
         "lon": [
          -56.437115,
          -54.61805554
         ],
         "mode": "lines",
         "type": "scattermapbox"
        },
        {
         "lat": [
          -30.368578,
          -30.54305555
         ],
         "line": {
          "color": "steelblue"
         },
         "lon": [
          -56.437115,
          -52.52472221
         ],
         "mode": "lines",
         "type": "scattermapbox"
        },
        {
         "lat": [
          -30.01027777,
          -31.24833333
         ],
         "line": {
          "color": "steelblue"
         },
         "lon": [
          -50.13583333,
          -50.90638888
         ],
         "mode": "lines",
         "type": "scattermapbox"
        },
        {
         "lat": [
          -32.53472221,
          -31.0025
         ],
         "line": {
          "color": "steelblue"
         },
         "lon": [
          -53.37583332,
          -54.61805554
         ],
         "mode": "lines",
         "type": "scattermapbox"
        },
        {
         "lat": [
          -32.53472221,
          -31.8025
         ],
         "line": {
          "color": "steelblue"
         },
         "lon": [
          -53.37583332,
          -52.40722222
         ],
         "mode": "lines",
         "type": "scattermapbox"
        },
        {
         "lat": [
          -32.53472221,
          -30.54305555
         ],
         "line": {
          "color": "steelblue"
         },
         "lon": [
          -53.37583332,
          -52.52472221
         ],
         "mode": "lines",
         "type": "scattermapbox"
        },
        {
         "lat": [
          -32.53472221,
          -33.74222221
         ],
         "line": {
          "color": "steelblue"
         },
         "lon": [
          -53.37583332,
          -53.37222221
         ],
         "mode": "lines",
         "type": "scattermapbox"
        },
        {
         "lat": [
          -28.859211,
          -28.226805
         ],
         "line": {
          "color": "steelblue"
         },
         "lon": [
          -52.542387,
          -52.403582
         ],
         "mode": "lines",
         "type": "scattermapbox"
        },
        {
         "lat": [
          -28.859211,
          -29.164581
         ],
         "line": {
          "color": "steelblue"
         },
         "lon": [
          -52.542387,
          -51.534202
         ],
         "mode": "lines",
         "type": "scattermapbox"
        },
        {
         "lat": [
          -28.859211,
          -28.60344
         ],
         "line": {
          "color": "steelblue"
         },
         "lon": [
          -52.542387,
          -53.673597
         ],
         "mode": "lines",
         "type": "scattermapbox"
        },
        {
         "lat": [
          -28.859211,
          -27.92027777
         ],
         "line": {
          "color": "steelblue"
         },
         "lon": [
          -52.542387,
          -53.31805554
         ],
         "mode": "lines",
         "type": "scattermapbox"
        },
        {
         "lat": [
          -28.859211,
          -29.36888888
         ],
         "line": {
          "color": "steelblue"
         },
         "lon": [
          -52.542387,
          -50.82722221
         ],
         "mode": "lines",
         "type": "scattermapbox"
        },
        {
         "lat": [
          -28.859211,
          -28.65333333
         ],
         "line": {
          "color": "steelblue"
         },
         "lon": [
          -52.542387,
          -53.11194444
         ],
         "mode": "lines",
         "type": "scattermapbox"
        },
        {
         "lat": [
          -30.807953,
          -29.674293
         ],
         "line": {
          "color": "steelblue"
         },
         "lon": [
          -51.83424,
          -51.064042
         ],
         "mode": "lines",
         "type": "scattermapbox"
        },
        {
         "lat": [
          -30.807953,
          -31.8025
         ],
         "line": {
          "color": "steelblue"
         },
         "lon": [
          -51.83424,
          -52.40722222
         ],
         "mode": "lines",
         "type": "scattermapbox"
        },
        {
         "lat": [
          -30.807953,
          -30.54305555
         ],
         "line": {
          "color": "steelblue"
         },
         "lon": [
          -51.83424,
          -52.52472221
         ],
         "mode": "lines",
         "type": "scattermapbox"
        },
        {
         "lat": [
          -30.807953,
          -30.1861111
         ],
         "line": {
          "color": "steelblue"
         },
         "lon": [
          -51.83424,
          -51.17805554
         ],
         "mode": "lines",
         "type": "scattermapbox"
        },
        {
         "lat": [
          -28.226805,
          -29.164581
         ],
         "line": {
          "color": "steelblue"
         },
         "lon": [
          -52.403582,
          -51.534202
         ],
         "mode": "lines",
         "type": "scattermapbox"
        },
        {
         "lat": [
          -28.226805,
          -28.222381
         ],
         "line": {
          "color": "steelblue"
         },
         "lon": [
          -52.403582,
          -51.512845
         ],
         "mode": "lines",
         "type": "scattermapbox"
        },
        {
         "lat": [
          -28.226805,
          -28.60344
         ],
         "line": {
          "color": "steelblue"
         },
         "lon": [
          -52.403582,
          -53.673597
         ],
         "mode": "lines",
         "type": "scattermapbox"
        },
        {
         "lat": [
          -28.226805,
          -27.39555555
         ],
         "line": {
          "color": "steelblue"
         },
         "lon": [
          -52.403582,
          -53.42944443
         ],
         "mode": "lines",
         "type": "scattermapbox"
        },
        {
         "lat": [
          -28.226805,
          -27.92027777
         ],
         "line": {
          "color": "steelblue"
         },
         "lon": [
          -52.403582,
          -53.31805554
         ],
         "mode": "lines",
         "type": "scattermapbox"
        },
        {
         "lat": [
          -28.226805,
          -28.513602
         ],
         "line": {
          "color": "steelblue"
         },
         "lon": [
          -52.403582,
          -50.882738
         ],
         "mode": "lines",
         "type": "scattermapbox"
        },
        {
         "lat": [
          -28.226805,
          -28.65333333
         ],
         "line": {
          "color": "steelblue"
         },
         "lon": [
          -52.403582,
          -53.11194444
         ],
         "mode": "lines",
         "type": "scattermapbox"
        },
        {
         "lat": [
          -28.226805,
          -28.70472222
         ],
         "line": {
          "color": "steelblue"
         },
         "lon": [
          -52.403582,
          -51.87083332
         ],
         "mode": "lines",
         "type": "scattermapbox"
        },
        {
         "lat": [
          -28.226805,
          -27.0853111
         ],
         "line": {
          "color": "steelblue"
         },
         "lon": [
          -52.403582,
          -52.6357111
         ],
         "mode": "lines",
         "type": "scattermapbox"
        },
        {
         "lat": [
          -29.164581,
          -28.222381
         ],
         "line": {
          "color": "steelblue"
         },
         "lon": [
          -51.534202,
          -51.512845
         ],
         "mode": "lines",
         "type": "scattermapbox"
        },
        {
         "lat": [
          -29.164581,
          -28.41722221
         ],
         "line": {
          "color": "steelblue"
         },
         "lon": [
          -51.534202,
          -54.9625
         ],
         "mode": "lines",
         "type": "scattermapbox"
        },
        {
         "lat": [
          -29.164581,
          -28.60344
         ],
         "line": {
          "color": "steelblue"
         },
         "lon": [
          -51.534202,
          -53.673597
         ],
         "mode": "lines",
         "type": "scattermapbox"
        },
        {
         "lat": [
          -29.164581,
          -27.92027777
         ],
         "line": {
          "color": "steelblue"
         },
         "lon": [
          -51.534202,
          -53.31805554
         ],
         "mode": "lines",
         "type": "scattermapbox"
        },
        {
         "lat": [
          -29.164581,
          -29.36888888
         ],
         "line": {
          "color": "steelblue"
         },
         "lon": [
          -51.534202,
          -50.82722221
         ],
         "mode": "lines",
         "type": "scattermapbox"
        },
        {
         "lat": [
          -29.164581,
          -29.44916666
         ],
         "line": {
          "color": "steelblue"
         },
         "lon": [
          -51.534202,
          -51.82333332
         ],
         "mode": "lines",
         "type": "scattermapbox"
        },
        {
         "lat": [
          -29.164581,
          -28.65333333
         ],
         "line": {
          "color": "steelblue"
         },
         "lon": [
          -51.534202,
          -53.11194444
         ],
         "mode": "lines",
         "type": "scattermapbox"
        },
        {
         "lat": [
          -29.164581,
          -30.54305555
         ],
         "line": {
          "color": "steelblue"
         },
         "lon": [
          -51.534202,
          -52.52472221
         ],
         "mode": "lines",
         "type": "scattermapbox"
        },
        {
         "lat": [
          -29.164581,
          -28.70472222
         ],
         "line": {
          "color": "steelblue"
         },
         "lon": [
          -51.534202,
          -51.87083332
         ],
         "mode": "lines",
         "type": "scattermapbox"
        },
        {
         "lat": [
          -29.164581,
          -29.04916666
         ],
         "line": {
          "color": "steelblue"
         },
         "lon": [
          -51.534202,
          -50.14972221
         ],
         "mode": "lines",
         "type": "scattermapbox"
        },
        {
         "lat": [
          -28.222381,
          -28.60344
         ],
         "line": {
          "color": "steelblue"
         },
         "lon": [
          -51.512845,
          -53.673597
         ],
         "mode": "lines",
         "type": "scattermapbox"
        },
        {
         "lat": [
          -28.222381,
          -27.39555555
         ],
         "line": {
          "color": "steelblue"
         },
         "lon": [
          -51.512845,
          -53.42944443
         ],
         "mode": "lines",
         "type": "scattermapbox"
        },
        {
         "lat": [
          -28.222381,
          -27.92027777
         ],
         "line": {
          "color": "steelblue"
         },
         "lon": [
          -51.512845,
          -53.31805554
         ],
         "mode": "lines",
         "type": "scattermapbox"
        },
        {
         "lat": [
          -28.222381,
          -28.513602
         ],
         "line": {
          "color": "steelblue"
         },
         "lon": [
          -51.512845,
          -50.882738
         ],
         "mode": "lines",
         "type": "scattermapbox"
        },
        {
         "lat": [
          -28.222381,
          -28.65333333
         ],
         "line": {
          "color": "steelblue"
         },
         "lon": [
          -51.512845,
          -53.11194444
         ],
         "mode": "lines",
         "type": "scattermapbox"
        },
        {
         "lat": [
          -28.222381,
          -28.70472222
         ],
         "line": {
          "color": "steelblue"
         },
         "lon": [
          -51.512845,
          -51.87083332
         ],
         "mode": "lines",
         "type": "scattermapbox"
        },
        {
         "lat": [
          -28.222381,
          -29.04916666
         ],
         "line": {
          "color": "steelblue"
         },
         "lon": [
          -51.512845,
          -50.14972221
         ],
         "mode": "lines",
         "type": "scattermapbox"
        },
        {
         "lat": [
          -28.222381,
          -27.0853111
         ],
         "line": {
          "color": "steelblue"
         },
         "lon": [
          -51.512845,
          -52.6357111
         ],
         "mode": "lines",
         "type": "scattermapbox"
        },
        {
         "lat": [
          -28.222381,
          -27.3886111
         ],
         "line": {
          "color": "steelblue"
         },
         "lon": [
          -51.512845,
          -51.21583333
         ],
         "mode": "lines",
         "type": "scattermapbox"
        },
        {
         "lat": [
          -28.41722221,
          -28.60344
         ],
         "line": {
          "color": "steelblue"
         },
         "lon": [
          -54.9625,
          -53.673597
         ],
         "mode": "lines",
         "type": "scattermapbox"
        },
        {
         "lat": [
          -28.41722221,
          -27.92027777
         ],
         "line": {
          "color": "steelblue"
         },
         "lon": [
          -54.9625,
          -53.31805554
         ],
         "mode": "lines",
         "type": "scattermapbox"
        },
        {
         "lat": [
          -28.41722221,
          -28.65333333
         ],
         "line": {
          "color": "steelblue"
         },
         "lon": [
          -54.9625,
          -53.11194444
         ],
         "mode": "lines",
         "type": "scattermapbox"
        },
        {
         "lat": [
          -28.60344,
          -27.92027777
         ],
         "line": {
          "color": "steelblue"
         },
         "lon": [
          -53.673597,
          -53.31805554
         ],
         "mode": "lines",
         "type": "scattermapbox"
        },
        {
         "lat": [
          -28.60344,
          -28.65333333
         ],
         "line": {
          "color": "steelblue"
         },
         "lon": [
          -53.673597,
          -53.11194444
         ],
         "mode": "lines",
         "type": "scattermapbox"
        },
        {
         "lat": [
          -28.60344,
          -28.70472222
         ],
         "line": {
          "color": "steelblue"
         },
         "lon": [
          -53.673597,
          -51.87083332
         ],
         "mode": "lines",
         "type": "scattermapbox"
        },
        {
         "lat": [
          -27.39555555,
          -27.92027777
         ],
         "line": {
          "color": "steelblue"
         },
         "lon": [
          -53.42944443,
          -53.31805554
         ],
         "mode": "lines",
         "type": "scattermapbox"
        },
        {
         "lat": [
          -27.39555555,
          -27.0853111
         ],
         "line": {
          "color": "steelblue"
         },
         "lon": [
          -53.42944443,
          -52.6357111
         ],
         "mode": "lines",
         "type": "scattermapbox"
        },
        {
         "lat": [
          -27.92027777,
          -28.65333333
         ],
         "line": {
          "color": "steelblue"
         },
         "lon": [
          -53.31805554,
          -53.11194444
         ],
         "mode": "lines",
         "type": "scattermapbox"
        },
        {
         "lat": [
          -27.92027777,
          -27.0853111
         ],
         "line": {
          "color": "steelblue"
         },
         "lon": [
          -53.31805554,
          -52.6357111
         ],
         "mode": "lines",
         "type": "scattermapbox"
        },
        {
         "lat": [
          -29.36888888,
          -29.44916666
         ],
         "line": {
          "color": "steelblue"
         },
         "lon": [
          -50.82722221,
          -51.82333332
         ],
         "mode": "lines",
         "type": "scattermapbox"
        },
        {
         "lat": [
          -29.36888888,
          -29.674293
         ],
         "line": {
          "color": "steelblue"
         },
         "lon": [
          -50.82722221,
          -51.064042
         ],
         "mode": "lines",
         "type": "scattermapbox"
        },
        {
         "lat": [
          -29.36888888,
          -29.04916666
         ],
         "line": {
          "color": "steelblue"
         },
         "lon": [
          -50.82722221,
          -50.14972221
         ],
         "mode": "lines",
         "type": "scattermapbox"
        },
        {
         "lat": [
          -28.513602,
          -28.70472222
         ],
         "line": {
          "color": "steelblue"
         },
         "lon": [
          -50.882738,
          -51.87083332
         ],
         "mode": "lines",
         "type": "scattermapbox"
        },
        {
         "lat": [
          -28.513602,
          -27.3886111
         ],
         "line": {
          "color": "steelblue"
         },
         "lon": [
          -50.882738,
          -51.21583333
         ],
         "mode": "lines",
         "type": "scattermapbox"
        },
        {
         "lat": [
          -31.0025,
          -30.54305555
         ],
         "line": {
          "color": "steelblue"
         },
         "lon": [
          -54.61805554,
          -52.52472221
         ],
         "mode": "lines",
         "type": "scattermapbox"
        },
        {
         "lat": [
          -29.44916666,
          -28.65333333
         ],
         "line": {
          "color": "steelblue"
         },
         "lon": [
          -51.82333332,
          -53.11194444
         ],
         "mode": "lines",
         "type": "scattermapbox"
        },
        {
         "lat": [
          -29.44916666,
          -29.674293
         ],
         "line": {
          "color": "steelblue"
         },
         "lon": [
          -51.82333332,
          -51.064042
         ],
         "mode": "lines",
         "type": "scattermapbox"
        },
        {
         "lat": [
          -29.44916666,
          -28.70472222
         ],
         "line": {
          "color": "steelblue"
         },
         "lon": [
          -51.82333332,
          -51.87083332
         ],
         "mode": "lines",
         "type": "scattermapbox"
        },
        {
         "lat": [
          -29.44916666,
          -30.1861111
         ],
         "line": {
          "color": "steelblue"
         },
         "lon": [
          -51.82333332,
          -51.17805554
         ],
         "mode": "lines",
         "type": "scattermapbox"
        },
        {
         "lat": [
          -28.65333333,
          -28.70472222
         ],
         "line": {
          "color": "steelblue"
         },
         "lon": [
          -53.11194444,
          -51.87083332
         ],
         "mode": "lines",
         "type": "scattermapbox"
        },
        {
         "lat": [
          -29.674293,
          -28.70472222
         ],
         "line": {
          "color": "steelblue"
         },
         "lon": [
          -51.064042,
          -51.87083332
         ],
         "mode": "lines",
         "type": "scattermapbox"
        },
        {
         "lat": [
          -29.674293,
          -30.1861111
         ],
         "line": {
          "color": "steelblue"
         },
         "lon": [
          -51.064042,
          -51.17805554
         ],
         "mode": "lines",
         "type": "scattermapbox"
        },
        {
         "lat": [
          -31.8025,
          -30.54305555
         ],
         "line": {
          "color": "steelblue"
         },
         "lon": [
          -52.40722222,
          -52.52472221
         ],
         "mode": "lines",
         "type": "scattermapbox"
        },
        {
         "lat": [
          -31.8025,
          -30.1861111
         ],
         "line": {
          "color": "steelblue"
         },
         "lon": [
          -52.40722222,
          -51.17805554
         ],
         "mode": "lines",
         "type": "scattermapbox"
        },
        {
         "lat": [
          -30.54305555,
          -30.1861111
         ],
         "line": {
          "color": "steelblue"
         },
         "lon": [
          -52.52472221,
          -51.17805554
         ],
         "mode": "lines",
         "type": "scattermapbox"
        },
        {
         "lat": [
          -27.6025,
          -28.931353
         ],
         "line": {
          "color": "steelblue"
         },
         "lon": [
          -48.61999999,
          -49.49792
         ],
         "mode": "lines",
         "type": "scattermapbox"
        },
        {
         "lat": [
          -27.6025,
          -26.95083333
         ],
         "line": {
          "color": "steelblue"
         },
         "lon": [
          -48.61999999,
          -48.76194444
         ],
         "mode": "lines",
         "type": "scattermapbox"
        },
        {
         "lat": [
          -28.53249999,
          -28.931353
         ],
         "line": {
          "color": "steelblue"
         },
         "lon": [
          -49.31527777,
          -49.49792
         ],
         "mode": "lines",
         "type": "scattermapbox"
        },
        {
         "lat": [
          -26.40638888,
          -26.286562
         ],
         "line": {
          "color": "steelblue"
         },
         "lon": [
          -52.85027777,
          -53.633114
         ],
         "mode": "lines",
         "type": "scattermapbox"
        },
        {
         "lat": [
          -26.40638888,
          -26.938666
         ],
         "line": {
          "color": "steelblue"
         },
         "lon": [
          -52.85027777,
          -52.39809
         ],
         "mode": "lines",
         "type": "scattermapbox"
        },
        {
         "lat": [
          -26.40638888,
          -27.0853111
         ],
         "line": {
          "color": "steelblue"
         },
         "lon": [
          -52.85027777,
          -52.6357111
         ],
         "mode": "lines",
         "type": "scattermapbox"
        },
        {
         "lat": [
          -26.91361111,
          -26.93749999
         ],
         "line": {
          "color": "steelblue"
         },
         "lon": [
          -49.26805554,
          -50.14555555
         ],
         "mode": "lines",
         "type": "scattermapbox"
        },
        {
         "lat": [
          -26.91361111,
          -26.95083333
         ],
         "line": {
          "color": "steelblue"
         },
         "lon": [
          -49.26805554,
          -48.76194444
         ],
         "mode": "lines",
         "type": "scattermapbox"
        },
        {
         "lat": [
          -26.286562,
          -26.78638888
         ],
         "line": {
          "color": "steelblue"
         },
         "lon": [
          -53.633114,
          -53.51416666
         ],
         "mode": "lines",
         "type": "scattermapbox"
        },
        {
         "lat": [
          -26.286562,
          -26.938666
         ],
         "line": {
          "color": "steelblue"
         },
         "lon": [
          -53.633114,
          -52.39809
         ],
         "mode": "lines",
         "type": "scattermapbox"
        },
        {
         "lat": [
          -26.286562,
          -27.0853111
         ],
         "line": {
          "color": "steelblue"
         },
         "lon": [
          -53.633114,
          -52.6357111
         ],
         "mode": "lines",
         "type": "scattermapbox"
        },
        {
         "lat": [
          -26.08138888,
          -26.95083333
         ],
         "line": {
          "color": "steelblue"
         },
         "lon": [
          -48.64166666,
          -48.76194444
         ],
         "mode": "lines",
         "type": "scattermapbox"
        },
        {
         "lat": [
          -26.78638888,
          -27.0853111
         ],
         "line": {
          "color": "steelblue"
         },
         "lon": [
          -53.51416666,
          -52.6357111
         ],
         "mode": "lines",
         "type": "scattermapbox"
        },
        {
         "lat": [
          -26.938666,
          -27.0853111
         ],
         "line": {
          "color": "steelblue"
         },
         "lon": [
          -52.39809,
          -52.6357111
         ],
         "mode": "lines",
         "type": "scattermapbox"
        },
        {
         "lat": [
          -26.819156,
          -27.2886111
         ],
         "line": {
          "color": "steelblue"
         },
         "lon": [
          -50.98552,
          -50.60416666
         ],
         "mode": "lines",
         "type": "scattermapbox"
        },
        {
         "lat": [
          -27.2886111,
          -27.3886111
         ],
         "line": {
          "color": "steelblue"
         },
         "lon": [
          -50.60416666,
          -51.21583333
         ],
         "mode": "lines",
         "type": "scattermapbox"
        },
        {
         "lat": [
          -27.0853111,
          -27.3886111
         ],
         "line": {
          "color": "steelblue"
         },
         "lon": [
          -52.6357111,
          -51.21583333
         ],
         "mode": "lines",
         "type": "scattermapbox"
        }
       ],
       "layout": {
        "legend": {
         "tracegroupgap": 0
        },
        "mapbox": {
         "center": {
          "lat": -15.840452927402827,
          "lon": -47.90782454227915
         },
         "domain": {
          "x": [
           0,
           1
          ],
          "y": [
           0,
           1
          ]
         },
         "style": "open-street-map",
         "zoom": 3
        },
        "margin": {
         "t": 60
        },
        "template": {
         "data": {
          "bar": [
           {
            "error_x": {
             "color": "#2a3f5f"
            },
            "error_y": {
             "color": "#2a3f5f"
            },
            "marker": {
             "line": {
              "color": "#E5ECF6",
              "width": 0.5
             },
             "pattern": {
              "fillmode": "overlay",
              "size": 10,
              "solidity": 0.2
             }
            },
            "type": "bar"
           }
          ],
          "barpolar": [
           {
            "marker": {
             "line": {
              "color": "#E5ECF6",
              "width": 0.5
             },
             "pattern": {
              "fillmode": "overlay",
              "size": 10,
              "solidity": 0.2
             }
            },
            "type": "barpolar"
           }
          ],
          "carpet": [
           {
            "aaxis": {
             "endlinecolor": "#2a3f5f",
             "gridcolor": "white",
             "linecolor": "white",
             "minorgridcolor": "white",
             "startlinecolor": "#2a3f5f"
            },
            "baxis": {
             "endlinecolor": "#2a3f5f",
             "gridcolor": "white",
             "linecolor": "white",
             "minorgridcolor": "white",
             "startlinecolor": "#2a3f5f"
            },
            "type": "carpet"
           }
          ],
          "choropleth": [
           {
            "colorbar": {
             "outlinewidth": 0,
             "ticks": ""
            },
            "type": "choropleth"
           }
          ],
          "contour": [
           {
            "colorbar": {
             "outlinewidth": 0,
             "ticks": ""
            },
            "colorscale": [
             [
              0,
              "#0d0887"
             ],
             [
              0.1111111111111111,
              "#46039f"
             ],
             [
              0.2222222222222222,
              "#7201a8"
             ],
             [
              0.3333333333333333,
              "#9c179e"
             ],
             [
              0.4444444444444444,
              "#bd3786"
             ],
             [
              0.5555555555555556,
              "#d8576b"
             ],
             [
              0.6666666666666666,
              "#ed7953"
             ],
             [
              0.7777777777777778,
              "#fb9f3a"
             ],
             [
              0.8888888888888888,
              "#fdca26"
             ],
             [
              1,
              "#f0f921"
             ]
            ],
            "type": "contour"
           }
          ],
          "contourcarpet": [
           {
            "colorbar": {
             "outlinewidth": 0,
             "ticks": ""
            },
            "type": "contourcarpet"
           }
          ],
          "heatmap": [
           {
            "colorbar": {
             "outlinewidth": 0,
             "ticks": ""
            },
            "colorscale": [
             [
              0,
              "#0d0887"
             ],
             [
              0.1111111111111111,
              "#46039f"
             ],
             [
              0.2222222222222222,
              "#7201a8"
             ],
             [
              0.3333333333333333,
              "#9c179e"
             ],
             [
              0.4444444444444444,
              "#bd3786"
             ],
             [
              0.5555555555555556,
              "#d8576b"
             ],
             [
              0.6666666666666666,
              "#ed7953"
             ],
             [
              0.7777777777777778,
              "#fb9f3a"
             ],
             [
              0.8888888888888888,
              "#fdca26"
             ],
             [
              1,
              "#f0f921"
             ]
            ],
            "type": "heatmap"
           }
          ],
          "heatmapgl": [
           {
            "colorbar": {
             "outlinewidth": 0,
             "ticks": ""
            },
            "colorscale": [
             [
              0,
              "#0d0887"
             ],
             [
              0.1111111111111111,
              "#46039f"
             ],
             [
              0.2222222222222222,
              "#7201a8"
             ],
             [
              0.3333333333333333,
              "#9c179e"
             ],
             [
              0.4444444444444444,
              "#bd3786"
             ],
             [
              0.5555555555555556,
              "#d8576b"
             ],
             [
              0.6666666666666666,
              "#ed7953"
             ],
             [
              0.7777777777777778,
              "#fb9f3a"
             ],
             [
              0.8888888888888888,
              "#fdca26"
             ],
             [
              1,
              "#f0f921"
             ]
            ],
            "type": "heatmapgl"
           }
          ],
          "histogram": [
           {
            "marker": {
             "pattern": {
              "fillmode": "overlay",
              "size": 10,
              "solidity": 0.2
             }
            },
            "type": "histogram"
           }
          ],
          "histogram2d": [
           {
            "colorbar": {
             "outlinewidth": 0,
             "ticks": ""
            },
            "colorscale": [
             [
              0,
              "#0d0887"
             ],
             [
              0.1111111111111111,
              "#46039f"
             ],
             [
              0.2222222222222222,
              "#7201a8"
             ],
             [
              0.3333333333333333,
              "#9c179e"
             ],
             [
              0.4444444444444444,
              "#bd3786"
             ],
             [
              0.5555555555555556,
              "#d8576b"
             ],
             [
              0.6666666666666666,
              "#ed7953"
             ],
             [
              0.7777777777777778,
              "#fb9f3a"
             ],
             [
              0.8888888888888888,
              "#fdca26"
             ],
             [
              1,
              "#f0f921"
             ]
            ],
            "type": "histogram2d"
           }
          ],
          "histogram2dcontour": [
           {
            "colorbar": {
             "outlinewidth": 0,
             "ticks": ""
            },
            "colorscale": [
             [
              0,
              "#0d0887"
             ],
             [
              0.1111111111111111,
              "#46039f"
             ],
             [
              0.2222222222222222,
              "#7201a8"
             ],
             [
              0.3333333333333333,
              "#9c179e"
             ],
             [
              0.4444444444444444,
              "#bd3786"
             ],
             [
              0.5555555555555556,
              "#d8576b"
             ],
             [
              0.6666666666666666,
              "#ed7953"
             ],
             [
              0.7777777777777778,
              "#fb9f3a"
             ],
             [
              0.8888888888888888,
              "#fdca26"
             ],
             [
              1,
              "#f0f921"
             ]
            ],
            "type": "histogram2dcontour"
           }
          ],
          "mesh3d": [
           {
            "colorbar": {
             "outlinewidth": 0,
             "ticks": ""
            },
            "type": "mesh3d"
           }
          ],
          "parcoords": [
           {
            "line": {
             "colorbar": {
              "outlinewidth": 0,
              "ticks": ""
             }
            },
            "type": "parcoords"
           }
          ],
          "pie": [
           {
            "automargin": true,
            "type": "pie"
           }
          ],
          "scatter": [
           {
            "fillpattern": {
             "fillmode": "overlay",
             "size": 10,
             "solidity": 0.2
            },
            "type": "scatter"
           }
          ],
          "scatter3d": [
           {
            "line": {
             "colorbar": {
              "outlinewidth": 0,
              "ticks": ""
             }
            },
            "marker": {
             "colorbar": {
              "outlinewidth": 0,
              "ticks": ""
             }
            },
            "type": "scatter3d"
           }
          ],
          "scattercarpet": [
           {
            "marker": {
             "colorbar": {
              "outlinewidth": 0,
              "ticks": ""
             }
            },
            "type": "scattercarpet"
           }
          ],
          "scattergeo": [
           {
            "marker": {
             "colorbar": {
              "outlinewidth": 0,
              "ticks": ""
             }
            },
            "type": "scattergeo"
           }
          ],
          "scattergl": [
           {
            "marker": {
             "colorbar": {
              "outlinewidth": 0,
              "ticks": ""
             }
            },
            "type": "scattergl"
           }
          ],
          "scattermapbox": [
           {
            "marker": {
             "colorbar": {
              "outlinewidth": 0,
              "ticks": ""
             }
            },
            "type": "scattermapbox"
           }
          ],
          "scatterpolar": [
           {
            "marker": {
             "colorbar": {
              "outlinewidth": 0,
              "ticks": ""
             }
            },
            "type": "scatterpolar"
           }
          ],
          "scatterpolargl": [
           {
            "marker": {
             "colorbar": {
              "outlinewidth": 0,
              "ticks": ""
             }
            },
            "type": "scatterpolargl"
           }
          ],
          "scatterternary": [
           {
            "marker": {
             "colorbar": {
              "outlinewidth": 0,
              "ticks": ""
             }
            },
            "type": "scatterternary"
           }
          ],
          "surface": [
           {
            "colorbar": {
             "outlinewidth": 0,
             "ticks": ""
            },
            "colorscale": [
             [
              0,
              "#0d0887"
             ],
             [
              0.1111111111111111,
              "#46039f"
             ],
             [
              0.2222222222222222,
              "#7201a8"
             ],
             [
              0.3333333333333333,
              "#9c179e"
             ],
             [
              0.4444444444444444,
              "#bd3786"
             ],
             [
              0.5555555555555556,
              "#d8576b"
             ],
             [
              0.6666666666666666,
              "#ed7953"
             ],
             [
              0.7777777777777778,
              "#fb9f3a"
             ],
             [
              0.8888888888888888,
              "#fdca26"
             ],
             [
              1,
              "#f0f921"
             ]
            ],
            "type": "surface"
           }
          ],
          "table": [
           {
            "cells": {
             "fill": {
              "color": "#EBF0F8"
             },
             "line": {
              "color": "white"
             }
            },
            "header": {
             "fill": {
              "color": "#C8D4E3"
             },
             "line": {
              "color": "white"
             }
            },
            "type": "table"
           }
          ]
         },
         "layout": {
          "annotationdefaults": {
           "arrowcolor": "#2a3f5f",
           "arrowhead": 0,
           "arrowwidth": 1
          },
          "autotypenumbers": "strict",
          "coloraxis": {
           "colorbar": {
            "outlinewidth": 0,
            "ticks": ""
           }
          },
          "colorscale": {
           "diverging": [
            [
             0,
             "#8e0152"
            ],
            [
             0.1,
             "#c51b7d"
            ],
            [
             0.2,
             "#de77ae"
            ],
            [
             0.3,
             "#f1b6da"
            ],
            [
             0.4,
             "#fde0ef"
            ],
            [
             0.5,
             "#f7f7f7"
            ],
            [
             0.6,
             "#e6f5d0"
            ],
            [
             0.7,
             "#b8e186"
            ],
            [
             0.8,
             "#7fbc41"
            ],
            [
             0.9,
             "#4d9221"
            ],
            [
             1,
             "#276419"
            ]
           ],
           "sequential": [
            [
             0,
             "#0d0887"
            ],
            [
             0.1111111111111111,
             "#46039f"
            ],
            [
             0.2222222222222222,
             "#7201a8"
            ],
            [
             0.3333333333333333,
             "#9c179e"
            ],
            [
             0.4444444444444444,
             "#bd3786"
            ],
            [
             0.5555555555555556,
             "#d8576b"
            ],
            [
             0.6666666666666666,
             "#ed7953"
            ],
            [
             0.7777777777777778,
             "#fb9f3a"
            ],
            [
             0.8888888888888888,
             "#fdca26"
            ],
            [
             1,
             "#f0f921"
            ]
           ],
           "sequentialminus": [
            [
             0,
             "#0d0887"
            ],
            [
             0.1111111111111111,
             "#46039f"
            ],
            [
             0.2222222222222222,
             "#7201a8"
            ],
            [
             0.3333333333333333,
             "#9c179e"
            ],
            [
             0.4444444444444444,
             "#bd3786"
            ],
            [
             0.5555555555555556,
             "#d8576b"
            ],
            [
             0.6666666666666666,
             "#ed7953"
            ],
            [
             0.7777777777777778,
             "#fb9f3a"
            ],
            [
             0.8888888888888888,
             "#fdca26"
            ],
            [
             1,
             "#f0f921"
            ]
           ]
          },
          "colorway": [
           "#636efa",
           "#EF553B",
           "#00cc96",
           "#ab63fa",
           "#FFA15A",
           "#19d3f3",
           "#FF6692",
           "#B6E880",
           "#FF97FF",
           "#FECB52"
          ],
          "font": {
           "color": "#2a3f5f"
          },
          "geo": {
           "bgcolor": "white",
           "lakecolor": "white",
           "landcolor": "#E5ECF6",
           "showlakes": true,
           "showland": true,
           "subunitcolor": "white"
          },
          "hoverlabel": {
           "align": "left"
          },
          "hovermode": "closest",
          "mapbox": {
           "style": "light"
          },
          "paper_bgcolor": "white",
          "plot_bgcolor": "#E5ECF6",
          "polar": {
           "angularaxis": {
            "gridcolor": "white",
            "linecolor": "white",
            "ticks": ""
           },
           "bgcolor": "#E5ECF6",
           "radialaxis": {
            "gridcolor": "white",
            "linecolor": "white",
            "ticks": ""
           }
          },
          "scene": {
           "xaxis": {
            "backgroundcolor": "#E5ECF6",
            "gridcolor": "white",
            "gridwidth": 2,
            "linecolor": "white",
            "showbackground": true,
            "ticks": "",
            "zerolinecolor": "white"
           },
           "yaxis": {
            "backgroundcolor": "#E5ECF6",
            "gridcolor": "white",
            "gridwidth": 2,
            "linecolor": "white",
            "showbackground": true,
            "ticks": "",
            "zerolinecolor": "white"
           },
           "zaxis": {
            "backgroundcolor": "#E5ECF6",
            "gridcolor": "white",
            "gridwidth": 2,
            "linecolor": "white",
            "showbackground": true,
            "ticks": "",
            "zerolinecolor": "white"
           }
          },
          "shapedefaults": {
           "line": {
            "color": "#2a3f5f"
           }
          },
          "ternary": {
           "aaxis": {
            "gridcolor": "white",
            "linecolor": "white",
            "ticks": ""
           },
           "baxis": {
            "gridcolor": "white",
            "linecolor": "white",
            "ticks": ""
           },
           "bgcolor": "#E5ECF6",
           "caxis": {
            "gridcolor": "white",
            "linecolor": "white",
            "ticks": ""
           }
          },
          "title": {
           "x": 0.05
          },
          "xaxis": {
           "automargin": true,
           "gridcolor": "white",
           "linecolor": "white",
           "ticks": "",
           "title": {
            "standoff": 15
           },
           "zerolinecolor": "white",
           "zerolinewidth": 2
          },
          "yaxis": {
           "automargin": true,
           "gridcolor": "white",
           "linecolor": "white",
           "ticks": "",
           "title": {
            "standoff": 15
           },
           "zerolinecolor": "white",
           "zerolinewidth": 2
          }
         }
        }
       }
      }
     },
     "metadata": {},
     "output_type": "display_data"
    }
   ],
   "source": [
    "fig = px.scatter_mapbox(df, lat=\"latitude\", lon=\"longitude\", zoom=3, mapbox_style='open-street-map')\n",
    "\n",
    "for a, b, features in graph.edges(data=True):\n",
    "    city_a, uf_a = a\n",
    "    city_b, uf_b = b\n",
    "    if features['weight'] >= 0.92:\n",
    "        latitude_a, longitude_a = df.loc[(df['city'] == city_a) & (df['uf'] == uf_a), ['latitude', 'longitude']].values[0]\n",
    "        latitude_b, longitude_b = df.loc[(df['city'] == city_b) & (df['uf'] == uf_b), ['latitude', 'longitude']].values[0]\n",
    "        fig.add_trace(go.Scattermapbox(mode='lines', lon=[longitude_a, longitude_b], lat=[latitude_a, latitude_b], line_color='steelblue'))\n",
    "\n",
    "fig.show()"
   ]
  }
 ],
 "metadata": {
  "kernelspec": {
   "display_name": "imaflora",
   "language": "python",
   "name": "python3"
  },
  "language_info": {
   "codemirror_mode": {
    "name": "ipython",
    "version": 3
   },
   "file_extension": ".py",
   "mimetype": "text/x-python",
   "name": "python",
   "nbconvert_exporter": "python",
   "pygments_lexer": "ipython3",
   "version": "3.10.13"
  }
 },
 "nbformat": 4,
 "nbformat_minor": 2
}
