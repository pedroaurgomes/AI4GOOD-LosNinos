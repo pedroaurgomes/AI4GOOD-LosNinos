{
 "cells": [
  {
   "cell_type": "code",
   "execution_count": 1,
   "metadata": {},
   "outputs": [],
   "source": [
    "import cdsapi\n",
    "c = cdsapi.Client()"
   ]
  },
  {
   "cell_type": "code",
   "execution_count": 9,
   "metadata": {},
   "outputs": [],
   "source": [
    "days = [str(i).zfill(2) for i in range(1, 32)]\n",
    "months = [str(i).zfill(2) for i in range(1, 13)]\n",
    "years = [str(i) for i in range(2000, 2023)]\n",
    "time = [str(i).zfill(2) + ':00' for i in range(0, 24, 4)]\n",
    "area =  [6, -176, -34, -35]  # North, East, South, West"
   ]
  },
  {
   "cell_type": "code",
   "execution_count": 11,
   "metadata": {},
   "outputs": [
    {
     "data": {
      "text/plain": [
       "18.083333333333332"
      ]
     },
     "execution_count": 11,
     "metadata": {},
     "output_type": "execute_result"
    }
   ],
   "source": [
    "(len(days) * len(months) * len(years) * len(time)) / 54 * 112 / 1024 / 5.75"
   ]
  },
  {
   "cell_type": "code",
   "execution_count": 12,
   "metadata": {},
   "outputs": [
    {
     "name": "stderr",
     "output_type": "stream",
     "text": [
      "2023-11-22 21:39:33,648 INFO Welcome to the CDS\n",
      "2023-11-22 21:39:33,649 INFO Sending request to https://cds.climate.copernicus.eu/api/v2/resources/reanalysis-era5-single-levels\n",
      "2023-11-22 21:39:33,902 INFO Request is queued\n",
      "2023-11-22 22:52:35,084 INFO Request is running\n",
      "2023-11-22 23:28:56,050 INFO Request is completed\n",
      "2023-11-22 23:28:56,051 INFO Downloading https://download-0020.copernicus-climate.eu/cache-compute-0020/cache/data3/adaptor.mars.internal-1700704005.9385033-2432-7-be72d764-e461-4be6-907f-6ce915f49de7.grib to download.grib (8.5G)\n",
      "2023-11-23 00:04:12,021 INFO Download rate 4.1M/s      \n"
     ]
    },
    {
     "data": {
      "text/plain": [
       "Result(content_length=9175908240,content_type=application/x-grib,location=https://download-0020.copernicus-climate.eu/cache-compute-0020/cache/data3/adaptor.mars.internal-1700704005.9385033-2432-7-be72d764-e461-4be6-907f-6ce915f49de7.grib)"
      ]
     },
     "execution_count": 12,
     "metadata": {},
     "output_type": "execute_result"
    }
   ],
   "source": [
    "c.retrieve(\n",
    "    'reanalysis-era5-single-levels',\n",
    "    {\n",
    "        'product_type': 'reanalysis',\n",
    "        'format': 'grib',\n",
    "        'month': months,\n",
    "        'year': years,\n",
    "        'day': days,\n",
    "        'time': time,\n",
    "        'variable': '2m_temperature',\n",
    "        'area': area\n",
    "    },\n",
    "    'download.grib'\n",
    ")"
   ]
  },
  {
   "cell_type": "code",
   "execution_count": 6,
   "metadata": {},
   "outputs": [
    {
     "name": "stdout",
     "output_type": "stream",
     "text": [
      "<xarray.Dataset>\n",
      "Dimensions:     (time: 50406, latitude: 161, longitude: 565)\n",
      "Coordinates:\n",
      "    number      int32 ...\n",
      "  * time        (time) datetime64[ns] 2000-01-01 ... 2022-12-31T20:00:00\n",
      "    step        timedelta64[ns] ...\n",
      "    surface     float64 ...\n",
      "  * latitude    (latitude) float64 6.0 5.75 5.5 5.25 ... -33.5 -33.75 -34.0\n",
      "  * longitude   (longitude) float64 -176.0 -175.8 -175.5 ... -35.5 -35.25 325.0\n",
      "    valid_time  (time) datetime64[ns] ...\n",
      "Data variables:\n",
      "    t2m         (time, latitude, longitude) float32 ...\n",
      "Attributes:\n",
      "    GRIB_edition:            1\n",
      "    GRIB_centre:             ecmf\n",
      "    GRIB_centreDescription:  European Centre for Medium-Range Weather Forecasts\n",
      "    GRIB_subCentre:          0\n",
      "    Conventions:             CF-1.7\n",
      "    institution:             European Centre for Medium-Range Weather Forecasts\n",
      "    history:                 2023-11-23T19:13 GRIB to CDM+CF via cfgrib-0.9.1...\n",
      "<xarray.DataArray 't2m' (time: 50406, latitude: 161, longitude: 565)>\n",
      "[4585181790 values with dtype=float32]\n",
      "Coordinates:\n",
      "    number      int32 ...\n",
      "  * time        (time) datetime64[ns] 2000-01-01 ... 2022-12-31T20:00:00\n",
      "    step        timedelta64[ns] ...\n",
      "    surface     float64 ...\n",
      "  * latitude    (latitude) float64 6.0 5.75 5.5 5.25 ... -33.5 -33.75 -34.0\n",
      "  * longitude   (longitude) float64 -176.0 -175.8 -175.5 ... -35.5 -35.25 325.0\n",
      "    valid_time  (time) datetime64[ns] ...\n",
      "Attributes: (12/30)\n",
      "    GRIB_paramId:                             167\n",
      "    GRIB_dataType:                            an\n",
      "    GRIB_numberOfPoints:                      90965\n",
      "    GRIB_typeOfLevel:                         surface\n",
      "    GRIB_stepUnits:                           1\n",
      "    GRIB_stepType:                            instant\n",
      "    ...                                       ...\n",
      "    GRIB_shortName:                           2t\n",
      "    GRIB_totalNumber:                         0\n",
      "    GRIB_units:                               K\n",
      "    long_name:                                2 metre temperature\n",
      "    units:                                    K\n",
      "    standard_name:                            unknown\n"
     ]
    }
   ],
   "source": [
    "import xarray as xr\n",
    "import cfgrib\n",
    "\n",
    "# Load the GRIB file\n",
    "ds = xr.open_dataset('download.grib', engine='cfgrib')\n",
    "\n",
    "print(ds)\n",
    "\n",
    "# Access a specific variable\n",
    "temperature = ds['t2m']\n",
    "print(temperature)"
   ]
  },
  {
   "cell_type": "code",
   "execution_count": 13,
   "metadata": {},
   "outputs": [
    {
     "ename": "MemoryError",
     "evalue": "Unable to allocate 17.1 GiB for an array with shape (50406, 161, 565) and data type float32",
     "output_type": "error",
     "traceback": [
      "\u001b[1;31m---------------------------------------------------------------------------\u001b[0m",
      "\u001b[1;31mMemoryError\u001b[0m                               Traceback (most recent call last)",
      "\u001b[1;32mc:\\Users\\bmarquescost\\Desktop\\usp\\ia4good-hackathon\\el_nino.ipynb Cell 7\u001b[0m line \u001b[0;36m1\n\u001b[1;32m----> <a href='vscode-notebook-cell:/c%3A/Users/bmarquescost/Desktop/usp/ia4good-hackathon/el_nino.ipynb#W6sZmlsZQ%3D%3D?line=0'>1</a>\u001b[0m sao_paulo \u001b[39m=\u001b[39m temperature\u001b[39m.\u001b[39;49mwhere(temperature\u001b[39m.\u001b[39;49mlatitude \u001b[39m-\u001b[39;49m (\u001b[39m-\u001b[39;49m\u001b[39m23.533773\u001b[39;49m) \u001b[39m+\u001b[39;49m temperature\u001b[39m.\u001b[39;49mlongitude \u001b[39m-\u001b[39;49m (\u001b[39m-\u001b[39;49m\u001b[39m46.625290\u001b[39;49m) \u001b[39m<\u001b[39;49m \u001b[39m0.01\u001b[39;49m)\n",
      "File \u001b[1;32mc:\\Users\\bmarquescost\\anaconda3\\envs\\ia4good\\Lib\\site-packages\\xarray\\core\\common.py:1148\u001b[0m, in \u001b[0;36mDataWithCoords.where\u001b[1;34m(self, cond, other, drop)\u001b[0m\n\u001b[0;32m   1145\u001b[0m     \u001b[39mself\u001b[39m \u001b[39m=\u001b[39m \u001b[39mself\u001b[39m\u001b[39m.\u001b[39misel(\u001b[39m*\u001b[39m\u001b[39m*\u001b[39mindexers)\n\u001b[0;32m   1146\u001b[0m     cond \u001b[39m=\u001b[39m cond\u001b[39m.\u001b[39misel(\u001b[39m*\u001b[39m\u001b[39m*\u001b[39mindexers)\n\u001b[1;32m-> 1148\u001b[0m \u001b[39mreturn\u001b[39;00m ops\u001b[39m.\u001b[39;49mwhere_method(\u001b[39mself\u001b[39;49m, cond, other)\n",
      "File \u001b[1;32mc:\\Users\\bmarquescost\\anaconda3\\envs\\ia4good\\Lib\\site-packages\\xarray\\core\\ops.py:179\u001b[0m, in \u001b[0;36mwhere_method\u001b[1;34m(self, cond, other)\u001b[0m\n\u001b[0;32m    177\u001b[0m \u001b[39m# alignment for three arguments is complicated, so don't support it yet\u001b[39;00m\n\u001b[0;32m    178\u001b[0m join \u001b[39m=\u001b[39m \u001b[39m\"\u001b[39m\u001b[39minner\u001b[39m\u001b[39m\"\u001b[39m \u001b[39mif\u001b[39;00m other \u001b[39mis\u001b[39;00m dtypes\u001b[39m.\u001b[39mNA \u001b[39melse\u001b[39;00m \u001b[39m\"\u001b[39m\u001b[39mexact\u001b[39m\u001b[39m\"\u001b[39m\n\u001b[1;32m--> 179\u001b[0m \u001b[39mreturn\u001b[39;00m apply_ufunc(\n\u001b[0;32m    180\u001b[0m     duck_array_ops\u001b[39m.\u001b[39;49mwhere_method,\n\u001b[0;32m    181\u001b[0m     \u001b[39mself\u001b[39;49m,\n\u001b[0;32m    182\u001b[0m     cond,\n\u001b[0;32m    183\u001b[0m     other,\n\u001b[0;32m    184\u001b[0m     join\u001b[39m=\u001b[39;49mjoin,\n\u001b[0;32m    185\u001b[0m     dataset_join\u001b[39m=\u001b[39;49mjoin,\n\u001b[0;32m    186\u001b[0m     dask\u001b[39m=\u001b[39;49m\u001b[39m\"\u001b[39;49m\u001b[39mallowed\u001b[39;49m\u001b[39m\"\u001b[39;49m,\n\u001b[0;32m    187\u001b[0m     keep_attrs\u001b[39m=\u001b[39;49m\u001b[39mTrue\u001b[39;49;00m,\n\u001b[0;32m    188\u001b[0m )\n",
      "File \u001b[1;32mc:\\Users\\bmarquescost\\anaconda3\\envs\\ia4good\\Lib\\site-packages\\xarray\\core\\computation.py:1197\u001b[0m, in \u001b[0;36mapply_ufunc\u001b[1;34m(func, input_core_dims, output_core_dims, exclude_dims, vectorize, join, dataset_join, dataset_fill_value, keep_attrs, kwargs, dask, output_dtypes, output_sizes, meta, dask_gufunc_kwargs, *args)\u001b[0m\n\u001b[0;32m   1195\u001b[0m \u001b[39m# feed DataArray apply_variable_ufunc through apply_dataarray_vfunc\u001b[39;00m\n\u001b[0;32m   1196\u001b[0m \u001b[39melif\u001b[39;00m \u001b[39many\u001b[39m(\u001b[39misinstance\u001b[39m(a, DataArray) \u001b[39mfor\u001b[39;00m a \u001b[39min\u001b[39;00m args):\n\u001b[1;32m-> 1197\u001b[0m     \u001b[39mreturn\u001b[39;00m apply_dataarray_vfunc(\n\u001b[0;32m   1198\u001b[0m         variables_vfunc,\n\u001b[0;32m   1199\u001b[0m         \u001b[39m*\u001b[39;49margs,\n\u001b[0;32m   1200\u001b[0m         signature\u001b[39m=\u001b[39;49msignature,\n\u001b[0;32m   1201\u001b[0m         join\u001b[39m=\u001b[39;49mjoin,\n\u001b[0;32m   1202\u001b[0m         exclude_dims\u001b[39m=\u001b[39;49mexclude_dims,\n\u001b[0;32m   1203\u001b[0m         keep_attrs\u001b[39m=\u001b[39;49mkeep_attrs,\n\u001b[0;32m   1204\u001b[0m     )\n\u001b[0;32m   1205\u001b[0m \u001b[39m# feed Variables directly through apply_variable_ufunc\u001b[39;00m\n\u001b[0;32m   1206\u001b[0m \u001b[39melif\u001b[39;00m \u001b[39many\u001b[39m(\u001b[39misinstance\u001b[39m(a, Variable) \u001b[39mfor\u001b[39;00m a \u001b[39min\u001b[39;00m args):\n",
      "File \u001b[1;32mc:\\Users\\bmarquescost\\anaconda3\\envs\\ia4good\\Lib\\site-packages\\xarray\\core\\computation.py:304\u001b[0m, in \u001b[0;36mapply_dataarray_vfunc\u001b[1;34m(func, signature, join, exclude_dims, keep_attrs, *args)\u001b[0m\n\u001b[0;32m    299\u001b[0m result_coords, result_indexes \u001b[39m=\u001b[39m build_output_coords_and_indexes(\n\u001b[0;32m    300\u001b[0m     args, signature, exclude_dims, combine_attrs\u001b[39m=\u001b[39mkeep_attrs\n\u001b[0;32m    301\u001b[0m )\n\u001b[0;32m    303\u001b[0m data_vars \u001b[39m=\u001b[39m [\u001b[39mgetattr\u001b[39m(a, \u001b[39m\"\u001b[39m\u001b[39mvariable\u001b[39m\u001b[39m\"\u001b[39m, a) \u001b[39mfor\u001b[39;00m a \u001b[39min\u001b[39;00m args]\n\u001b[1;32m--> 304\u001b[0m result_var \u001b[39m=\u001b[39m func(\u001b[39m*\u001b[39;49mdata_vars)\n\u001b[0;32m    306\u001b[0m out: \u001b[39mtuple\u001b[39m[DataArray, \u001b[39m.\u001b[39m\u001b[39m.\u001b[39m\u001b[39m.\u001b[39m] \u001b[39m|\u001b[39m DataArray\n\u001b[0;32m    307\u001b[0m \u001b[39mif\u001b[39;00m signature\u001b[39m.\u001b[39mnum_outputs \u001b[39m>\u001b[39m \u001b[39m1\u001b[39m:\n",
      "File \u001b[1;32mc:\\Users\\bmarquescost\\anaconda3\\envs\\ia4good\\Lib\\site-packages\\xarray\\core\\computation.py:673\u001b[0m, in \u001b[0;36mapply_variable_ufunc\u001b[1;34m(func, signature, exclude_dims, dask, output_dtypes, vectorize, keep_attrs, dask_gufunc_kwargs, *args)\u001b[0m\n\u001b[0;32m    667\u001b[0m broadcast_dims \u001b[39m=\u001b[39m \u001b[39mtuple\u001b[39m(\n\u001b[0;32m    668\u001b[0m     dim \u001b[39mfor\u001b[39;00m dim \u001b[39min\u001b[39;00m dim_sizes \u001b[39mif\u001b[39;00m dim \u001b[39mnot\u001b[39;00m \u001b[39min\u001b[39;00m signature\u001b[39m.\u001b[39mall_core_dims\n\u001b[0;32m    669\u001b[0m )\n\u001b[0;32m    670\u001b[0m output_dims \u001b[39m=\u001b[39m [broadcast_dims \u001b[39m+\u001b[39m out \u001b[39mfor\u001b[39;00m out \u001b[39min\u001b[39;00m signature\u001b[39m.\u001b[39moutput_core_dims]\n\u001b[0;32m    672\u001b[0m input_data \u001b[39m=\u001b[39m [\n\u001b[1;32m--> 673\u001b[0m     broadcast_compat_data(arg, broadcast_dims, core_dims)\n\u001b[0;32m    674\u001b[0m     \u001b[39mif\u001b[39;00m \u001b[39misinstance\u001b[39m(arg, Variable)\n\u001b[0;32m    675\u001b[0m     \u001b[39melse\u001b[39;00m arg\n\u001b[0;32m    676\u001b[0m     \u001b[39mfor\u001b[39;00m arg, core_dims \u001b[39min\u001b[39;00m \u001b[39mzip\u001b[39m(args, signature\u001b[39m.\u001b[39minput_core_dims)\n\u001b[0;32m    677\u001b[0m ]\n\u001b[0;32m    679\u001b[0m \u001b[39mif\u001b[39;00m \u001b[39many\u001b[39m(is_chunked_array(array) \u001b[39mfor\u001b[39;00m array \u001b[39min\u001b[39;00m input_data):\n\u001b[0;32m    680\u001b[0m     \u001b[39mif\u001b[39;00m dask \u001b[39m==\u001b[39m \u001b[39m\"\u001b[39m\u001b[39mforbidden\u001b[39m\u001b[39m\"\u001b[39m:\n",
      "File \u001b[1;32mc:\\Users\\bmarquescost\\anaconda3\\envs\\ia4good\\Lib\\site-packages\\xarray\\core\\computation.py:588\u001b[0m, in \u001b[0;36mbroadcast_compat_data\u001b[1;34m(variable, broadcast_dims, core_dims)\u001b[0m\n\u001b[0;32m    583\u001b[0m \u001b[39mdef\u001b[39;00m \u001b[39mbroadcast_compat_data\u001b[39m(\n\u001b[0;32m    584\u001b[0m     variable: Variable,\n\u001b[0;32m    585\u001b[0m     broadcast_dims: \u001b[39mtuple\u001b[39m[Hashable, \u001b[39m.\u001b[39m\u001b[39m.\u001b[39m\u001b[39m.\u001b[39m],\n\u001b[0;32m    586\u001b[0m     core_dims: \u001b[39mtuple\u001b[39m[Hashable, \u001b[39m.\u001b[39m\u001b[39m.\u001b[39m\u001b[39m.\u001b[39m],\n\u001b[0;32m    587\u001b[0m ) \u001b[39m-\u001b[39m\u001b[39m>\u001b[39m Any:\n\u001b[1;32m--> 588\u001b[0m     data \u001b[39m=\u001b[39m variable\u001b[39m.\u001b[39;49mdata\n\u001b[0;32m    590\u001b[0m     old_dims \u001b[39m=\u001b[39m variable\u001b[39m.\u001b[39mdims\n\u001b[0;32m    591\u001b[0m     new_dims \u001b[39m=\u001b[39m broadcast_dims \u001b[39m+\u001b[39m core_dims\n",
      "File \u001b[1;32mc:\\Users\\bmarquescost\\anaconda3\\envs\\ia4good\\Lib\\site-packages\\xarray\\core\\variable.py:435\u001b[0m, in \u001b[0;36mVariable.data\u001b[1;34m(self)\u001b[0m\n\u001b[0;32m    433\u001b[0m     \u001b[39mreturn\u001b[39;00m \u001b[39mself\u001b[39m\u001b[39m.\u001b[39m_data\n\u001b[0;32m    434\u001b[0m \u001b[39melif\u001b[39;00m \u001b[39misinstance\u001b[39m(\u001b[39mself\u001b[39m\u001b[39m.\u001b[39m_data, indexing\u001b[39m.\u001b[39mExplicitlyIndexed):\n\u001b[1;32m--> 435\u001b[0m     \u001b[39mreturn\u001b[39;00m \u001b[39mself\u001b[39;49m\u001b[39m.\u001b[39;49m_data\u001b[39m.\u001b[39;49mget_duck_array()\n\u001b[0;32m    436\u001b[0m \u001b[39melse\u001b[39;00m:\n\u001b[0;32m    437\u001b[0m     \u001b[39mreturn\u001b[39;00m \u001b[39mself\u001b[39m\u001b[39m.\u001b[39mvalues\n",
      "File \u001b[1;32mc:\\Users\\bmarquescost\\anaconda3\\envs\\ia4good\\Lib\\site-packages\\xarray\\core\\indexing.py:696\u001b[0m, in \u001b[0;36mMemoryCachedArray.get_duck_array\u001b[1;34m(self)\u001b[0m\n\u001b[0;32m    695\u001b[0m \u001b[39mdef\u001b[39;00m \u001b[39mget_duck_array\u001b[39m(\u001b[39mself\u001b[39m):\n\u001b[1;32m--> 696\u001b[0m     \u001b[39mself\u001b[39;49m\u001b[39m.\u001b[39;49m_ensure_cached()\n\u001b[0;32m    697\u001b[0m     \u001b[39mreturn\u001b[39;00m \u001b[39mself\u001b[39m\u001b[39m.\u001b[39marray\u001b[39m.\u001b[39mget_duck_array()\n",
      "File \u001b[1;32mc:\\Users\\bmarquescost\\anaconda3\\envs\\ia4good\\Lib\\site-packages\\xarray\\core\\indexing.py:690\u001b[0m, in \u001b[0;36mMemoryCachedArray._ensure_cached\u001b[1;34m(self)\u001b[0m\n\u001b[0;32m    689\u001b[0m \u001b[39mdef\u001b[39;00m \u001b[39m_ensure_cached\u001b[39m(\u001b[39mself\u001b[39m):\n\u001b[1;32m--> 690\u001b[0m     \u001b[39mself\u001b[39m\u001b[39m.\u001b[39marray \u001b[39m=\u001b[39m as_indexable(\u001b[39mself\u001b[39;49m\u001b[39m.\u001b[39;49marray\u001b[39m.\u001b[39;49mget_duck_array())\n",
      "File \u001b[1;32mc:\\Users\\bmarquescost\\anaconda3\\envs\\ia4good\\Lib\\site-packages\\xarray\\core\\indexing.py:664\u001b[0m, in \u001b[0;36mCopyOnWriteArray.get_duck_array\u001b[1;34m(self)\u001b[0m\n\u001b[0;32m    663\u001b[0m \u001b[39mdef\u001b[39;00m \u001b[39mget_duck_array\u001b[39m(\u001b[39mself\u001b[39m):\n\u001b[1;32m--> 664\u001b[0m     \u001b[39mreturn\u001b[39;00m \u001b[39mself\u001b[39;49m\u001b[39m.\u001b[39;49marray\u001b[39m.\u001b[39;49mget_duck_array()\n",
      "File \u001b[1;32mc:\\Users\\bmarquescost\\anaconda3\\envs\\ia4good\\Lib\\site-packages\\xarray\\core\\indexing.py:551\u001b[0m, in \u001b[0;36mLazilyIndexedArray.get_duck_array\u001b[1;34m(self)\u001b[0m\n\u001b[0;32m    550\u001b[0m \u001b[39mdef\u001b[39;00m \u001b[39mget_duck_array\u001b[39m(\u001b[39mself\u001b[39m):\n\u001b[1;32m--> 551\u001b[0m     array \u001b[39m=\u001b[39m \u001b[39mself\u001b[39;49m\u001b[39m.\u001b[39;49marray[\u001b[39mself\u001b[39;49m\u001b[39m.\u001b[39;49mkey]\n\u001b[0;32m    552\u001b[0m     \u001b[39m# self.array[self.key] is now a numpy array when\u001b[39;00m\n\u001b[0;32m    553\u001b[0m     \u001b[39m# self.array is a BackendArray subclass\u001b[39;00m\n\u001b[0;32m    554\u001b[0m     \u001b[39m# and self.key is BasicIndexer((slice(None, None, None),))\u001b[39;00m\n\u001b[0;32m    555\u001b[0m     \u001b[39m# so we need the explicit check for ExplicitlyIndexed\u001b[39;00m\n\u001b[0;32m    556\u001b[0m     \u001b[39mif\u001b[39;00m \u001b[39misinstance\u001b[39m(array, ExplicitlyIndexed):\n",
      "File \u001b[1;32mc:\\Users\\bmarquescost\\anaconda3\\envs\\ia4good\\Lib\\site-packages\\cfgrib\\xarray_plugin.py:155\u001b[0m, in \u001b[0;36mCfGribArrayWrapper.__getitem__\u001b[1;34m(self, key)\u001b[0m\n\u001b[0;32m    151\u001b[0m \u001b[39mdef\u001b[39;00m \u001b[39m__getitem__\u001b[39m(\n\u001b[0;32m    152\u001b[0m     \u001b[39mself\u001b[39m,\n\u001b[0;32m    153\u001b[0m     key: xr\u001b[39m.\u001b[39mcore\u001b[39m.\u001b[39mindexing\u001b[39m.\u001b[39mExplicitIndexer,\n\u001b[0;32m    154\u001b[0m ) \u001b[39m-\u001b[39m\u001b[39m>\u001b[39m np\u001b[39m.\u001b[39mndarray:\n\u001b[1;32m--> 155\u001b[0m     \u001b[39mreturn\u001b[39;00m xr\u001b[39m.\u001b[39;49mcore\u001b[39m.\u001b[39;49mindexing\u001b[39m.\u001b[39;49mexplicit_indexing_adapter(\n\u001b[0;32m    156\u001b[0m         key, \u001b[39mself\u001b[39;49m\u001b[39m.\u001b[39;49mshape, xr\u001b[39m.\u001b[39;49mcore\u001b[39m.\u001b[39;49mindexing\u001b[39m.\u001b[39;49mIndexingSupport\u001b[39m.\u001b[39;49mBASIC, \u001b[39mself\u001b[39;49m\u001b[39m.\u001b[39;49m_getitem\n\u001b[0;32m    157\u001b[0m     )\n",
      "File \u001b[1;32mc:\\Users\\bmarquescost\\anaconda3\\envs\\ia4good\\Lib\\site-packages\\xarray\\core\\indexing.py:858\u001b[0m, in \u001b[0;36mexplicit_indexing_adapter\u001b[1;34m(key, shape, indexing_support, raw_indexing_method)\u001b[0m\n\u001b[0;32m    836\u001b[0m \u001b[39m\u001b[39m\u001b[39m\"\"\"Support explicit indexing by delegating to a raw indexing method.\u001b[39;00m\n\u001b[0;32m    837\u001b[0m \n\u001b[0;32m    838\u001b[0m \u001b[39mOuter and/or vectorized indexers are supported by indexing a second time\u001b[39;00m\n\u001b[1;32m   (...)\u001b[0m\n\u001b[0;32m    855\u001b[0m \u001b[39mIndexing result, in the form of a duck numpy-array.\u001b[39;00m\n\u001b[0;32m    856\u001b[0m \u001b[39m\"\"\"\u001b[39;00m\n\u001b[0;32m    857\u001b[0m raw_key, numpy_indices \u001b[39m=\u001b[39m decompose_indexer(key, shape, indexing_support)\n\u001b[1;32m--> 858\u001b[0m result \u001b[39m=\u001b[39m raw_indexing_method(raw_key\u001b[39m.\u001b[39;49mtuple)\n\u001b[0;32m    859\u001b[0m \u001b[39mif\u001b[39;00m numpy_indices\u001b[39m.\u001b[39mtuple:\n\u001b[0;32m    860\u001b[0m     \u001b[39m# index the loaded np.ndarray\u001b[39;00m\n\u001b[0;32m    861\u001b[0m     result \u001b[39m=\u001b[39m NumpyIndexingAdapter(result)[numpy_indices]\n",
      "File \u001b[1;32mc:\\Users\\bmarquescost\\anaconda3\\envs\\ia4good\\Lib\\site-packages\\cfgrib\\xarray_plugin.py:164\u001b[0m, in \u001b[0;36mCfGribArrayWrapper._getitem\u001b[1;34m(self, key)\u001b[0m\n\u001b[0;32m    159\u001b[0m \u001b[39mdef\u001b[39;00m \u001b[39m_getitem\u001b[39m(\n\u001b[0;32m    160\u001b[0m     \u001b[39mself\u001b[39m,\n\u001b[0;32m    161\u001b[0m     key: T\u001b[39m.\u001b[39mTuple[T\u001b[39m.\u001b[39mAny, \u001b[39m.\u001b[39m\u001b[39m.\u001b[39m\u001b[39m.\u001b[39m],\n\u001b[0;32m    162\u001b[0m ) \u001b[39m-\u001b[39m\u001b[39m>\u001b[39m np\u001b[39m.\u001b[39mndarray:\n\u001b[0;32m    163\u001b[0m     \u001b[39mwith\u001b[39;00m \u001b[39mself\u001b[39m\u001b[39m.\u001b[39mdatastore\u001b[39m.\u001b[39mlock:\n\u001b[1;32m--> 164\u001b[0m         \u001b[39mreturn\u001b[39;00m \u001b[39mself\u001b[39;49m\u001b[39m.\u001b[39;49marray[key]\n",
      "File \u001b[1;32mc:\\Users\\bmarquescost\\anaconda3\\envs\\ia4good\\Lib\\site-packages\\cfgrib\\dataset.py:351\u001b[0m, in \u001b[0;36mOnDiskArray.__getitem__\u001b[1;34m(self, item)\u001b[0m\n\u001b[0;32m    349\u001b[0m header_item \u001b[39m=\u001b[39m [{ix: i \u001b[39mfor\u001b[39;00m i, ix \u001b[39min\u001b[39;00m \u001b[39menumerate\u001b[39m(it)} \u001b[39mfor\u001b[39;00m it \u001b[39min\u001b[39;00m header_item_list]\n\u001b[0;32m    350\u001b[0m array_field_shape \u001b[39m=\u001b[39m \u001b[39mtuple\u001b[39m(\u001b[39mlen\u001b[39m(i) \u001b[39mfor\u001b[39;00m i \u001b[39min\u001b[39;00m header_item_list) \u001b[39m+\u001b[39m \u001b[39mself\u001b[39m\u001b[39m.\u001b[39mshape[\u001b[39m-\u001b[39m\u001b[39mself\u001b[39m\u001b[39m.\u001b[39mgeo_ndim :]\n\u001b[1;32m--> 351\u001b[0m array_field \u001b[39m=\u001b[39m np\u001b[39m.\u001b[39;49mfull(array_field_shape, fill_value\u001b[39m=\u001b[39;49mnp\u001b[39m.\u001b[39;49mnan, dtype\u001b[39m=\u001b[39;49m\u001b[39m\"\u001b[39;49m\u001b[39mfloat32\u001b[39;49m\u001b[39m\"\u001b[39;49m)\n\u001b[0;32m    352\u001b[0m \u001b[39mfor\u001b[39;00m header_indexes, message_ids \u001b[39min\u001b[39;00m \u001b[39mself\u001b[39m\u001b[39m.\u001b[39mfield_id_index\u001b[39m.\u001b[39mitems():\n\u001b[0;32m    353\u001b[0m     \u001b[39mtry\u001b[39;00m:\n",
      "File \u001b[1;32mc:\\Users\\bmarquescost\\anaconda3\\envs\\ia4good\\Lib\\site-packages\\numpy\\core\\numeric.py:329\u001b[0m, in \u001b[0;36mfull\u001b[1;34m(shape, fill_value, dtype, order, like)\u001b[0m\n\u001b[0;32m    327\u001b[0m     fill_value \u001b[39m=\u001b[39m asarray(fill_value)\n\u001b[0;32m    328\u001b[0m     dtype \u001b[39m=\u001b[39m fill_value\u001b[39m.\u001b[39mdtype\n\u001b[1;32m--> 329\u001b[0m a \u001b[39m=\u001b[39m empty(shape, dtype, order)\n\u001b[0;32m    330\u001b[0m multiarray\u001b[39m.\u001b[39mcopyto(a, fill_value, casting\u001b[39m=\u001b[39m\u001b[39m'\u001b[39m\u001b[39munsafe\u001b[39m\u001b[39m'\u001b[39m)\n\u001b[0;32m    331\u001b[0m \u001b[39mreturn\u001b[39;00m a\n",
      "\u001b[1;31mMemoryError\u001b[0m: Unable to allocate 17.1 GiB for an array with shape (50406, 161, 565) and data type float32"
     ]
    }
   ],
   "source": [
    "sao_paulo = temperature.where(temperature.latitude - (-23.533773) + temperature.longitude - (-46.625290) < 0.01)"
   ]
  },
  {
   "cell_type": "markdown",
   "metadata": {},
   "source": [
    "## **Encontrar cidades grandes do Brasil**"
   ]
  },
  {
   "cell_type": "markdown",
   "metadata": {},
   "source": [
    "### **Dados das cidades**\n",
    "- Encontrar as latitudes e longitudes das principais cidades brasileiras: rio, salvador, brasilia, bh, são paulo, manaus\n",
    "- Encontrar a temperatura da cidade com base na latitude e longitude\n",
    "  - **Série temporal de 2000 - 2023, de 4 em 4 horas, para todos os dias, da temperatura da cidade**\n",
    "\n",
    "### **Dados do El Niño**\n",
    "\n",
    "- Encontrar a latitude e longitude do El Niño\n",
    "- Calcular a média das temperaturas na região do El Niño\n",
    "  - **Série temporal de 2000 - 2032, de 4 em 4 horas, para todos os dias, da temperatura na região do El niño**"
   ]
  },
  {
   "cell_type": "markdown",
   "metadata": {},
   "source": [
    "### **Obtendo dados de São Paulo**"
   ]
  },
  {
   "cell_type": "code",
   "execution_count": 23,
   "metadata": {},
   "outputs": [],
   "source": [
    "import cdsapi\n",
    "c = cdsapi.Client()"
   ]
  },
  {
   "cell_type": "code",
   "execution_count": 24,
   "metadata": {},
   "outputs": [],
   "source": [
    "days = [str(i).zfill(2) for i in range(1, 32)]\n",
    "months = [str(i).zfill(2) for i in range(1, 13)]\n",
    "years = [str(i) for i in range(2000, 2023)]\n",
    "time = [str(i).zfill(2) + ':00' for i in range(0, 24, 4)]\n",
    "area = [-23, -47, -24, -45]"
   ]
  },
  {
   "cell_type": "code",
   "execution_count": 25,
   "metadata": {},
   "outputs": [
    {
     "name": "stderr",
     "output_type": "stream",
     "text": [
      "2023-11-23 20:35:45,303 INFO Welcome to the CDS\n",
      "2023-11-23 20:35:45,304 INFO Sending request to https://cds.climate.copernicus.eu/api/v2/resources/reanalysis-era5-single-levels\n",
      "2023-11-23 20:35:45,593 INFO Request is completed\n",
      "2023-11-23 20:35:45,594 INFO Downloading https://download-0011-clone.copernicus-climate.eu/cache-compute-0011/cache/data7/adaptor.mars.internal-1700778255.0761623-8851-1-522a20ad-b3dd-49aa-bda0-8d8719ffd8df.grib to download_sao_paulo.grib (11.5M)\n",
      "2023-11-23 20:35:54,257 INFO Download rate 1.3M/s   \n"
     ]
    },
    {
     "data": {
      "text/plain": [
       "Result(content_length=12097440,content_type=application/x-grib,location=https://download-0011-clone.copernicus-climate.eu/cache-compute-0011/cache/data7/adaptor.mars.internal-1700778255.0761623-8851-1-522a20ad-b3dd-49aa-bda0-8d8719ffd8df.grib)"
      ]
     },
     "execution_count": 25,
     "metadata": {},
     "output_type": "execute_result"
    }
   ],
   "source": [
    "c.retrieve(\n",
    "    'reanalysis-era5-single-levels',\n",
    "    {\n",
    "        'product_type': 'reanalysis',\n",
    "        'format': 'grib',\n",
    "        'month': months,\n",
    "        'year': years,\n",
    "        'day': days,\n",
    "        'time': time,\n",
    "        'variable': '2m_temperature',\n",
    "        'area': area\n",
    "    },\n",
    "    'download_sao_paulo.grib'\n",
    ")"
   ]
  },
  {
   "cell_type": "code",
   "execution_count": 26,
   "metadata": {},
   "outputs": [
    {
     "name": "stdout",
     "output_type": "stream",
     "text": [
      "<xarray.Dataset>\n",
      "Dimensions:     (time: 50406, latitude: 5, longitude: 9)\n",
      "Coordinates:\n",
      "    number      int32 ...\n",
      "  * time        (time) datetime64[ns] 2000-01-01 ... 2022-12-31T20:00:00\n",
      "    step        timedelta64[ns] ...\n",
      "    surface     float64 ...\n",
      "  * latitude    (latitude) float64 -23.0 -23.25 -23.5 -23.75 -24.0\n",
      "  * longitude   (longitude) float64 -47.0 -46.75 -46.5 ... -45.5 -45.25 315.0\n",
      "    valid_time  (time) datetime64[ns] ...\n",
      "Data variables:\n",
      "    t2m         (time, latitude, longitude) float32 ...\n",
      "Attributes:\n",
      "    GRIB_edition:            1\n",
      "    GRIB_centre:             ecmf\n",
      "    GRIB_centreDescription:  European Centre for Medium-Range Weather Forecasts\n",
      "    GRIB_subCentre:          0\n",
      "    Conventions:             CF-1.7\n",
      "    institution:             European Centre for Medium-Range Weather Forecasts\n",
      "    history:                 2023-11-23T20:37 GRIB to CDM+CF via cfgrib-0.9.1...\n",
      "<xarray.DataArray 't2m' (time: 50406, latitude: 5, longitude: 9)>\n",
      "[2268270 values with dtype=float32]\n",
      "Coordinates:\n",
      "    number      int32 ...\n",
      "  * time        (time) datetime64[ns] 2000-01-01 ... 2022-12-31T20:00:00\n",
      "    step        timedelta64[ns] ...\n",
      "    surface     float64 ...\n",
      "  * latitude    (latitude) float64 -23.0 -23.25 -23.5 -23.75 -24.0\n",
      "  * longitude   (longitude) float64 -47.0 -46.75 -46.5 ... -45.5 -45.25 315.0\n",
      "    valid_time  (time) datetime64[ns] ...\n",
      "Attributes: (12/30)\n",
      "    GRIB_paramId:                             167\n",
      "    GRIB_dataType:                            an\n",
      "    GRIB_numberOfPoints:                      45\n",
      "    GRIB_typeOfLevel:                         surface\n",
      "    GRIB_stepUnits:                           1\n",
      "    GRIB_stepType:                            instant\n",
      "    ...                                       ...\n",
      "    GRIB_shortName:                           2t\n",
      "    GRIB_totalNumber:                         0\n",
      "    GRIB_units:                               K\n",
      "    long_name:                                2 metre temperature\n",
      "    units:                                    K\n",
      "    standard_name:                            unknown\n"
     ]
    }
   ],
   "source": [
    "import xarray as xr\n",
    "import cfgrib\n",
    "\n",
    "# Load the GRIB file\n",
    "ds = xr.open_dataset('download_sao_paulo.grib', engine='cfgrib')\n",
    "\n",
    "print(ds)\n",
    "\n",
    "# Access a specific variable\n",
    "temperature = ds['t2m']\n",
    "print(temperature)"
   ]
  },
  {
   "cell_type": "code",
   "execution_count": 47,
   "metadata": {},
   "outputs": [],
   "source": [
    "import pandas "
   ]
  },
  {
   "cell_type": "code",
   "execution_count": 28,
   "metadata": {},
   "outputs": [],
   "source": [
    "sao_paulo = temperature.where(temperature.latitude - (-23.533773) + temperature.longitude - (-46.625290) < 0.01)"
   ]
  },
  {
   "cell_type": "code",
   "execution_count": 40,
   "metadata": {},
   "outputs": [],
   "source": [
    "df = sao_paulo.to_dataframe().reset_index()"
   ]
  },
  {
   "cell_type": "code",
   "execution_count": 41,
   "metadata": {},
   "outputs": [],
   "source": [
    "df_sao_paulo_temperatures = df[df['t2m'].notna()]"
   ]
  },
  {
   "cell_type": "code",
   "execution_count": 43,
   "metadata": {},
   "outputs": [],
   "source": [
    "df_sao_paulo_temperatures = df_sao_paulo_temperatures.groupby('time').agg({'t2m': 'mean'}).reset_index()"
   ]
  },
  {
   "cell_type": "code",
   "execution_count": 44,
   "metadata": {},
   "outputs": [
    {
     "data": {
      "text/html": [
       "<div>\n",
       "<style scoped>\n",
       "    .dataframe tbody tr th:only-of-type {\n",
       "        vertical-align: middle;\n",
       "    }\n",
       "\n",
       "    .dataframe tbody tr th {\n",
       "        vertical-align: top;\n",
       "    }\n",
       "\n",
       "    .dataframe thead th {\n",
       "        text-align: right;\n",
       "    }\n",
       "</style>\n",
       "<table border=\"1\" class=\"dataframe\">\n",
       "  <thead>\n",
       "    <tr style=\"text-align: right;\">\n",
       "      <th></th>\n",
       "      <th>time</th>\n",
       "      <th>t2m</th>\n",
       "    </tr>\n",
       "  </thead>\n",
       "  <tbody>\n",
       "    <tr>\n",
       "      <th>0</th>\n",
       "      <td>2000-01-01 00:00:00</td>\n",
       "      <td>295.405792</td>\n",
       "    </tr>\n",
       "    <tr>\n",
       "      <th>1</th>\n",
       "      <td>2000-01-01 04:00:00</td>\n",
       "      <td>294.166840</td>\n",
       "    </tr>\n",
       "    <tr>\n",
       "      <th>2</th>\n",
       "      <td>2000-01-01 08:00:00</td>\n",
       "      <td>294.208496</td>\n",
       "    </tr>\n",
       "    <tr>\n",
       "      <th>3</th>\n",
       "      <td>2000-01-01 12:00:00</td>\n",
       "      <td>295.512909</td>\n",
       "    </tr>\n",
       "    <tr>\n",
       "      <th>4</th>\n",
       "      <td>2000-01-01 16:00:00</td>\n",
       "      <td>296.298340</td>\n",
       "    </tr>\n",
       "    <tr>\n",
       "      <th>...</th>\n",
       "      <td>...</td>\n",
       "      <td>...</td>\n",
       "    </tr>\n",
       "    <tr>\n",
       "      <th>50401</th>\n",
       "      <td>2022-12-31 04:00:00</td>\n",
       "      <td>293.031555</td>\n",
       "    </tr>\n",
       "    <tr>\n",
       "      <th>50402</th>\n",
       "      <td>2022-12-31 08:00:00</td>\n",
       "      <td>292.620880</td>\n",
       "    </tr>\n",
       "    <tr>\n",
       "      <th>50403</th>\n",
       "      <td>2022-12-31 12:00:00</td>\n",
       "      <td>295.308746</td>\n",
       "    </tr>\n",
       "    <tr>\n",
       "      <th>50404</th>\n",
       "      <td>2022-12-31 16:00:00</td>\n",
       "      <td>298.525208</td>\n",
       "    </tr>\n",
       "    <tr>\n",
       "      <th>50405</th>\n",
       "      <td>2022-12-31 20:00:00</td>\n",
       "      <td>296.524384</td>\n",
       "    </tr>\n",
       "  </tbody>\n",
       "</table>\n",
       "<p>50406 rows × 2 columns</p>\n",
       "</div>"
      ],
      "text/plain": [
       "                     time         t2m\n",
       "0     2000-01-01 00:00:00  295.405792\n",
       "1     2000-01-01 04:00:00  294.166840\n",
       "2     2000-01-01 08:00:00  294.208496\n",
       "3     2000-01-01 12:00:00  295.512909\n",
       "4     2000-01-01 16:00:00  296.298340\n",
       "...                   ...         ...\n",
       "50401 2022-12-31 04:00:00  293.031555\n",
       "50402 2022-12-31 08:00:00  292.620880\n",
       "50403 2022-12-31 12:00:00  295.308746\n",
       "50404 2022-12-31 16:00:00  298.525208\n",
       "50405 2022-12-31 20:00:00  296.524384\n",
       "\n",
       "[50406 rows x 2 columns]"
      ]
     },
     "execution_count": 44,
     "metadata": {},
     "output_type": "execute_result"
    }
   ],
   "source": [
    "df_sao_paulo_temperatures"
   ]
  },
  {
   "cell_type": "code",
   "execution_count": 48,
   "metadata": {},
   "outputs": [
    {
     "ename": "ImportError",
     "evalue": "matplotlib is required for plotting when the default backend \"matplotlib\" is selected.",
     "output_type": "error",
     "traceback": [
      "\u001b[1;31m---------------------------------------------------------------------------\u001b[0m",
      "\u001b[1;31mImportError\u001b[0m                               Traceback (most recent call last)",
      "\u001b[1;32mc:\\Users\\bmarquescost\\Desktop\\usp\\ia4good-hackathon\\el_nino.ipynb Cell 20\u001b[0m line \u001b[0;36m1\n\u001b[1;32m----> <a href='vscode-notebook-cell:/c%3A/Users/bmarquescost/Desktop/usp/ia4good-hackathon/el_nino.ipynb#X35sZmlsZQ%3D%3D?line=0'>1</a>\u001b[0m df_sao_paulo_temperatures\u001b[39m.\u001b[39;49mplot()\n",
      "File \u001b[1;32mc:\\Users\\bmarquescost\\anaconda3\\envs\\ia4good\\Lib\\site-packages\\pandas\\plotting\\_core.py:951\u001b[0m, in \u001b[0;36mPlotAccessor.__call__\u001b[1;34m(self, *args, **kwargs)\u001b[0m\n\u001b[0;32m    950\u001b[0m \u001b[39mdef\u001b[39;00m \u001b[39m__call__\u001b[39m(\u001b[39mself\u001b[39m, \u001b[39m*\u001b[39margs, \u001b[39m*\u001b[39m\u001b[39m*\u001b[39mkwargs):\n\u001b[1;32m--> 951\u001b[0m     plot_backend \u001b[39m=\u001b[39m _get_plot_backend(kwargs\u001b[39m.\u001b[39;49mpop(\u001b[39m\"\u001b[39;49m\u001b[39mbackend\u001b[39;49m\u001b[39m\"\u001b[39;49m, \u001b[39mNone\u001b[39;49;00m))\n\u001b[0;32m    953\u001b[0m     x, y, kind, kwargs \u001b[39m=\u001b[39m \u001b[39mself\u001b[39m\u001b[39m.\u001b[39m_get_call_args(\n\u001b[0;32m    954\u001b[0m         plot_backend\u001b[39m.\u001b[39m\u001b[39m__name__\u001b[39m, \u001b[39mself\u001b[39m\u001b[39m.\u001b[39m_parent, args, kwargs\n\u001b[0;32m    955\u001b[0m     )\n\u001b[0;32m    957\u001b[0m     kind \u001b[39m=\u001b[39m \u001b[39mself\u001b[39m\u001b[39m.\u001b[39m_kind_aliases\u001b[39m.\u001b[39mget(kind, kind)\n",
      "File \u001b[1;32mc:\\Users\\bmarquescost\\anaconda3\\envs\\ia4good\\Lib\\site-packages\\pandas\\plotting\\_core.py:1947\u001b[0m, in \u001b[0;36m_get_plot_backend\u001b[1;34m(backend)\u001b[0m\n\u001b[0;32m   1944\u001b[0m \u001b[39mif\u001b[39;00m backend_str \u001b[39min\u001b[39;00m _backends:\n\u001b[0;32m   1945\u001b[0m     \u001b[39mreturn\u001b[39;00m _backends[backend_str]\n\u001b[1;32m-> 1947\u001b[0m module \u001b[39m=\u001b[39m _load_backend(backend_str)\n\u001b[0;32m   1948\u001b[0m _backends[backend_str] \u001b[39m=\u001b[39m module\n\u001b[0;32m   1949\u001b[0m \u001b[39mreturn\u001b[39;00m module\n",
      "File \u001b[1;32mc:\\Users\\bmarquescost\\anaconda3\\envs\\ia4good\\Lib\\site-packages\\pandas\\plotting\\_core.py:1877\u001b[0m, in \u001b[0;36m_load_backend\u001b[1;34m(backend)\u001b[0m\n\u001b[0;32m   1875\u001b[0m         module \u001b[39m=\u001b[39m importlib\u001b[39m.\u001b[39mimport_module(\u001b[39m\"\u001b[39m\u001b[39mpandas.plotting._matplotlib\u001b[39m\u001b[39m\"\u001b[39m)\n\u001b[0;32m   1876\u001b[0m     \u001b[39mexcept\u001b[39;00m \u001b[39mImportError\u001b[39;00m:\n\u001b[1;32m-> 1877\u001b[0m         \u001b[39mraise\u001b[39;00m \u001b[39mImportError\u001b[39;00m(\n\u001b[0;32m   1878\u001b[0m             \u001b[39m\"\u001b[39m\u001b[39mmatplotlib is required for plotting when the \u001b[39m\u001b[39m\"\u001b[39m\n\u001b[0;32m   1879\u001b[0m             \u001b[39m'\u001b[39m\u001b[39mdefault backend \u001b[39m\u001b[39m\"\u001b[39m\u001b[39mmatplotlib\u001b[39m\u001b[39m\"\u001b[39m\u001b[39m is selected.\u001b[39m\u001b[39m'\u001b[39m\n\u001b[0;32m   1880\u001b[0m         ) \u001b[39mfrom\u001b[39;00m \u001b[39mNone\u001b[39;00m\n\u001b[0;32m   1881\u001b[0m     \u001b[39mreturn\u001b[39;00m module\n\u001b[0;32m   1883\u001b[0m found_backend \u001b[39m=\u001b[39m \u001b[39mFalse\u001b[39;00m\n",
      "\u001b[1;31mImportError\u001b[0m: matplotlib is required for plotting when the default backend \"matplotlib\" is selected."
     ]
    }
   ],
   "source": [
    "df_sao_paulo_temperatures.plot()"
   ]
  },
  {
   "cell_type": "markdown",
   "metadata": {},
   "source": [
    "## **Análises de Séries Temporais**\n",
    "\n",
    "- Verificar estacionariedade\n",
    "- Verificar sazonalidade\n",
    "- Computar o ACF (Autocorrelation Function) e PACF (Partial Autocorrelation Function)"
   ]
  },
  {
   "cell_type": "markdown",
   "metadata": {},
   "source": [
    "## **ML**\n",
    "\n",
    "### **Primeiro passo**\n",
    "\n",
    "Utilizar modelos de Série Temporal para prever a temperatura de uma cidade com base exclusivamente na temperatura histórica de cada cidade.\n",
    "\n",
    "### **Unindo os dados**\n",
    "\n",
    "Utilizar modelos de Série Temporal multi-variado para agregar as informações da série temporal da cidade e a série temporal histórica do El Niño, para prever a temperatura de cada cidade."
   ]
  },
  {
   "cell_type": "markdown",
   "metadata": {},
   "source": [
    "## **Possíveis conclusões**\n",
    "\n",
    "- Iremos observar se é possível utilizar os dados históricos do El Niño para agregar como feature para a predição da temperatura de cidades brasileiras\n",
    "- Rankear as cidades em que a previsão da temperatura foi impactada positivamente pelo utilização dessa outra série temporal"
   ]
  }
 ],
 "metadata": {
  "kernelspec": {
   "display_name": "ia4good",
   "language": "python",
   "name": "python3"
  },
  "language_info": {
   "codemirror_mode": {
    "name": "ipython",
    "version": 3
   },
   "file_extension": ".py",
   "mimetype": "text/x-python",
   "name": "python",
   "nbconvert_exporter": "python",
   "pygments_lexer": "ipython3",
   "version": "3.12.0"
  }
 },
 "nbformat": 4,
 "nbformat_minor": 2
}
